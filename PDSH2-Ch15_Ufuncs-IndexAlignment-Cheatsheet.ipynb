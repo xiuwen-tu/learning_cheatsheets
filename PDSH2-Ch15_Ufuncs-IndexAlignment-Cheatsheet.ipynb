{
 "cells": [
  {
   "cell_type": "markdown",
   "id": "6500dd8f-3833-437f-a5e4-75dde5eb6736",
   "metadata": {},
   "source": [
    "- 15.1 Index Preservation\n",
    "    - Any NumPy ufunc will work on pd.Series or pd.DataFrame objs, resulting in another obj with the indices preserved.\n",
    "    - `rng = np.random.default_rng(random_state=); my_var = rng.integers(low, high, size)`\n",
    "- 15.2 Index Alignment\n",
    "    - Index alignment provides context and makes it easy to calculate between pd.S objs or between pd.DF objects.\n",
    "    - Index alignment results in NaN values by default for index values that are not aligned. \n",
    "        - Override this with keyword `fill_value=` in the arithmetic method, \n",
    "        - e.g. `A1.add(B1, fill_value=0)`.\n",
    "- 15.3 Ops between pd.DF and pd.S objects\n",
    "    - A NumPy 2D array can subtract a NumPy 1D array _row by row_, \n",
    "        - e.g. `A3 = rng.integers(10, size=(3, 4)); A3 - A3[0]`\n",
    "    - A pd.DF can subtract a pd.S also _row by row_.\n",
    "        - Override this with keyword `axis=0` in the pd.DF's arithmetic method, \n",
    "            - e.g. `df2.subtract(df2['R'], axis=0)`.\n",
    "        - This subtraction results in NaN values for index values that are not aligned."
   ]
  },
  {
   "cell_type": "code",
   "execution_count": null,
   "id": "7bea433a-fa19-474a-8a2e-b47409a1e0f8",
   "metadata": {},
   "outputs": [],
   "source": []
  }
 ],
 "metadata": {
  "kernelspec": {
   "display_name": "Python 3 (ipykernel)",
   "language": "python",
   "name": "python3"
  },
  "language_info": {
   "codemirror_mode": {
    "name": "ipython",
    "version": 3
   },
   "file_extension": ".py",
   "mimetype": "text/x-python",
   "name": "python",
   "nbconvert_exporter": "python",
   "pygments_lexer": "ipython3",
   "version": "3.11.0"
  }
 },
 "nbformat": 4,
 "nbformat_minor": 5
}

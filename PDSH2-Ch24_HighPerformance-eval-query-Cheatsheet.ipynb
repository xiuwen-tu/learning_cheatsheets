{
 "cells": [
  {
   "cell_type": "markdown",
   "id": "ce40bf93-0a2d-428c-9291-f4b206a156ee",
   "metadata": {},
   "source": [
    "- 24.1 Motivating `.eval()` and `.query()`: Compound Expressions\n",
    "    - Inspect the size of a NumPy array: `x.ndim, x.shape, x.size, x.itemsize, x.nbytes, f'{x.nbytes:.2E}'`\n",
    "    - Magic commands: `%time` for timing 1x and `%timeit` for timing repeatedly;\n",
    "        - NumPy vector addition: `%timeit x + y`\n",
    "        - Python for-loop addition: `%timeit np.fromiter((xi + yi for xi, yi in zip(x, y)), dtype=x.dtype, count=len(x))`\n",
    "        - ~70x speed difference when array memory usage << RAM size, less difference as the array sizes grow towards RAM size.\n",
    "        - As the combined arrays' size approaches ~30-50% of RAM size, Wall time becomes increasingly longer than CPU time.\n",
    "            - Let's call the difference the \"Memory time\".\n",
    "- 24.2 `pd.eval()` for DF Ops\n",
    "    - Add 4 DFs: `pd.eval('df01 + df02 + df03 + df04')`\n",
    "    - Confirm 2 DFs' elements are all close: `np.allclose()`\n",
    "- 24.3 `df.eval()` for Column-Wise Ops\n",
    "    - Among these calcs with existing cols, r3 is the slowest:\n",
    "        - `%time r1 = (df.A + df.B) / (df.C -1)`\n",
    "        - `%time r2 = pd.eval('(df.A + df.B) / (df.C -1)')`\n",
    "        - `%time r3 = df.eval('(A + B) / (C - 1)')`\n",
    "    - Add a new col: `df.eval('D = (A + B) / C', inplace=True)`\n",
    "    - Access local vars with `@`: e.g. `r2 = df.eval('A + @s_mean')`\n",
    "- 24.4 `df.query()`: More Readable but Slower\n",
    "    - Among these, `df.query()` is the slowest. _?_\n",
    "        - `%time r1 = df[(df.A < 0.5) & (df.B < 0.5)]`\n",
    "        - `%time r2 = pd.eval('df[(df.A < 0.5) & (df.B < 0.5)]')`\n",
    "        - `%time r3 = df[df.eval('(A < 0.5) & (B < 0.5)')]`\n",
    "        - `%time r4 = df.query('(A < 0.5) & (B < 0.5)')`\n",
    "    - Among these,\n",
    "        - `%time r1 = df[(df.A < cmean) & (df.B < cmean)]`\n",
    "        - `%time r2 = df.query('(A < @cmean) & (B < @cmean)')`"
   ]
  },
  {
   "cell_type": "code",
   "execution_count": null,
   "id": "97730196-4215-45ab-9110-3dda7bed6b24",
   "metadata": {},
   "outputs": [],
   "source": []
  }
 ],
 "metadata": {
  "kernelspec": {
   "display_name": "Python 3 (ipykernel)",
   "language": "python",
   "name": "python3"
  },
  "language_info": {
   "codemirror_mode": {
    "name": "ipython",
    "version": 3
   },
   "file_extension": ".py",
   "mimetype": "text/x-python",
   "name": "python",
   "nbconvert_exporter": "python",
   "pygments_lexer": "ipython3",
   "version": "3.11.0"
  }
 },
 "nbformat": 4,
 "nbformat_minor": 5
}

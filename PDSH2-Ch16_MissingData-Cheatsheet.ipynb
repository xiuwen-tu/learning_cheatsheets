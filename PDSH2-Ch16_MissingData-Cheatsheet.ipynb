{
 "cells": [
  {
   "cell_type": "markdown",
   "id": "38c6cbd7-db7c-46f4-9725-7bb656ee1aa8",
   "metadata": {},
   "source": [
    "- 16.1 Two Missing Data Conventions:\n",
    "    1. Using a `mask` that globally indicates missing values, and \n",
    "    2. Using a `sentinel value` that locally identifies a missing entry.\n",
    "- 16.2 Missing Data in Pandas\n",
    "    - Pandas has two \"modes\":\n",
    "        1. Default mode uses sentinel values `NaN` or `None`;\n",
    "        2. Optional mode uses the nullable dtypes of Pandas, which result in the creation an accompying mask array and present to the user as `pd.NA`.\n",
    "    - `None`: Sentinel Value for Non-Numerical Data\n",
    "        - Python does not support arithmetic ops with `None`, i.e. not an option as a sentinel in its numerical arrays.\n",
    "    - `NaN`: Sentinel Value for Missing Numerical Data\n",
    "        - Downside of `NaN`: As a floating-point value, `NaN` doesn't have equivalent values for int, str, or other types.\n",
    "    - Pandas is built to handle `None` and `NaN` nearly interchangeably, converting between them where appropriate.\n",
    "- 16.3 Pandas Nullable DTypes\n",
    "    - _Q: For new scripts, does it make sense to use the Pandas nullable types exclusively? When is this not a good idea?_\n",
    "- 16.4 Working with Missing Data\n",
    "    - Detecting Missing Data with `.isna()` and `.notna()`\n",
    "    - Dropping Missing Data with `.dropna(how=, thresh=, axis=)`\n",
    "    - Filling Missing Data with `.fillna(method=, axis=)`"
   ]
  },
  {
   "cell_type": "code",
   "execution_count": null,
   "id": "9a3e1801-7ff0-4429-8307-2ad4be9c9a6e",
   "metadata": {},
   "outputs": [],
   "source": []
  }
 ],
 "metadata": {
  "kernelspec": {
   "display_name": "Python 3 (ipykernel)",
   "language": "python",
   "name": "python3"
  },
  "language_info": {
   "codemirror_mode": {
    "name": "ipython",
    "version": 3
   },
   "file_extension": ".py",
   "mimetype": "text/x-python",
   "name": "python",
   "nbconvert_exporter": "python",
   "pygments_lexer": "ipython3",
   "version": "3.11.0"
  }
 },
 "nbformat": 4,
 "nbformat_minor": 5
}

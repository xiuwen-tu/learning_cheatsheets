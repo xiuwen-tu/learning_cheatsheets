{
 "cells": [
  {
   "cell_type": "markdown",
   "id": "c34e9fb6-dee2-4eed-a2a0-41b615cd438b",
   "metadata": {},
   "source": [
    "- 20.1 Planets Data in Seaborn\n",
    "    - `planets = sns.load_dataset('planets')`\n",
    "- 20.2 Simple Aggregations in Pandas with `.mean()`, `.sum()`, `.describe()`, etc\n",
    "    - Keyword `axis=`\n",
    "- 20.3 Advanced Aggregations in Pandas with `.groupby()`\n",
    "    - Conceptual: split, apply, combine\n",
    "    - The GroubBy objects: Where the magic happens. Think of it as a special view of the DF or Series.\n",
    "        - Column indexing:\n",
    "            - `planets.groupby('method')` returns a 'DataFrameGroupBy' obj;\n",
    "            - `planets.groupby('method')['orbital_period']` returns a 'SeriesGroupBy' obj.\n",
    "        - Iterate over groups: `for (method, group) in planets.groupby('method'):`\n",
    "        - Dispatch methods: `planets.groupby('method')['year'].describe()`\n",
    "        - AFTA:\n",
    "            - Aggregate with `g.aggregate(agg_list | col_agg_dict)`\n",
    "            - Filter with `g.filter(my_filter_func)`\n",
    "            - Transform with `g.transform(my_transform_func)`\n",
    "            - Apply with `df.groupby('key', group_keys=True).apply(my_norm_func)`\n",
    "    - Specifying the split key:\n",
    "        - A list, col, array, or index providing the grouping keys\n",
    "        - A dict or series mapping index to group\n",
    "        - Any Python function\n",
    "        - A list of valid keys\n",
    "    - Example: `planets.groupby(['method', decade])['number'].sum().unstack().fillna(0)`"
   ]
  },
  {
   "cell_type": "code",
   "execution_count": null,
   "id": "d01bce26-5029-4adb-b619-1195e03420d9",
   "metadata": {},
   "outputs": [],
   "source": []
  }
 ],
 "metadata": {
  "kernelspec": {
   "display_name": "Python 3 (ipykernel)",
   "language": "python",
   "name": "python3"
  },
  "language_info": {
   "codemirror_mode": {
    "name": "ipython",
    "version": 3
   },
   "file_extension": ".py",
   "mimetype": "text/x-python",
   "name": "python",
   "nbconvert_exporter": "python",
   "pygments_lexer": "ipython3",
   "version": "3.11.0"
  }
 },
 "nbformat": 4,
 "nbformat_minor": 5
}

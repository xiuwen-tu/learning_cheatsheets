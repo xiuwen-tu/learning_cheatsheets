{
 "cells": [
  {
   "cell_type": "markdown",
   "id": "84366419-7bc2-496e-b143-4e3d9854a810",
   "metadata": {},
   "source": [
    "- 4.0 Introduction\n",
    "- 4.1 Developing a data analysis routine\n",
    "    - EDA was promoted by John Tukey in 1977.\n",
    "    - EDA routine basis 1. Collecting metadata:\n",
    "        - `df.shape`, `.dtypes`, `.info()`\n",
    "        - `df.sample(n=|frac=, replace=, weights=, random_state=, ignore_index)`\n",
    "    - EDA routine basis 2. Univariate descriptive stats:\n",
    "        - `df.describe(percentiles=, include=, exclude=, datetime_is_numeric=)`\n",
    "        - `df.select_dtypes(include=None, exclude=None)`\n",
    "- 4.2 Data dictionaries\n",
    "    - A table of metadata and notes on each col, explaining the meaning, allowed vals, and error codes of each.\n",
    "    - Better in a spreadsheet or a Jupyter markdown cell, instead of a DF.\n",
    "    - Obtain database schema if possible.\n",
    "    - Work with a subject matter expert (SME) if possible.\n",
    "- 4.3 Reducing memory by changing data types\n",
    "    - `df.memory_usage(deep=True)`\n",
    "    - `col2['RELAFFIL'] = col2['RELAFFIL'].astype(np.int8)    # 0 or 1`\n",
    "    - `col2['STABBR'] = col2['STABBR'].astype('category')    # 50 states`\n",
    "- 4.4 Selecting the smallest of the largest\n",
    "    - `(movie2.nlargest(100, 'imdb_score').nsmallest(5, 'budget'))`\n",
    "    - `df.nlargest(n, columns, keep='first')` and `df.nsmallest()`\n",
    "- 4.5 Selecting the largest of each group by sorting and dropping duplicates\n",
    "    - `(movie[['movie_title', 'title_year', 'imdb_score']].sort_values(['title_year','imdb_score'],ascending=False)\\`\n",
    "        - `.drop_duplicates(subset='title_year'))`\n",
    "- 4.6 Replicating nlargest with sort_values\n",
    "    - `(movie[['movie_title', 'imdb_score', 'budget']].sort_values('imdb_score', ascending=False, kind='mergesort')\\`\n",
    "        - `.head(100).sort_values('budget', kind='mergesort').head(5))`\n",
    "    - `.sort_values(by, ascending=T|F|list, kind='quicksort', na_position='last', ignore_index=False, key=None)`\n",
    "        - 4 options for 'kind': `{'quicksort', 'heapsort', 'mergesort', 'stable'}`, the last 2 being stable.\n",
    "- 4.7 Calculating a trailing stop order price\n",
    "    - `(tsla['Close'].cummax().mul(.9))`"
   ]
  },
  {
   "cell_type": "code",
   "execution_count": null,
   "id": "a235946d-10f2-448c-8dba-983c48bb73b1",
   "metadata": {},
   "outputs": [],
   "source": []
  }
 ],
 "metadata": {
  "kernelspec": {
   "display_name": "Python 3 (ipykernel)",
   "language": "python",
   "name": "python3"
  },
  "language_info": {
   "codemirror_mode": {
    "name": "ipython",
    "version": 3
   },
   "file_extension": ".py",
   "mimetype": "text/x-python",
   "name": "python",
   "nbconvert_exporter": "python",
   "pygments_lexer": "ipython3",
   "version": "3.11.0"
  }
 },
 "nbformat": 4,
 "nbformat_minor": 5
}

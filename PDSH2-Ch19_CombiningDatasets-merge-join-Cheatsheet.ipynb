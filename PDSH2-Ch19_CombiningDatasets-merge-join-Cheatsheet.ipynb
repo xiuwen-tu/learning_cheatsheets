{
 "cells": [
  {
   "cell_type": "markdown",
   "id": "2cd0b65e-79c1-4b61-82e0-e2d9ca3e29cc",
   "metadata": {},
   "source": [
    "- 19.1 Relation algebra: a formal set of rules for manipulating relational data, identifying several dundamental ops.\n",
    "    - Pandas implements several of these fundamental building blocks in `pd.merge()` and `.join()`.\n",
    "- 19.2 Function `pd.merge()`:\n",
    "    - Keyword `validate='1:1' | '1:m' | 'm:1'` (no need for 'm:m');\n",
    "    - Identify merge key col(s) with `on=` (same name) or `left_on=, right_on=` (different names);\n",
    "    - Merge on index with `left_index=, right_index=`;\n",
    "        - Use `df1.join(df2)` to save a few strokes when both DFs have the same index for joining use.\n",
    "    - Specify the join arithmetic with keyword `how='inner' | 'left' | 'right' | 'outer'`.\n",
    "    - Identify overlapping col names with keywords `suffixes=[names]`.\n",
    "- 19.3 Example: US States Data\n",
    "    - Identify cols having missing data with `df.isna().any()`;\n",
    "    - Filter and inspect rows having missing data with `df[df.population.isna()]`;\n",
    "    - Identify state name(s) missing area data with `final.loc[final['area (sq. mi)'].isna(), 'state'].unique()`;\n",
    "    - Select total population in 2010 with `final.query(\"year == 2010 & ages == 'total'\")`."
   ]
  },
  {
   "cell_type": "code",
   "execution_count": null,
   "id": "c53388e3-2248-45e4-94ef-c7d8174aa650",
   "metadata": {},
   "outputs": [],
   "source": []
  }
 ],
 "metadata": {
  "kernelspec": {
   "display_name": "Python 3 (ipykernel)",
   "language": "python",
   "name": "python3"
  },
  "language_info": {
   "codemirror_mode": {
    "name": "ipython",
    "version": 3
   },
   "file_extension": ".py",
   "mimetype": "text/x-python",
   "name": "python",
   "nbconvert_exporter": "python",
   "pygments_lexer": "ipython3",
   "version": "3.11.0"
  }
 },
 "nbformat": 4,
 "nbformat_minor": 5
}

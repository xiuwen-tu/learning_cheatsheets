{
 "cells": [
  {
   "cell_type": "markdown",
   "id": "d4621c2f-46c4-47ba-981c-56f509d73dcf",
   "metadata": {},
   "source": [
    "- 5.0 Introduction\n",
    "- 5.1 Summary Statistics\n",
    "    - `df.mean(), .std(), .interpolate(numeric_only=, interpolation=), .describe(include=)`\n",
    "- 5.2 Column Types\n",
    "    - `df.dtypes, .dtypes.value_counts()`\n",
    "    - Authors' 3 col types: continuous, categories, and dates.\n",
    "        - Continuous can be binned into an ordered category.\n",
    "        - Interesting that the bool type is not included.\n",
    "- 5.3 Categorical Data\n",
    "    - `df.select_dtypes(object).columns`\n",
    "    - `df.col.nunique(), .sample(n, random_state=42), .isna().sum(), .isna().mean(), .value_counts(), .describe()`\n",
    "    - Reduce cardinality:\n",
    "        - `top_n = fueleco.make.value_counts().index[:6]`\n",
    "        - `make = fueleco.make.where(fueleco.make.isin(top_n), 'Other'))`\n",
    "    - Bar plots: `make.value_counts().plot.bar(ax=ax)`, `sns.countplot(y='make', data=make.to_frame())`\n",
    "- 5.4 Continuous Data\n",
    "    - `df.select_dtypes('number')`\n",
    "    - `df.col.sample(n, random_state=42), .isna().sum(), .isna().mean(), .value_counts(), .describe()`\n",
    "    - Histogram: `df.col.hist(ax=ax, bins=)`, `sns.displot(df.col, kind='hist', rug=True, bins=)`\n",
    "- 5.5 Comparing Continuous Values across Categories\n",
    "    - Aggregate\n",
    "        - `mask = fueleco.make.isin(['Ford', 'Honda', 'Tesla', 'BMW'])`\n",
    "        - `fueleco[mask].groupby('make').city08.agg(['mean', 'std'])`\n",
    "    - Box plot: `sns.catplot(x='make', y='city08', data=fueleco[mask], kind='box')`\n",
    "- 5.6 Comparing Two Continuous Columns\n",
    "    - `df.col1.cov(df.col2)`, `df.col1.corr(df.col2)`, `df[cols_list].corr()`\n",
    "    - `sns.heatmap(df[cols_list].corr(), mask=, fmt='.2f', annot=, ax=, cmap='RdBu', vmin=-1, vmax=1, square=True)`\n",
    "- 5.7 Comparing Two Categorical Columns\n",
    "    - Calculate measure of association based on chi_squared, cramer_v preferred:\n",
    "        - `contingency_matrix = pd.crosstab(df.cat1, df.cat2)`\n",
    "        - `cramer_v = scipy.stats.contingency.association(contingency_matrix, method=\"cramer\")`\n",
    "    - Plot clustered or stacked bar charts:\n",
    "        - `sns.catplot(data=, x=, kind='count', hue=)`\n",
    "        - `(data.pipe(lambda df_: pd.crosstab(df_.make, df_.SClass)).plot.bar(ax=ax))`\n",
    "        - `(data.pipe(lambda df_: pd.crosstab(df_.make, df_.SClass))`\n",
    "            - `.pipe(lambda df_: df_.div(df_.sum(axis=1), axis=0)).plot.bar(stacked=True, ax=ax))`\n",
    "- 5.8 Using the Pandas Profiling Library\n",
    "    - \"Deprecated 'pandas-profiling' package on 2023/4/1. Use 'ydata-profiling' instead.\"\n",
    "    - _Q: Is this really necessary?_"
   ]
  },
  {
   "cell_type": "code",
   "execution_count": null,
   "id": "5127af76-4d7f-45a2-97fb-536f0277a0ee",
   "metadata": {},
   "outputs": [],
   "source": []
  }
 ],
 "metadata": {
  "kernelspec": {
   "display_name": "Python 3 (ipykernel)",
   "language": "python",
   "name": "python3"
  },
  "language_info": {
   "codemirror_mode": {
    "name": "ipython",
    "version": 3
   },
   "file_extension": ".py",
   "mimetype": "text/x-python",
   "name": "python",
   "nbconvert_exporter": "python",
   "pygments_lexer": "ipython3",
   "version": "3.11.0"
  }
 },
 "nbformat": 4,
 "nbformat_minor": 5
}

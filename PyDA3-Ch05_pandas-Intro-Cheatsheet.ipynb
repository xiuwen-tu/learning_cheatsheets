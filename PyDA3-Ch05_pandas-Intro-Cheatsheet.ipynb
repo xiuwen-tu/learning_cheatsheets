{
 "cells": [
  {
   "cell_type": "markdown",
   "metadata": {},
   "source": [
    "- 5.1 Intro to pandas data structures\n",
    "    - Series: Is both i) array-like and ii) dict-like.\n",
    "        - Create a Series either i) using a list or ii) using a dict, with optional `index=`.\n",
    "        - Attrs: `s.array`, `s.name`, `s.index`, and `s.index.name`.\n",
    "        - Methods: `s.to_dict()`, `s.isna()` and `s.notna()`, `pd.isna()` and `pd.notna()`\n",
    "        - Ops: i) Index with 1 or a list labels; ii) Filter with a bool array; \n",
    "            - iii) Scalar arithmetic and NumPy ufuncs; iv) Test membership in index.\n",
    "    - DataFrame: Is both i) spreadsheet table-like and ii) dict-like.\n",
    "        - Create a DF from i) a dict of lists or arrays, ii) a nested dict of dicts, or iii) more sources,\n",
    "            - with optional `index=` and `columns=`.\n",
    "        - Attrs: Transpose with `.T` at risk of losing col dtypes, `df.index.name` and `df.columns.name`.\n",
    "        - Methods: `df.head()`, `df.tail()`, and `df.sample()`, `df.to_numpy()`.\n",
    "        - Col ops: i) access a col with `df[col]` or `df.col.`, the latter being more restrictive;\n",
    "            - ii) `df['new_col'] = val` to add a new col; iii) `del df['col']` to delete an existing col.\n",
    "    - Index: Is immutable and both i) array-like and ii) fixed-size set-like but allowing duplicate labels.\n",
    "        - Attrs: `idx.is_unique` (and method `idx.unique()`) and `idx.is_monotonic`.\n",
    "        - Methods: i) `idx.append(), .insert(), .delete(), .drop()`; \n",
    "            - ii) `idx.difference(), .intersection(), .union(), .isin()`.\n",
    "        - Ops: Testing membership with `in`.\n",
    "- 5.2 Essential functionality\n",
    "    - Reindexing: i) Use `.reindex()`, with option `method=, index=, columns=`;\n",
    "        - ii) Prefer `.loc[]` operator, when no need labels are introduced.\n",
    "    - Dropping entries from an axis with `.drop()`, with options `index=, columns=, axis=`.\n",
    "    - Indexing, selection, and filtering: i) Prefer `.loc[label(s)]` and `.iloc[integer(s)]` for consistency;\n",
    "        - ii) Avoid chained indexing when doing assignments.\n",
    "    - Arithmetic: i) Follows index alignment and introduces NAs where not overlapping;\n",
    "        - ii) Use option `fill_value=` to fill the introduced NAs; \n",
    "        - iii) Flexible arithmetic methods `.add(), .radd()`, `.floordiv(), .rfloordiv()`, `.pow(), .rpow()`, etc;\n",
    "        - iv) DF and S ops by default match on cols and broadcast across rows. Can change with method option `axis=`.\n",
    "    - Func application and mapping: i) NumPy ufuncs work on pandas objs, e.g. `np.abs(df)`;\n",
    "        - ii) Apply an ufunc to each col `df.apply(ufunc)` or each row `df.apply(ufunc, axis='columns')`.\n",
    "        - iii) Apply an element-wise Python func or map with `s.map(func)` or `df.applymap(func)`.\n",
    "    - Sorting: i) `s.sort_index()`; ii) `df.sort_index()` with option `axis=`; \n",
    "        - iii) `s.sort_values()` with options `ascending=` and `na_position=`;\n",
    "        - iv) `df.sort_values(col)` or `df.sort_values([cols])`.\n",
    "    - Ranking: i) `s.rank()` with options `ascending=`, and tie-breaking `method=`; \n",
    "        - ii) `df.rank()` with option `axis=`, \n",
    "    - Duplicated axis labels are allowed, but result in different return types from selection, i.e. complication.\n",
    "        - Test with `idx.is_unique`.\n",
    "- 5.3 Summary and Descriptive Stats\n",
    "    - Summary stats: i) `df.sum(), .mean()`, etc with options `axis=`, `skipna=`, and `level=` (for MultiIndex);\n",
    "        - ii) `df.idxmin() and .idxmax()` return index labels for min and max vals, respectively;\n",
    "        - iii) Accumulations `df.cumsum(), .cumprod(), .cummin(), .cummax()`;\n",
    "        - iv) `df.describe()` produces multiple summary stats, different for numeric cols or nonnumeric cols;\n",
    "        - v) See Table 5-8 on p.168 for a full list of 20+ summary stats methods.\n",
    "    - Correlation and covariance: i) `s1.corr(s2), s1.cov(s2)` computes between s1 and s2; \n",
    "        - ii) `df.corr()`, `df.cov()` computes the full corr and cov matrixes; \n",
    "        - iii) `df.corrwith(s)` computes the corr between df cols and s, with option `axis=`.\n",
    "    - Unique vals, value counts, and membership: i) `s.unique()` gives an array of the unique vals in a Series;\n",
    "        - ii) Series value counts `s.value_counts()` and `pd.value_counts()` with option `sort=`;\n",
    "        - iii) Compute the value counts for all cols with `df.apply(pd.value_counts).fillna(0)`;\n",
    "        - iv) Compute the value counts of selected cols  with `df[[selected_cols]].value_counts()`,\n",
    "            - with distinct row val combinations as tuples;\n",
    "        - v) Series vectorized set membership check `s.isin(some_list_or_set)`; \n",
    "            - Related method `Index.get_indexer()` is helpful for data alignment and join-type ops."
   ]
  },
  {
   "cell_type": "code",
   "execution_count": null,
   "metadata": {},
   "outputs": [],
   "source": []
  }
 ],
 "metadata": {
  "kernelspec": {
   "display_name": "Python 3 (ipykernel)",
   "language": "python",
   "name": "python3"
  },
  "language_info": {
   "codemirror_mode": {
    "name": "ipython",
    "version": 3
   },
   "file_extension": ".py",
   "mimetype": "text/x-python",
   "name": "python",
   "nbconvert_exporter": "python",
   "pygments_lexer": "ipython3",
   "version": "3.11.0"
  }
 },
 "nbformat": 4,
 "nbformat_minor": 4
}

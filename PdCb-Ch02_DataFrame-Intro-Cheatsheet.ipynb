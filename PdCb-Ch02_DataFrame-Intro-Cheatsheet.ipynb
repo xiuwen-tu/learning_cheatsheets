{
 "cells": [
  {
   "cell_type": "markdown",
   "id": "696914ac-42fd-4bfe-9f81-eea35a241a8a",
   "metadata": {},
   "source": [
    "- 2.1 Selecting Multiple DataFrame Columns\n",
    "    - With known col names: `df[col_names_list]` or `df.loc[:, col_names_list]`\n",
    "    - With known col numbers: `df.iloc[:, col_nums_list]`\n",
    "- 2.2 Selecting Columns with Methods\n",
    "    - `df.select_dtypes(include=, exclude=)`\n",
    "        - `df.dtypes`, `df.dtypes.value_counts()`\n",
    "    - `df.filter(like=, regex=)`\n",
    "- 2.3 Ordering Column Names\n",
    "    - `ordered_cols = cat_core + cat_people + cat_other + cont_fb + cont_finance + cont_num_reviews + cont_other`\n",
    "        - Each term is a shorter list of cols grouped together.\n",
    "        - Test if all cols are included: `set(movies.columns) == set(ordered_col)`\n",
    "    - `ordered = movie[ordered_cols]`\n",
    "- 2.4 Summarizing a DataFrame\n",
    "    - `movies.describe(percentiles=).T`\n",
    "    - `df.shape, .size, .ndim, .count(), len(df)`\n",
    "- 2.5 Chaining DataFrame Methods\n",
    "    - `df.isna().sum()` returns a Series of missing data count of each col;\n",
    "    - `df.isna().sum().sum()` returns the total count of missing data points;\n",
    "    - `df.isna().any()` returns a bool Series of whether each col has any missing data point;\n",
    "    - `df.isna().any().any()` returns True if the DF has no missing data, Flase otherwise.\n",
    "- 2.6 DataFrame Operations\n",
    "    - `college_ugds = colleges.filter(like='UGDS_')`\n",
    "    - `college_ugds_op_round = (college_ugds + .00501) // .01 / 100`\n",
    "    - `college_ugds_round = (college_ugds + .00001).round(2)`\n",
    "    - `college_ugds_op_round.equals(college_ugds_round)`    # returns True\n",
    "- 2.7 Comparing Missing Values\n",
    "    - False: `np.nan == np.nan`, `np.nan > 5`, `np.nan < 5`\n",
    "    - True: `np.nan != 5`, `None == None`\n",
    "    - `(college_ugds == np.nan).sum()` returns a Series of all 0 values with college_ugds.columns as index;\n",
    "    - `college_ugds.isna().sum()` returns a Series of missing data counts with college_ugds.columns as index;\n",
    "    - `(college_ugds == college_ugds).all()` returns a Series of all False values with college_ugds.columns as index;\n",
    "    - `college_ugds.equals(college_ugds)` returns True;\n",
    "- 2.8 Transposing the direction of a DataFrame operation with option `axis=1`\n",
    "    - `df.count(axis=1), .sum(axis=1), .median(axis=1)`\n",
    "- 2.9 Determining college campus diversity\n",
    "    - Diversity criteria: Count of races having > 15%.\n",
    "    - `(college_ugds.dropna(how='all').ge(.15).sum(axis='columns').sort_values(ascending=False))`"
   ]
  },
  {
   "cell_type": "code",
   "execution_count": null,
   "id": "90cafbcf-0632-4cc0-bfa2-d8a7c2118379",
   "metadata": {},
   "outputs": [],
   "source": []
  }
 ],
 "metadata": {
  "kernelspec": {
   "display_name": "Python 3 (ipykernel)",
   "language": "python",
   "name": "python3"
  },
  "language_info": {
   "codemirror_mode": {
    "name": "ipython",
    "version": 3
   },
   "file_extension": ".py",
   "mimetype": "text/x-python",
   "name": "python",
   "nbconvert_exporter": "python",
   "pygments_lexer": "ipython3",
   "version": "3.11.0"
  }
 },
 "nbformat": 4,
 "nbformat_minor": 5
}

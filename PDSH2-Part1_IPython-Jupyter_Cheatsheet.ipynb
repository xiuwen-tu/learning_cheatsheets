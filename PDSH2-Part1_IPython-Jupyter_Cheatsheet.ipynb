{
 "cells": [
  {
   "cell_type": "markdown",
   "metadata": {
    "tags": []
   },
   "source": [
    "- Ch01: IPython and Jupyter Intro \n",
    "    - Access docs with `?`, access source code with `??` \n",
    "    - Explore with tab completion: `.<Tab>`, `.c<Tab>`, `import h<Tab>`, `from itertools import co<Tab>`\n",
    "    - Match with wildcard *: `*Warning?`, `str.*find*?`\n",
    "    - IPython keyboard shortcuts: `Ctrl-a, Ctrl-e, Ctrl-k, Ctrl-u, Ctrl-t, Ctrl-p, Ctrl-n, Ctrl-c`\n",
    "- Ch02: Enhanced Interactive Features\n",
    "    - Magic commands: Beyond normal Python\n",
    "        - Run external code with `%run <myscript.py>`\n",
    "            - After running, funcs defined in myscript.py are available for use.\n",
    "        - Time code execution with `%timeit` or `%%timeit`\n",
    "        - Get help on a magic command like `%timeit?`\n",
    "        - List magic functions with `%lsmagic` (`%magic`, TLDR)\n",
    "    - Input and Output History\n",
    "        - In list, Out dict, and their access\n",
    "        - Access the last 3 outputs with `_, __, ___` and access `Out[X]` with `_X`\n",
    "        - Suppress output with `;` \n",
    "        - Related magic commands: `%history`, `%rerun`, and `%save`\n",
    "    - Run Shell Commands in IPython\n",
    "        - The shell offers more control of advanced tasks, but with a learning curve.\n",
    "        - Example Linus/macOS shell commands: `echo, pwd, ls, cd, mkdir, mv` (pwd=print working dir, mv=move)\n",
    "        - Run shell commands in IPython like `!ls`, `!pwd`, `!echo \"printing from the shell\"`\n",
    "        - Communicate with shell commands like `contents = !ls`, `directory = !pwd`, or `echo {msg_str_var}`\n",
    "        - Related magic commands:\n",
    "            - `%cd ..` (Note `!cd ..` doesn't work for a reason)\n",
    "            - `%cat, %cp, %env, %ls, %man, %mkdir, %more, %mv, %pwd, %rm, %rmdir`\n",
    "            - `%automagic on` to emulate the shell and skip '%'\n",
    "- Ch03: Debugging and Profiling\n",
    "    - Control exception report mode with `%xmode Plain`, `%xmode Context` (default), `%xmode Verbose`\n",
    "    - Start debugger ipdb \n",
    "        - Manually right after exception with `%debug`\n",
    "        - Automatically after exception with `%debug on`\n",
    "        - Manually with `%debug <exec_info>`\n",
    "    - Time repeatedly with `%timeit`: Good for fast ops, not good for sorting\n",
    "    - Time 1x with `%time`: Good for sorting or slow ops\n",
    "    - Run code using the profiler with `%prun`, or using the line-by-line profiler with `%lprun`\n",
    "    - Measure the memory use of a single statement with `%memit`\n",
    "    - Run code with the line-by-line memory profiler with `mprun`"
   ]
  },
  {
   "cell_type": "code",
   "execution_count": null,
   "metadata": {},
   "outputs": [],
   "source": []
  }
 ],
 "metadata": {
  "kernelspec": {
   "display_name": "Python 3 (ipykernel)",
   "language": "python",
   "name": "python3"
  },
  "language_info": {
   "codemirror_mode": {
    "name": "ipython",
    "version": 3
   },
   "file_extension": ".py",
   "mimetype": "text/x-python",
   "name": "python",
   "nbconvert_exporter": "python",
   "pygments_lexer": "ipython3",
   "version": "3.11.0"
  }
 },
 "nbformat": 4,
 "nbformat_minor": 4
}

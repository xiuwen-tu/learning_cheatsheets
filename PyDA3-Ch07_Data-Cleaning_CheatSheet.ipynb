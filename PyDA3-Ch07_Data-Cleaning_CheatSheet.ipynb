{
 "cells": [
  {
   "cell_type": "markdown",
   "id": "497648e8-5256-4705-8c1e-8d83e52472c7",
   "metadata": {},
   "source": [
    "- 7.1 Handling Missing Data: i) Testing missing data with `s.isna()` and `s.notna()`;\n",
    "    - ii) Filtering out missing data with `s.dropna()` or `s[s.notna()]`, or `df.dropna(how=, axis=, thresh=)`;\n",
    "    - iii) Filling in missing data with `.fillna()`: `s.fillna(s.mean()`, `df.fillna(col_map, method=, limit=)`.\n",
    "- 7.2 Data Transformation\n",
    "    - Testing duplicates with `df.duplicated()` and removing duplicates with `df.drop_duplicates()`,\n",
    "        - Both have options `subset=` and `keep=`;\n",
    "    - Transforming data using a function or mapping with `s.map()` or `df[col].map()`;\n",
    "    - Replacing values: `s.replace(val, np.nan)`, `s.replace([vals], np.nan)`, or `s.replace(dict)`;\n",
    "    - Renaming indexes with `idx.map([func|dict])` or `df.rename(index=[func1|dict1], columns=[func2|dict2])`;\n",
    "    - Binning with `pd.cut(data, bins, right=, labels=, precision=)` and `pd.qcut()`;\n",
    "    - Dectecting and filtering outliers with boolean arrays: `_[_.abs() > 3]`, `df[(df.abs() > 3).any(axis='columns')]`;\n",
    "    - Permutation with `sampler = np.random.permutation(len(df))`, and \n",
    "        -`df.iloc[sampler]`, `df.iloc[:, sampler]`, or `df.take(sampler, axis=)`;\n",
    "    - Sampling with `_.sample(n=, replace=)`;\n",
    "    - Computing dummy cols: `pd.get_dummies(df[col], prefix=)`, `pd.get_dummies(pd.cut(vals, bins))`, or\n",
    "        - `movies['genres'].str.get_dummies('|').add_prefix('Genre_')`;\n",
    "- 7.3 Nullable, Pandas-Extension Data-Types: Use the magical method `s.convert_dtypes()`;\n",
    "    - `boolean`, `category`, `string`,\n",
    "    - `Int64, Int32, Int16, Int8`, and `UInt64, UInt32, UInt16, UInt8`,\n",
    "    - `Float64, Float32`,\n",
    "    - `pd.DatetimeTZDtype` Datetime with time zone.\n",
    "- 7.4 String Manipulation\n",
    "    - Python str methods: `in, str.split(), .join(), .index(), .find(), .count(), .replace()`, see Table 7-4 on p229;\n",
    "    - Regular expressions: see Table 7-5 on p232;\n",
    "    - Pandas string funcs: `.str.contains(), .findall(), .extract(), .slice()`, Table 7-6 on p235.\n",
    "- 7.5 Categorical Data\n",
    "    - Motivation: repeated vals.\n",
    "        - Best practice: Use i) an int representation table and ii) dimension tables decoding each col;\n",
    "    - Pandas categorical extension type:\n",
    "        - `my_cats = pd.Categorical(['foo', 'bar', 'baz', 'foo', 'bar'], ordered=)`, no order by default;\n",
    "        - `fruit_cat = df.fruit.astype('category')`, `fruit_cat.array.codes`, `fruit_cat.array.categories`;\n",
    "        - `dict(enumerate(fruit_cat.array.categories))`: A useful trick to get code:cat mapping;\n",
    "        - `my_cats_2 = pd.Categorical.from_codes(codes, cats)`.\n",
    "    - Computations with cats: \n",
    "        - `pd.cut(labels=) and pd.qcut()` return ordered pd.Categorical data type.\n",
    "        - `(pd.Series(draws).groupby(pd.qcut(draws, 4)).agg(['count', 'min', 'max'])`\n",
    "        - Cat computing can be 6-12x faster and use 1/60 memory than str, need the type-conversion time investment.\n",
    "    - Cat methods: `.cat.codes, .categories, .add_categories(), .set_categories(), .remove_unused_categories()`;\n",
    "        - One-Hot Encoding Dummies for Modeling with `pd.get_dummies(s_cat)`."
   ]
  },
  {
   "cell_type": "code",
   "execution_count": null,
   "id": "28efd9bd-d7df-4569-9f96-15dd3a972b31",
   "metadata": {},
   "outputs": [],
   "source": []
  }
 ],
 "metadata": {
  "kernelspec": {
   "display_name": "Python 3 (ipykernel)",
   "language": "python",
   "name": "python3"
  },
  "language_info": {
   "codemirror_mode": {
    "name": "ipython",
    "version": 3
   },
   "file_extension": ".py",
   "mimetype": "text/x-python",
   "name": "python",
   "nbconvert_exporter": "python",
   "pygments_lexer": "ipython3",
   "version": "3.11.0"
  }
 },
 "nbformat": 4,
 "nbformat_minor": 5
}

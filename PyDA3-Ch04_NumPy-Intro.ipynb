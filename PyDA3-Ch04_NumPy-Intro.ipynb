{
 "cells": [
  {
   "cell_type": "markdown",
   "id": "53193659-3a0a-4861-8b9c-6ada65d28ede",
   "metadata": {
    "tags": []
   },
   "source": [
    "- 4.1 NumPy `ndarray` objects:\n",
    "    - Create arrays:\n",
    "        - `np.array()` copies, `np.asarray()` does not copy if input already `ndarray`;\n",
    "        - `np.arange()` like Python range();\n",
    "        - `np.ones()`, `np.zeros()`, `np.empty()`, `np.full()`: Specify shape;\n",
    "            - Warning: Use `np.empty()` only when initializing afterwards before use for sure;\n",
    "        - `np.ones_like()`, `np.zeros_like()`, `np.empty_like()`, `np.full_like()`: Specify eg. for shape;\n",
    "        - `np.eye()`, `np.identity()`: Square NxN identity matrix.\n",
    "    - A slice of a NumPy array is a view (and can be made a copy with `.copy()`); \n",
    "        - whereas A slice of a Python list is a copy;\n",
    "    - NumPy 2D or higher-D arrays can be indexed using 1 `[]` with index vals separated by comma inside; \n",
    "        - whereas Python nested lists have to be indexed with multiple full brackets `[]`.\n",
    "    - Boolean indexing\n",
    "        - `new_val = data[mask]` creates a copy of data where mask is True, and labels the new copy new_val;\n",
    "        - `data[mask] = some_val` assigns some_val to elements of data where mask is True.\n",
    "    - Fancy Indexing with Integer Arrays\n",
    "        - `new_val = data[int_arr]` creates a copy of indexed data elements, and labels the new copy new_val;\n",
    "        - `data[int_arr] = some_val` assigns some_val to indexed data elements.\n",
    "    - Transpose an array with `arr.T`, swap axes with `arr.swapaxes(i, j)`.\n",
    "- 4.2 Pseudorandom Number Generator\n",
    "    - `rng = np.random.default_rng(seed=12345)`    # There are ~40 different distributions.\n",
    "    - `data = rng.standard_normal((3, 4))`\n",
    "- 4.3 Universal Functions or Ufuncs: Fast Element-Wise Array Funcs\n",
    "    - Unary vs binary ufuncs;\n",
    "    - Returning multiple arrays, e.g. `np.modf`;\n",
    "    - Optional argument `out=`.\n",
    "- 4.4 Array-Oriented Programming\n",
    "    - Array conditional logic with `np.where()`;\n",
    "    - Math and stat methods `.mean(), .std(), .min(), .cumsum(), np.median()`;\n",
    "    - Boolean-array methods `.sum(), .any(), .all()`;\n",
    "    - Sort in place with `.sort()`, similar to Python list function `.sort()`;\n",
    "    - Get a sorted copy with `np.sort()`, similar to Python function `sorted()`;\n",
    "    - Sort a table with 1 or more cols with pandas.\n",
    "- 4.5 Saving NumPy binary file formats (Prefer pandas, etc, for loading text :\n",
    "    - Workhorse funcs: `np.save()` and `np.load()`, file extension `.npy`;\n",
    "    - Save multiplce uncompressed arrays with `np.savez()`, file extension `.npz`;\n",
    "    - Save multiplce compressed arrays with `np.savez_compressed()`, file extension `.npz`.\n",
    "- 4.6 Common funcs in `np.linalg`:\n",
    "    - `diag, dot, trace, det, eig, inv, pinv, qr, svd, solve, lstsq`\n",
    "- 4.7 Simulating random walks with NumPy:\n",
    "    - Simulate multiple random walks:\n",
    "        - `draws = rng.integers(0, 2, size=(n_walks, n_steps))`    # 0 or 1; each row is a walk\n",
    "        - `steps = np.where(draws > 0, 1, -1)`    # keep the 1's and change the 0's to -1's\n",
    "        - `walks = steps.cumsum(axis=1)`    # Each row is a walk\n",
    "    - Extract stat metrics:\n",
    "        - `hits30 = (np.abs(walks) >= 30).any(axis=1)`\n",
    "        - `hits30.sum()`    # Count of walks hitting 30\n",
    "        - `crossing_times = (np.abs(walks[hits30]) >= 30).argmax(axis=1)`\n",
    "        - `crossing_times.mean()`"
   ]
  },
  {
   "cell_type": "markdown",
   "id": "1188dcc3-92de-4910-8fb4-c8508c3da262",
   "metadata": {},
   "source": []
  },
  {
   "cell_type": "markdown",
   "id": "5636bb7b-e42c-4ee1-99e2-cedaaa8e09be",
   "metadata": {},
   "source": []
  },
  {
   "cell_type": "code",
   "execution_count": 1,
   "id": "e452b1c8-3ec1-4475-a55e-873c3739c522",
   "metadata": {},
   "outputs": [],
   "source": [
    "import numpy as np\n",
    "import matplotlib.pyplot as plt"
   ]
  },
  {
   "cell_type": "code",
   "execution_count": 2,
   "id": "1b9f71c0-3da5-443c-9f0f-71f989fa0dad",
   "metadata": {},
   "outputs": [
    {
     "data": {
      "text/plain": [
       "'1.23.5'"
      ]
     },
     "execution_count": 2,
     "metadata": {},
     "output_type": "execute_result"
    }
   ],
   "source": [
    "np.__version__"
   ]
  },
  {
   "cell_type": "code",
   "execution_count": 3,
   "id": "3ba5dd1d-bce6-4b25-a697-48b419a583c0",
   "metadata": {},
   "outputs": [],
   "source": [
    "%precision 4\n",
    "np.set_printoptions(precision=4)"
   ]
  },
  {
   "cell_type": "markdown",
   "id": "46f01c37-0ab0-478c-b7d6-3de496b0be54",
   "metadata": {},
   "source": [
    "What's in NumPy:\n",
    "1. ndarray,\n",
    "2. ufuncs,\n",
    "3. utility for arrays in files and arrays in memory, \n",
    "4. linear algebra, random number gen., and FFT capbilities,\n",
    "5. well-documented C API."
   ]
  },
  {
   "cell_type": "code",
   "execution_count": 2,
   "id": "22584fd2-b31c-4903-bd6c-c150f9aa5aa8",
   "metadata": {},
   "outputs": [],
   "source": [
    "N = 10_000_000\n",
    "arr_10m = np.arange(N)\n",
    "list_10m = list(range(N))"
   ]
  },
  {
   "cell_type": "code",
   "execution_count": 3,
   "id": "f8ef5053-a00e-4c8c-b3b3-0f5b1715caf2",
   "metadata": {},
   "outputs": [
    {
     "name": "stdout",
     "output_type": "stream",
     "text": [
      "11.3 ms ± 128 µs per loop (mean ± std. dev. of 7 runs, 100 loops each)\n"
     ]
    }
   ],
   "source": [
    "%timeit arr_10m * 2"
   ]
  },
  {
   "cell_type": "code",
   "execution_count": 4,
   "id": "68d1082f-e2be-4db5-96ac-39b2e4a7701f",
   "metadata": {},
   "outputs": [
    {
     "name": "stdout",
     "output_type": "stream",
     "text": [
      "519 ms ± 9.5 ms per loop (mean ± std. dev. of 7 runs, 1 loop each)\n"
     ]
    }
   ],
   "source": [
    "%timeit [x * 2 for x in list_10m]"
   ]
  },
  {
   "cell_type": "code",
   "execution_count": 7,
   "id": "bd6ca777-bd99-4982-b749-f28552f2c625",
   "metadata": {},
   "outputs": [
    {
     "data": {
      "text/plain": [
       "45.9292"
      ]
     },
     "execution_count": 7,
     "metadata": {},
     "output_type": "execute_result"
    }
   ],
   "source": [
    "519 / 11.3"
   ]
  },
  {
   "cell_type": "markdown",
   "id": "058b6ff1-eec8-4d21-9ca4-59d00243d4fd",
   "metadata": {},
   "source": [
    "Almost 50x speed-up is impressive!"
   ]
  },
  {
   "cell_type": "markdown",
   "id": "5035a967-449d-455f-ab50-f60fa9d3335f",
   "metadata": {
    "jp-MarkdownHeadingCollapsed": true,
    "tags": []
   },
   "source": [
    "### 4.1 NumPy `ndarray` Objects"
   ]
  },
  {
   "cell_type": "markdown",
   "id": "8312f483-66a8-460c-a178-cb771778eb19",
   "metadata": {},
   "source": [
    "#### In this book, 'NumPy array', 'array', 'ndarray' all refer to the same `ndarray` obj."
   ]
  },
  {
   "cell_type": "code",
   "execution_count": 8,
   "id": "ad6292d4-bd4c-4531-b5d3-0d483592cc21",
   "metadata": {},
   "outputs": [
    {
     "data": {
      "text/plain": [
       "array([[ 1.5, -0.1,  3. ],\n",
       "       [ 0. , -3. ,  6.5]])"
      ]
     },
     "execution_count": 8,
     "metadata": {},
     "output_type": "execute_result"
    }
   ],
   "source": [
    "data = np.array([[1.5, -0.1, 3],\n",
    "                 [0, -3, 6.5]])\n",
    "data"
   ]
  },
  {
   "cell_type": "markdown",
   "id": "f19fd1da-77c3-4505-8a44-142a15bddab0",
   "metadata": {},
   "source": [
    "Element-wise math."
   ]
  },
  {
   "cell_type": "code",
   "execution_count": 9,
   "id": "172da7a6-978b-4f6f-881d-8fbca15c8c92",
   "metadata": {},
   "outputs": [
    {
     "data": {
      "text/plain": [
       "array([[ 15.,  -1.,  30.],\n",
       "       [  0., -30.,  65.]])"
      ]
     },
     "execution_count": 9,
     "metadata": {},
     "output_type": "execute_result"
    }
   ],
   "source": [
    "data * 10"
   ]
  },
  {
   "cell_type": "code",
   "execution_count": 10,
   "id": "1b8939c0-0ed1-4835-9451-04b8c07dc5c2",
   "metadata": {},
   "outputs": [
    {
     "data": {
      "text/plain": [
       "array([[ 3. , -0.2,  6. ],\n",
       "       [ 0. , -6. , 13. ]])"
      ]
     },
     "execution_count": 10,
     "metadata": {},
     "output_type": "execute_result"
    }
   ],
   "source": [
    "data + data"
   ]
  },
  {
   "cell_type": "code",
   "execution_count": 11,
   "id": "86131931-b807-4241-ba62-13aee9a69060",
   "metadata": {},
   "outputs": [
    {
     "data": {
      "text/plain": [
       "(2, 3)"
      ]
     },
     "execution_count": 11,
     "metadata": {},
     "output_type": "execute_result"
    }
   ],
   "source": [
    "data.shape"
   ]
  },
  {
   "cell_type": "code",
   "execution_count": 12,
   "id": "e4c878bf-8772-40c3-887c-0d8cedc48e11",
   "metadata": {},
   "outputs": [
    {
     "data": {
      "text/plain": [
       "dtype('float64')"
      ]
     },
     "execution_count": 12,
     "metadata": {},
     "output_type": "execute_result"
    }
   ],
   "source": [
    "data.dtype"
   ]
  },
  {
   "cell_type": "code",
   "execution_count": 13,
   "id": "f4e4b532-f3e3-41f5-bf32-951c9a194ffd",
   "metadata": {},
   "outputs": [
    {
     "data": {
      "text/plain": [
       "numpy.ndarray"
      ]
     },
     "execution_count": 13,
     "metadata": {},
     "output_type": "execute_result"
    }
   ],
   "source": [
    "type(data)"
   ]
  },
  {
   "cell_type": "code",
   "execution_count": 14,
   "id": "c5d60be6-0509-462e-baa7-31feaf821ea5",
   "metadata": {},
   "outputs": [
    {
     "data": {
      "text/plain": [
       "(2, 6)"
      ]
     },
     "execution_count": 14,
     "metadata": {},
     "output_type": "execute_result"
    }
   ],
   "source": [
    "data.ndim, data.size"
   ]
  },
  {
   "cell_type": "markdown",
   "id": "270b8e68-0b2d-4748-b784-8d5b6aef29bc",
   "metadata": {
    "tags": []
   },
   "source": [
    "#### Creating `ndarrays`"
   ]
  },
  {
   "cell_type": "markdown",
   "id": "b7107d68-26ae-4670-b327-50e6b8ef7bf8",
   "metadata": {},
   "source": [
    "- `np.array()` copies;\n",
    "- `np.asarray()` does not copy if input already `ndarray`;\n",
    "- `np.arange()` like Python range();\n",
    "- `np.ones()`, `np.zeros()`, `np.empty()`, `np.full()`: Specify shape;\n",
    "- `np.ones_like()`, `np.zeros_like()`, `np.empty_like()`, `np.full_like()`: Specify eg. for shape;\n",
    "- `np.eye()`, `np.identity()`: Square NxN identity matrix."
   ]
  },
  {
   "cell_type": "code",
   "execution_count": 15,
   "id": "489e64e5-06ec-4ce0-b500-75c5986d75e6",
   "metadata": {},
   "outputs": [
    {
     "data": {
      "text/plain": [
       "array([6. , 7.5, 8. , 0. , 1. ])"
      ]
     },
     "execution_count": 15,
     "metadata": {},
     "output_type": "execute_result"
    }
   ],
   "source": [
    "data1 = [6, 7.5, 8, 0, 1]\n",
    "arr1 = np.array(data1)    # Easiest way\n",
    "arr1"
   ]
  },
  {
   "cell_type": "code",
   "execution_count": 16,
   "id": "4b8fda3b-a683-4260-bd6e-0c5886532f8a",
   "metadata": {},
   "outputs": [
    {
     "data": {
      "text/plain": [
       "(numpy.ndarray, 1, (5,), dtype('float64'))"
      ]
     },
     "execution_count": 16,
     "metadata": {},
     "output_type": "execute_result"
    }
   ],
   "source": [
    "type(arr1), arr1.ndim, arr1.shape, arr1.dtype"
   ]
  },
  {
   "cell_type": "code",
   "execution_count": 17,
   "id": "8a142346-95df-4b0f-8371-40e40c67fd33",
   "metadata": {},
   "outputs": [
    {
     "data": {
      "text/plain": [
       "array([[1, 2, 3, 4],\n",
       "       [5, 6, 7, 8]])"
      ]
     },
     "execution_count": 17,
     "metadata": {},
     "output_type": "execute_result"
    }
   ],
   "source": [
    "data2 = [[1, 2, 3, 4], [5, 6, 7, 8]]\n",
    "arr2 = np.array(data2)\n",
    "arr2"
   ]
  },
  {
   "cell_type": "code",
   "execution_count": 18,
   "id": "f63112ab-5b31-411b-b6a2-3bcf3d81b956",
   "metadata": {},
   "outputs": [
    {
     "data": {
      "text/plain": [
       "(numpy.ndarray, 2, (2, 4), dtype('int32'))"
      ]
     },
     "execution_count": 18,
     "metadata": {},
     "output_type": "execute_result"
    }
   ],
   "source": [
    "type(arr2), arr2.ndim, arr2.shape, arr2.dtype"
   ]
  },
  {
   "cell_type": "code",
   "execution_count": 19,
   "id": "8bc387d4-daf6-4ddf-a402-52de3e59dd0e",
   "metadata": {},
   "outputs": [
    {
     "data": {
      "text/plain": [
       "array([0., 0., 0., 0., 0., 0., 0., 0., 0., 0.])"
      ]
     },
     "execution_count": 19,
     "metadata": {},
     "output_type": "execute_result"
    }
   ],
   "source": [
    "np.zeros(10)"
   ]
  },
  {
   "cell_type": "code",
   "execution_count": 20,
   "id": "ed1cc771-e687-4411-80d4-1f2b4d7d9763",
   "metadata": {},
   "outputs": [
    {
     "data": {
      "text/plain": [
       "array([[0., 0., 0., 0., 0., 0.],\n",
       "       [0., 0., 0., 0., 0., 0.],\n",
       "       [0., 0., 0., 0., 0., 0.]])"
      ]
     },
     "execution_count": 20,
     "metadata": {},
     "output_type": "execute_result"
    }
   ],
   "source": [
    "np.zeros((3, 6))"
   ]
  },
  {
   "cell_type": "code",
   "execution_count": 21,
   "id": "926c08c4-7aad-4399-abe4-e02b924db85c",
   "metadata": {},
   "outputs": [
    {
     "data": {
      "text/plain": [
       "array([[0., 0., 0., 0., 0., 0.],\n",
       "       [0., 0., 0., 0., 0., 0.],\n",
       "       [0., 0., 0., 0., 0., 0.]])"
      ]
     },
     "execution_count": 21,
     "metadata": {},
     "output_type": "execute_result"
    }
   ],
   "source": [
    "np.empty((3, 6))    # Warning: Uninitialized! Can be non-zeros and have 'garbage' vals!"
   ]
  },
  {
   "cell_type": "code",
   "execution_count": 22,
   "id": "35ca3fc1-7601-452a-9849-27c466e0f179",
   "metadata": {},
   "outputs": [
    {
     "data": {
      "text/plain": [
       "array([ 0,  1,  2,  3,  4,  5,  6,  7,  8,  9, 10, 11, 12, 13, 14])"
      ]
     },
     "execution_count": 22,
     "metadata": {},
     "output_type": "execute_result"
    }
   ],
   "source": [
    "np.arange(15)"
   ]
  },
  {
   "cell_type": "markdown",
   "id": "0f8e753a-c5b0-4c76-8e2d-e26474e80b01",
   "metadata": {},
   "source": [
    "#### `dtype` or Data Types for `ndarray`"
   ]
  },
  {
   "cell_type": "code",
   "execution_count": 23,
   "id": "a84a9560-7e15-4b2c-bcc5-66b11d5527a1",
   "metadata": {},
   "outputs": [
    {
     "data": {
      "text/plain": [
       "array([1., 2., 3.])"
      ]
     },
     "execution_count": 23,
     "metadata": {},
     "output_type": "execute_result"
    }
   ],
   "source": [
    "arr1 = np.array([1, 2, 3], dtype=np.float64)\n",
    "arr1"
   ]
  },
  {
   "cell_type": "code",
   "execution_count": 24,
   "id": "03432dd0-5f3c-4f73-b6f8-93f07fd385e6",
   "metadata": {},
   "outputs": [
    {
     "data": {
      "text/plain": [
       "dtype('float64')"
      ]
     },
     "execution_count": 24,
     "metadata": {},
     "output_type": "execute_result"
    }
   ],
   "source": [
    "arr1.dtype"
   ]
  },
  {
   "cell_type": "code",
   "execution_count": 25,
   "id": "c8dd8a3a-ad7a-4954-9172-e5686549923c",
   "metadata": {},
   "outputs": [
    {
     "data": {
      "text/plain": [
       "array([1, 2, 3])"
      ]
     },
     "execution_count": 25,
     "metadata": {},
     "output_type": "execute_result"
    }
   ],
   "source": [
    "arr2 = np.array([1, 2, 3], dtype=np.int32)\n",
    "arr2"
   ]
  },
  {
   "cell_type": "code",
   "execution_count": 26,
   "id": "5d76948c-0efb-4d80-a5ab-cef0fce81f65",
   "metadata": {},
   "outputs": [
    {
     "data": {
      "text/plain": [
       "dtype('int32')"
      ]
     },
     "execution_count": 26,
     "metadata": {},
     "output_type": "execute_result"
    }
   ],
   "source": [
    "arr2.dtype"
   ]
  },
  {
   "cell_type": "code",
   "execution_count": 27,
   "id": "2ea455fe-e3a0-459d-b885-d05ff4a6a4cc",
   "metadata": {},
   "outputs": [
    {
     "data": {
      "text/plain": [
       "array([1., 2., 3.], dtype=float32)"
      ]
     },
     "execution_count": 27,
     "metadata": {},
     "output_type": "execute_result"
    }
   ],
   "source": [
    "arr1_float = arr1.astype(np.float32)\n",
    "arr1_float"
   ]
  },
  {
   "cell_type": "code",
   "execution_count": 28,
   "id": "194cc6ad-8e7a-4d0a-bf1a-cec8358f0924",
   "metadata": {},
   "outputs": [
    {
     "data": {
      "text/plain": [
       "(dtype('float64'), dtype('float32'))"
      ]
     },
     "execution_count": 28,
     "metadata": {},
     "output_type": "execute_result"
    }
   ],
   "source": [
    "arr1.dtype, arr1_float.dtype"
   ]
  },
  {
   "cell_type": "code",
   "execution_count": 29,
   "id": "24080a1a-53d3-4a03-94f0-cb4444537e1e",
   "metadata": {},
   "outputs": [
    {
     "data": {
      "text/plain": [
       "array([ 3.7, -1.2,  0.4, 12.9, -6.8])"
      ]
     },
     "execution_count": 29,
     "metadata": {},
     "output_type": "execute_result"
    }
   ],
   "source": [
    "arr3 = np.array([3.7, -1.2, 0.4, 12.9, -6.8])\n",
    "arr3"
   ]
  },
  {
   "cell_type": "code",
   "execution_count": 30,
   "id": "adc01e7e-2d22-4e87-b001-db6e650027ad",
   "metadata": {},
   "outputs": [
    {
     "data": {
      "text/plain": [
       "array([ 3, -1,  0, 12, -6])"
      ]
     },
     "execution_count": 30,
     "metadata": {},
     "output_type": "execute_result"
    }
   ],
   "source": [
    "arr3.astype(np.int32)    # Note truncation, not round off"
   ]
  },
  {
   "cell_type": "code",
   "execution_count": 31,
   "id": "67a1b0b2-cef9-4e15-b71e-a42348df98be",
   "metadata": {},
   "outputs": [
    {
     "data": {
      "text/plain": [
       "array([b'1.25', b'-9.6', b'42'], dtype='|S4')"
      ]
     },
     "execution_count": 31,
     "metadata": {},
     "output_type": "execute_result"
    }
   ],
   "source": [
    "# Warning np.string_ is fixed size and may truncate without warning\n",
    "num_strings = np.array(['1.25', '-9.6', '42'], dtype=np.string_)\n",
    "num_strings"
   ]
  },
  {
   "cell_type": "code",
   "execution_count": 32,
   "id": "43d46c4c-863b-4ef0-ab43-2b2291cb6e95",
   "metadata": {},
   "outputs": [
    {
     "data": {
      "text/plain": [
       "array([ 1.25, -9.6 , 42.  ])"
      ]
     },
     "execution_count": 32,
     "metadata": {},
     "output_type": "execute_result"
    }
   ],
   "source": [
    "num_strings.astype(float)"
   ]
  },
  {
   "cell_type": "code",
   "execution_count": 33,
   "id": "54a0cad2-358f-4dea-8f06-36d89dc2272f",
   "metadata": {},
   "outputs": [
    {
     "data": {
      "text/plain": [
       "array([0, 1, 2, 3, 4, 5, 6, 7, 8, 9])"
      ]
     },
     "execution_count": 33,
     "metadata": {},
     "output_type": "execute_result"
    }
   ],
   "source": [
    "int_arr = np.arange(10)\n",
    "int_arr"
   ]
  },
  {
   "cell_type": "code",
   "execution_count": 34,
   "id": "39af677a-984a-4c8e-b896-a962be3a1103",
   "metadata": {},
   "outputs": [
    {
     "data": {
      "text/plain": [
       "array([0., 1., 2., 3., 4., 5., 6., 7., 8., 9.])"
      ]
     },
     "execution_count": 34,
     "metadata": {},
     "output_type": "execute_result"
    }
   ],
   "source": [
    "int_arr.astype(arr3.dtype)"
   ]
  },
  {
   "cell_type": "code",
   "execution_count": 35,
   "id": "a440ae39-17c5-4fa5-ad68-bc3aab9b200b",
   "metadata": {},
   "outputs": [
    {
     "data": {
      "text/plain": [
       "array([0, 0, 0, 0, 0, 0, 0, 0], dtype=uint32)"
      ]
     },
     "execution_count": 35,
     "metadata": {},
     "output_type": "execute_result"
    }
   ],
   "source": [
    "np.zeros(8, dtype='u4')    # Shorthand for uint32"
   ]
  },
  {
   "cell_type": "markdown",
   "id": "ad47ae8d-6a74-4b82-b7ee-361b8ad45c6a",
   "metadata": {},
   "source": [
    "#### Element-wise Arithmetic with NumPy Arrays"
   ]
  },
  {
   "cell_type": "code",
   "execution_count": 36,
   "id": "0d4ce9f9-5659-4d0b-b440-db6814ad6ab0",
   "metadata": {},
   "outputs": [
    {
     "data": {
      "text/plain": [
       "array([[1., 2., 3.],\n",
       "       [4., 5., 6.]])"
      ]
     },
     "execution_count": 36,
     "metadata": {},
     "output_type": "execute_result"
    }
   ],
   "source": [
    "arr = np.arange(1, 7, 1, dtype=float).reshape((2, 3))\n",
    "arr"
   ]
  },
  {
   "cell_type": "code",
   "execution_count": 37,
   "id": "de599b4b-5fcd-465c-a6e4-83dac85feeb4",
   "metadata": {},
   "outputs": [
    {
     "data": {
      "text/plain": [
       "array([[ 2.,  4.,  6.],\n",
       "       [ 8., 10., 12.]])"
      ]
     },
     "execution_count": 37,
     "metadata": {},
     "output_type": "execute_result"
    }
   ],
   "source": [
    "arr + arr"
   ]
  },
  {
   "cell_type": "code",
   "execution_count": 38,
   "id": "a8482206-8d70-4c86-82f2-4931c5dc5c26",
   "metadata": {},
   "outputs": [
    {
     "data": {
      "text/plain": [
       "array([[0., 0., 0.],\n",
       "       [0., 0., 0.]])"
      ]
     },
     "execution_count": 38,
     "metadata": {},
     "output_type": "execute_result"
    }
   ],
   "source": [
    "arr - arr"
   ]
  },
  {
   "cell_type": "code",
   "execution_count": 39,
   "id": "9b466c2b-0de1-4e70-99fe-2efa7e53a5f0",
   "metadata": {},
   "outputs": [
    {
     "data": {
      "text/plain": [
       "array([[ 1.,  4.,  9.],\n",
       "       [16., 25., 36.]])"
      ]
     },
     "execution_count": 39,
     "metadata": {},
     "output_type": "execute_result"
    }
   ],
   "source": [
    "arr * arr"
   ]
  },
  {
   "cell_type": "code",
   "execution_count": 40,
   "id": "b1254987-d893-4cc9-a61e-de4e79179d1d",
   "metadata": {},
   "outputs": [
    {
     "data": {
      "text/plain": [
       "array([[1., 1., 1.],\n",
       "       [1., 1., 1.]])"
      ]
     },
     "execution_count": 40,
     "metadata": {},
     "output_type": "execute_result"
    }
   ],
   "source": [
    "arr / arr"
   ]
  },
  {
   "cell_type": "code",
   "execution_count": 41,
   "id": "5b85c9eb-ea6c-4e97-995f-71f4251052cb",
   "metadata": {},
   "outputs": [
    {
     "data": {
      "text/plain": [
       "array([[1.    , 0.5   , 0.3333],\n",
       "       [0.25  , 0.2   , 0.1667]])"
      ]
     },
     "execution_count": 41,
     "metadata": {},
     "output_type": "execute_result"
    }
   ],
   "source": [
    "1 / arr"
   ]
  },
  {
   "cell_type": "code",
   "execution_count": 42,
   "id": "c547a65c-e0bf-4d54-bbac-cb9261c320f4",
   "metadata": {},
   "outputs": [
    {
     "data": {
      "text/plain": [
       "array([[ 1.,  4.,  9.],\n",
       "       [16., 25., 36.]])"
      ]
     },
     "execution_count": 42,
     "metadata": {},
     "output_type": "execute_result"
    }
   ],
   "source": [
    "arr ** 2"
   ]
  },
  {
   "cell_type": "code",
   "execution_count": 43,
   "id": "edf149e2-58ac-4f94-a322-3ff3fea946ce",
   "metadata": {},
   "outputs": [
    {
     "data": {
      "text/plain": [
       "array([[ 0.,  4.,  1.],\n",
       "       [ 7.,  2., 12.]])"
      ]
     },
     "execution_count": 43,
     "metadata": {},
     "output_type": "execute_result"
    }
   ],
   "source": [
    "arr2 = np.array([[0., 4., 1.], [7., 2., 12.]])\n",
    "arr2"
   ]
  },
  {
   "cell_type": "code",
   "execution_count": 44,
   "id": "87612326-79a8-42a0-aa18-764f66a1f6ca",
   "metadata": {},
   "outputs": [
    {
     "data": {
      "text/plain": [
       "array([[False,  True, False],\n",
       "       [ True, False,  True]])"
      ]
     },
     "execution_count": 44,
     "metadata": {},
     "output_type": "execute_result"
    }
   ],
   "source": [
    "arr2 > arr"
   ]
  },
  {
   "cell_type": "markdown",
   "id": "a2d85ee3-c3d8-4882-b080-6e6104c42406",
   "metadata": {},
   "source": [
    "#### Basic Indexing and Slicing"
   ]
  },
  {
   "cell_type": "code",
   "execution_count": 45,
   "id": "1f95f7de-cfae-414c-8a5e-610b369f5f98",
   "metadata": {},
   "outputs": [
    {
     "data": {
      "text/plain": [
       "array([0, 1, 2, 3, 4, 5, 6, 7, 8, 9])"
      ]
     },
     "execution_count": 45,
     "metadata": {},
     "output_type": "execute_result"
    }
   ],
   "source": [
    "arr1 = np.arange(10)    # 1d arrays on the surface look similar to Python lists\n",
    "arr1"
   ]
  },
  {
   "cell_type": "code",
   "execution_count": 46,
   "id": "979b30f6-4522-4bb8-8d9d-bc36ddc41aea",
   "metadata": {},
   "outputs": [
    {
     "data": {
      "text/plain": [
       "5"
      ]
     },
     "execution_count": 46,
     "metadata": {},
     "output_type": "execute_result"
    }
   ],
   "source": [
    "arr1[5]"
   ]
  },
  {
   "cell_type": "code",
   "execution_count": 47,
   "id": "69db5de2-9c0c-4b31-a92f-2c22674e12f0",
   "metadata": {},
   "outputs": [
    {
     "data": {
      "text/plain": [
       "array([5, 6, 7])"
      ]
     },
     "execution_count": 47,
     "metadata": {},
     "output_type": "execute_result"
    }
   ],
   "source": [
    "arr1[5:8]"
   ]
  },
  {
   "cell_type": "code",
   "execution_count": 48,
   "id": "b85deb22-c788-414d-938f-4f5d7eb6ed6f",
   "metadata": {},
   "outputs": [
    {
     "data": {
      "text/plain": [
       "array([ 0,  1,  2,  3,  4, 12, 12, 12,  8,  9])"
      ]
     },
     "execution_count": 48,
     "metadata": {},
     "output_type": "execute_result"
    }
   ],
   "source": [
    "arr1[5:8] = 12\n",
    "arr1"
   ]
  },
  {
   "cell_type": "code",
   "execution_count": 49,
   "id": "3b212226-b327-402f-a913-65992cb77470",
   "metadata": {},
   "outputs": [
    {
     "data": {
      "text/plain": [
       "[0, 1, 2, 3, 4, 5, 6, 7, 8, 9]"
      ]
     },
     "execution_count": 49,
     "metadata": {},
     "output_type": "execute_result"
    }
   ],
   "source": [
    "# pylist1 = [n for n in range(10)]\n",
    "pylist1 = list(range(10))\n",
    "pylist1"
   ]
  },
  {
   "cell_type": "code",
   "execution_count": 50,
   "id": "e9dafa8d-b4df-4de9-b25a-178d6ad7638b",
   "metadata": {},
   "outputs": [
    {
     "data": {
      "text/plain": [
       "[5, 6, 7]"
      ]
     },
     "execution_count": 50,
     "metadata": {},
     "output_type": "execute_result"
    }
   ],
   "source": [
    "pyslice1 = pylist1[5:8]\n",
    "pyslice1"
   ]
  },
  {
   "cell_type": "code",
   "execution_count": 51,
   "id": "945e9dd8-f60f-491c-ab07-b547c92e185e",
   "metadata": {},
   "outputs": [
    {
     "data": {
      "text/plain": [
       "[99, 98, 97]"
      ]
     },
     "execution_count": 51,
     "metadata": {},
     "output_type": "execute_result"
    }
   ],
   "source": [
    "pyslice1[0] = 99\n",
    "pyslice1[1] = 98\n",
    "pyslice1[2] = 97\n",
    "pyslice1"
   ]
  },
  {
   "cell_type": "code",
   "execution_count": 52,
   "id": "a28c07ec-f642-4f9c-a872-fef5fa5bfe59",
   "metadata": {},
   "outputs": [
    {
     "data": {
      "text/plain": [
       "[0, 1, 2, 3, 4, 5, 6, 7, 8, 9]"
      ]
     },
     "execution_count": 52,
     "metadata": {},
     "output_type": "execute_result"
    }
   ],
   "source": [
    "pylist1"
   ]
  },
  {
   "cell_type": "code",
   "execution_count": 53,
   "id": "94f1a7e9-43a5-4c87-aa37-347a04bbf695",
   "metadata": {},
   "outputs": [
    {
     "data": {
      "text/plain": [
       "array([12, 12, 12])"
      ]
     },
     "execution_count": 53,
     "metadata": {},
     "output_type": "execute_result"
    }
   ],
   "source": [
    "arr1_slice = arr1[5:8]\n",
    "arr1_slice"
   ]
  },
  {
   "cell_type": "code",
   "execution_count": 54,
   "id": "0b79c061-dc6a-41f7-84e9-9bd9310b4706",
   "metadata": {},
   "outputs": [
    {
     "data": {
      "text/plain": [
       "array([   12, 12345,    12])"
      ]
     },
     "execution_count": 54,
     "metadata": {},
     "output_type": "execute_result"
    }
   ],
   "source": [
    "arr1_slice[1] = 12345\n",
    "arr1_slice"
   ]
  },
  {
   "cell_type": "code",
   "execution_count": 55,
   "id": "e87ebb73-dc87-4965-9b58-1c3619c541e6",
   "metadata": {},
   "outputs": [
    {
     "data": {
      "text/plain": [
       "array([    0,     1,     2,     3,     4,    12, 12345,    12,     8,\n",
       "           9])"
      ]
     },
     "execution_count": 55,
     "metadata": {},
     "output_type": "execute_result"
    }
   ],
   "source": [
    "arr1"
   ]
  },
  {
   "cell_type": "code",
   "execution_count": 56,
   "id": "b6c0fde5-13f5-4d0f-818d-82ef46a686ae",
   "metadata": {},
   "outputs": [
    {
     "data": {
      "text/plain": [
       "array([64, 64, 64])"
      ]
     },
     "execution_count": 56,
     "metadata": {},
     "output_type": "execute_result"
    }
   ],
   "source": [
    "arr1_slice[:] = 64\n",
    "arr1_slice"
   ]
  },
  {
   "cell_type": "code",
   "execution_count": 57,
   "id": "28e81c7f-6a32-4771-ab32-232011791a8e",
   "metadata": {},
   "outputs": [
    {
     "data": {
      "text/plain": [
       "array([ 0,  1,  2,  3,  4, 64, 64, 64,  8,  9])"
      ]
     },
     "execution_count": 57,
     "metadata": {},
     "output_type": "execute_result"
    }
   ],
   "source": [
    "arr1"
   ]
  },
  {
   "cell_type": "code",
   "execution_count": 58,
   "id": "26f29009-877d-48d2-9d23-b6768835b5ee",
   "metadata": {},
   "outputs": [
    {
     "data": {
      "text/plain": [
       "array([64, 64, 64])"
      ]
     },
     "execution_count": 58,
     "metadata": {},
     "output_type": "execute_result"
    }
   ],
   "source": [
    "arr1_slice_copy = arr1[5:8].copy()\n",
    "arr1_slice_copy"
   ]
  },
  {
   "cell_type": "code",
   "execution_count": 59,
   "id": "4e57502f-ee1f-483d-bf35-5d8f78571a2f",
   "metadata": {},
   "outputs": [
    {
     "data": {
      "text/plain": [
       "array([88, 88, 88])"
      ]
     },
     "execution_count": 59,
     "metadata": {},
     "output_type": "execute_result"
    }
   ],
   "source": [
    "arr1_slice_copy[:] = 88\n",
    "arr1_slice_copy"
   ]
  },
  {
   "cell_type": "code",
   "execution_count": 60,
   "id": "8b14bf61-4685-4e77-b40d-2734df41631e",
   "metadata": {},
   "outputs": [
    {
     "data": {
      "text/plain": [
       "array([ 0,  1,  2,  3,  4, 64, 64, 64,  8,  9])"
      ]
     },
     "execution_count": 60,
     "metadata": {},
     "output_type": "execute_result"
    }
   ],
   "source": [
    "arr1"
   ]
  },
  {
   "cell_type": "markdown",
   "id": "fc2eb946-4d13-43e9-bfb1-24dfc55bd84e",
   "metadata": {},
   "source": [
    "Observations:\n",
    "- Python slice of a list is a copy;\n",
    "- NumPy slice of an array is a view, not a copy; \n",
    "- NumPy slice _with_ `.copy()` is a copy, not a view."
   ]
  },
  {
   "cell_type": "code",
   "execution_count": 61,
   "id": "6af4f56a-e4f4-4b5b-8492-187fb4b08644",
   "metadata": {},
   "outputs": [
    {
     "data": {
      "text/plain": [
       "array([[1, 2, 3],\n",
       "       [4, 5, 6],\n",
       "       [7, 8, 9]])"
      ]
     },
     "execution_count": 61,
     "metadata": {},
     "output_type": "execute_result"
    }
   ],
   "source": [
    "arr2d = np.array([[1, 2, 3], [4, 5, 6], [7, 8, 9]])\n",
    "arr2d"
   ]
  },
  {
   "cell_type": "code",
   "execution_count": 62,
   "id": "f938f255-d45e-4bdb-b718-6c57a2157772",
   "metadata": {},
   "outputs": [
    {
     "data": {
      "text/plain": [
       "2"
      ]
     },
     "execution_count": 62,
     "metadata": {},
     "output_type": "execute_result"
    }
   ],
   "source": [
    "arr2d.ndim"
   ]
  },
  {
   "cell_type": "code",
   "execution_count": 63,
   "id": "fabe3bd7-0cfe-4a2c-9ee8-1795283eaa0a",
   "metadata": {},
   "outputs": [
    {
     "data": {
      "text/plain": [
       "(3, 3)"
      ]
     },
     "execution_count": 63,
     "metadata": {},
     "output_type": "execute_result"
    }
   ],
   "source": [
    "arr2d.shape"
   ]
  },
  {
   "cell_type": "code",
   "execution_count": 64,
   "id": "f5a643e6-692b-4889-8e96-d2297ca5b0b9",
   "metadata": {},
   "outputs": [
    {
     "data": {
      "text/plain": [
       "array([7, 8, 9])"
      ]
     },
     "execution_count": 64,
     "metadata": {},
     "output_type": "execute_result"
    }
   ],
   "source": [
    "arr2d[2]"
   ]
  },
  {
   "cell_type": "code",
   "execution_count": 65,
   "id": "a5ff0ae5-51ac-4e49-8db8-93569f7b5a4e",
   "metadata": {},
   "outputs": [
    {
     "data": {
      "text/plain": [
       "3"
      ]
     },
     "execution_count": 65,
     "metadata": {},
     "output_type": "execute_result"
    }
   ],
   "source": [
    "arr2d[0][2]"
   ]
  },
  {
   "cell_type": "code",
   "execution_count": 66,
   "id": "93387929-ecf9-4537-9a99-7ca5e306ad1d",
   "metadata": {},
   "outputs": [
    {
     "data": {
      "text/plain": [
       "3"
      ]
     },
     "execution_count": 66,
     "metadata": {},
     "output_type": "execute_result"
    }
   ],
   "source": [
    "arr2d[0, 2]"
   ]
  },
  {
   "cell_type": "code",
   "execution_count": 67,
   "id": "b8aa0f50-7df3-4017-b4a5-67f8a72e9422",
   "metadata": {},
   "outputs": [
    {
     "data": {
      "text/plain": [
       "array([[[ 1,  2,  3],\n",
       "        [ 4,  5,  6]],\n",
       "\n",
       "       [[ 7,  8,  9],\n",
       "        [10, 11, 12]]])"
      ]
     },
     "execution_count": 67,
     "metadata": {},
     "output_type": "execute_result"
    }
   ],
   "source": [
    "arr3d = np.array([[[1, 2, 3], [4, 5, 6]], [[7, 8, 9], [10, 11, 12]]])\n",
    "arr3d"
   ]
  },
  {
   "cell_type": "code",
   "execution_count": 68,
   "id": "b13d5bc7-afd2-434d-838a-a875a44c44c2",
   "metadata": {},
   "outputs": [
    {
     "data": {
      "text/plain": [
       "array([[1, 2, 3],\n",
       "       [4, 5, 6]])"
      ]
     },
     "execution_count": 68,
     "metadata": {},
     "output_type": "execute_result"
    }
   ],
   "source": [
    "arr3d[0]"
   ]
  },
  {
   "cell_type": "code",
   "execution_count": 69,
   "id": "989dc94b-46ee-462f-96d4-13dd845df38c",
   "metadata": {},
   "outputs": [
    {
     "data": {
      "text/plain": [
       "array([[ 7,  8,  9],\n",
       "       [10, 11, 12]])"
      ]
     },
     "execution_count": 69,
     "metadata": {},
     "output_type": "execute_result"
    }
   ],
   "source": [
    "arr3d[1]"
   ]
  },
  {
   "cell_type": "code",
   "execution_count": 70,
   "id": "a2d1d998-2ad4-4d1c-bc47-9239077f99a2",
   "metadata": {},
   "outputs": [
    {
     "data": {
      "text/plain": [
       "array([[1, 2, 3],\n",
       "       [4, 5, 6]])"
      ]
     },
     "execution_count": 70,
     "metadata": {},
     "output_type": "execute_result"
    }
   ],
   "source": [
    "arr3d_slice_copy = arr3d[0].copy()\n",
    "arr3d_slice_copy"
   ]
  },
  {
   "cell_type": "code",
   "execution_count": 71,
   "id": "56d21014-6da4-4969-a2bd-2a4da4f57d53",
   "metadata": {},
   "outputs": [
    {
     "data": {
      "text/plain": [
       "array([[[0, 0, 0],\n",
       "        [0, 0, 0]],\n",
       "\n",
       "       [[1, 1, 1],\n",
       "        [1, 1, 1]]])"
      ]
     },
     "execution_count": 71,
     "metadata": {},
     "output_type": "execute_result"
    }
   ],
   "source": [
    "arr3d[0] = 0\n",
    "arr3d[1] = 1\n",
    "arr3d"
   ]
  },
  {
   "cell_type": "code",
   "execution_count": 72,
   "id": "30ea52e5-3caf-4bea-93ce-48311f1d6072",
   "metadata": {},
   "outputs": [
    {
     "data": {
      "text/plain": [
       "array([[1, 2, 3],\n",
       "       [4, 5, 6]])"
      ]
     },
     "execution_count": 72,
     "metadata": {},
     "output_type": "execute_result"
    }
   ],
   "source": [
    "arr3d_slice_copy"
   ]
  },
  {
   "cell_type": "code",
   "execution_count": 73,
   "id": "61cb87a3-24fa-48f5-81d5-b290be3bea48",
   "metadata": {},
   "outputs": [
    {
     "data": {
      "text/plain": [
       "array([[[0, 0, 0],\n",
       "        [0, 0, 0]],\n",
       "\n",
       "       [[1, 2, 3],\n",
       "        [4, 5, 6]]])"
      ]
     },
     "execution_count": 73,
     "metadata": {},
     "output_type": "execute_result"
    }
   ],
   "source": [
    "arr3d[1] = arr3d_slice_copy\n",
    "arr3d"
   ]
  },
  {
   "cell_type": "code",
   "execution_count": 74,
   "id": "4ca1f33a-1247-49c5-be2a-c82392c7da28",
   "metadata": {},
   "outputs": [
    {
     "data": {
      "text/plain": [
       "array([1, 2, 3])"
      ]
     },
     "execution_count": 74,
     "metadata": {},
     "output_type": "execute_result"
    }
   ],
   "source": [
    "arr3d[1][0]"
   ]
  },
  {
   "cell_type": "code",
   "execution_count": 75,
   "id": "7cfdae94-5d94-4229-8f18-649654f6d2d5",
   "metadata": {},
   "outputs": [
    {
     "data": {
      "text/plain": [
       "array([1, 2, 3])"
      ]
     },
     "execution_count": 75,
     "metadata": {},
     "output_type": "execute_result"
    }
   ],
   "source": [
    "arr3d[1, 0]"
   ]
  },
  {
   "cell_type": "code",
   "execution_count": 76,
   "id": "f4243299-528a-4548-84d5-53540cc94aa2",
   "metadata": {},
   "outputs": [
    {
     "data": {
      "text/plain": [
       "array([[1, 2, 3],\n",
       "       [4, 5, 6]])"
      ]
     },
     "execution_count": 76,
     "metadata": {},
     "output_type": "execute_result"
    }
   ],
   "source": [
    "x = arr3d[1]\n",
    "x"
   ]
  },
  {
   "cell_type": "code",
   "execution_count": 77,
   "id": "038dea47-6a3f-43aa-89f4-efe65cca3758",
   "metadata": {},
   "outputs": [
    {
     "data": {
      "text/plain": [
       "array([1, 2, 3])"
      ]
     },
     "execution_count": 77,
     "metadata": {},
     "output_type": "execute_result"
    }
   ],
   "source": [
    "x[0]    # Same as arr3d[1, 0] and arr3d[1][0]"
   ]
  },
  {
   "cell_type": "markdown",
   "id": "4345312b-5d28-4f23-b7f3-3eca7ef7ce6a",
   "metadata": {},
   "source": [
    "- 2D, 3D, and more-D indexing syntax of NumPy arrays won't work with ergular Python lists or other data structures;\n",
    "- Python nested lists have to be indexed layer by layer, each with full brackets `[]`."
   ]
  },
  {
   "cell_type": "code",
   "execution_count": 78,
   "id": "5641c5bc-4a13-4caf-8989-0a8756d21336",
   "metadata": {},
   "outputs": [
    {
     "data": {
      "text/plain": [
       "[[[1, 2, 3], [4, 5, 6]], [[7, 8, 9], [10, 11, 12]]]"
      ]
     },
     "execution_count": 78,
     "metadata": {},
     "output_type": "execute_result"
    }
   ],
   "source": [
    "list3d = [[[1, 2, 3], [4, 5, 6]], [[7, 8, 9], [10, 11, 12]]]\n",
    "list3d"
   ]
  },
  {
   "cell_type": "code",
   "execution_count": 79,
   "id": "72e7d61f-9826-43d5-87a4-16f0fcea9ae6",
   "metadata": {},
   "outputs": [
    {
     "data": {
      "text/plain": [
       "2"
      ]
     },
     "execution_count": 79,
     "metadata": {},
     "output_type": "execute_result"
    }
   ],
   "source": [
    "len(list3d)"
   ]
  },
  {
   "cell_type": "code",
   "execution_count": 80,
   "id": "5761770e-4125-4504-ab37-eae11f255274",
   "metadata": {},
   "outputs": [
    {
     "data": {
      "text/plain": [
       "[[1, 2, 3], [4, 5, 6]]"
      ]
     },
     "execution_count": 80,
     "metadata": {},
     "output_type": "execute_result"
    }
   ],
   "source": [
    "list3d[0]"
   ]
  },
  {
   "cell_type": "code",
   "execution_count": 81,
   "id": "2c79ae34-9f14-4ac2-9991-4937ae64de84",
   "metadata": {},
   "outputs": [
    {
     "data": {
      "text/plain": [
       "[[7, 8, 9], [10, 11, 12]]"
      ]
     },
     "execution_count": 81,
     "metadata": {},
     "output_type": "execute_result"
    }
   ],
   "source": [
    "list3d[1]"
   ]
  },
  {
   "cell_type": "code",
   "execution_count": 80,
   "id": "9fbf3aa8-227d-4702-b55e-c9d69eecd190",
   "metadata": {},
   "outputs": [],
   "source": [
    "# Causes IndexError: list index out of range\n",
    "#list3d[2]"
   ]
  },
  {
   "cell_type": "code",
   "execution_count": 81,
   "id": "28c1160c-99d9-46d7-8028-2dde5323d65c",
   "metadata": {},
   "outputs": [],
   "source": [
    "# Causes TypeError: list indices must be integers or slices, not tuple\n",
    "#list3d[0, 0]"
   ]
  },
  {
   "cell_type": "code",
   "execution_count": 82,
   "id": "4acaa7bf-1603-42be-8808-a0ffaea1f520",
   "metadata": {},
   "outputs": [
    {
     "data": {
      "text/plain": [
       "[1, 2, 3]"
      ]
     },
     "execution_count": 82,
     "metadata": {},
     "output_type": "execute_result"
    }
   ],
   "source": [
    "list3d[0][0]"
   ]
  },
  {
   "cell_type": "code",
   "execution_count": 83,
   "id": "812a3532-d92d-4683-a5f0-0ad87e59033e",
   "metadata": {},
   "outputs": [
    {
     "data": {
      "text/plain": [
       "1"
      ]
     },
     "execution_count": 83,
     "metadata": {},
     "output_type": "execute_result"
    }
   ],
   "source": [
    "list3d[0][0][0]"
   ]
  },
  {
   "cell_type": "markdown",
   "id": "c3a50ad3-efa1-4ce9-9b15-58c88cc28201",
   "metadata": {},
   "source": [
    "#### Indexing with Slices"
   ]
  },
  {
   "cell_type": "code",
   "execution_count": 84,
   "id": "8e6fdf69-733e-4fca-a32f-595ca20cddaf",
   "metadata": {},
   "outputs": [
    {
     "data": {
      "text/plain": [
       "array([[0, 1, 2],\n",
       "       [3, 4, 5],\n",
       "       [6, 7, 8]])"
      ]
     },
     "execution_count": 84,
     "metadata": {},
     "output_type": "execute_result"
    }
   ],
   "source": [
    "arr = np.arange(9).reshape((3, 3))\n",
    "arr"
   ]
  },
  {
   "cell_type": "code",
   "execution_count": 85,
   "id": "c6a3e075-e192-49c4-a228-f510ff79d738",
   "metadata": {},
   "outputs": [
    {
     "data": {
      "text/plain": [
       "array([[0, 1, 2],\n",
       "       [3, 4, 5]])"
      ]
     },
     "execution_count": 85,
     "metadata": {},
     "output_type": "execute_result"
    }
   ],
   "source": [
    "arr[:2]"
   ]
  },
  {
   "cell_type": "code",
   "execution_count": 86,
   "id": "e7ad18cc-cb55-4c7a-8879-cad3f0edb942",
   "metadata": {},
   "outputs": [
    {
     "data": {
      "text/plain": [
       "array([[1, 2],\n",
       "       [4, 5]])"
      ]
     },
     "execution_count": 86,
     "metadata": {},
     "output_type": "execute_result"
    }
   ],
   "source": [
    "arr[:2, 1:]"
   ]
  },
  {
   "cell_type": "code",
   "execution_count": 87,
   "id": "85b5759e-b595-42ce-8e7f-51552889b464",
   "metadata": {},
   "outputs": [
    {
     "data": {
      "text/plain": [
       "array([3, 4])"
      ]
     },
     "execution_count": 87,
     "metadata": {},
     "output_type": "execute_result"
    }
   ],
   "source": [
    "arr[1, :2]    # Axis 0 reduced"
   ]
  },
  {
   "cell_type": "code",
   "execution_count": 88,
   "id": "6f3ec5da-1652-4ced-8bd3-ade463fb3fa0",
   "metadata": {},
   "outputs": [
    {
     "data": {
      "text/plain": [
       "array([2, 5])"
      ]
     },
     "execution_count": 88,
     "metadata": {},
     "output_type": "execute_result"
    }
   ],
   "source": [
    "arr[:2, 2]    # Axis 1 reduced"
   ]
  },
  {
   "cell_type": "code",
   "execution_count": 89,
   "id": "936e3e9f-2bb4-4b66-90ea-87c39e96290b",
   "metadata": {},
   "outputs": [
    {
     "data": {
      "text/plain": [
       "array([[8]])"
      ]
     },
     "execution_count": 89,
     "metadata": {},
     "output_type": "execute_result"
    }
   ],
   "source": [
    "arr[2:, 2:]    # Both axises retained"
   ]
  },
  {
   "cell_type": "code",
   "execution_count": 90,
   "id": "2c6f1f32-d631-4a7f-b74f-b0d580d22dff",
   "metadata": {},
   "outputs": [
    {
     "data": {
      "text/plain": [
       "array([[0],\n",
       "       [3],\n",
       "       [6]])"
      ]
     },
     "execution_count": 90,
     "metadata": {},
     "output_type": "execute_result"
    }
   ],
   "source": [
    "arr[:, :1]"
   ]
  },
  {
   "cell_type": "code",
   "execution_count": 91,
   "id": "f8542568-4cfd-45eb-bf98-8762ae3f5df6",
   "metadata": {},
   "outputs": [
    {
     "data": {
      "text/plain": [
       "array([[0, 1, 2],\n",
       "       [3, 4, 5],\n",
       "       [6, 7, 8]])"
      ]
     },
     "execution_count": 91,
     "metadata": {},
     "output_type": "execute_result"
    }
   ],
   "source": [
    "arr"
   ]
  },
  {
   "cell_type": "code",
   "execution_count": 92,
   "id": "d41f4093-31e7-451b-8b09-fc442bd5cf27",
   "metadata": {},
   "outputs": [
    {
     "data": {
      "text/plain": [
       "array([[1, 2],\n",
       "       [4, 5]])"
      ]
     },
     "execution_count": 92,
     "metadata": {},
     "output_type": "execute_result"
    }
   ],
   "source": [
    "arr[:2, 1:]"
   ]
  },
  {
   "cell_type": "code",
   "execution_count": 93,
   "id": "c9e5adc0-de14-4a3e-8a35-86caaaf9286c",
   "metadata": {},
   "outputs": [
    {
     "data": {
      "text/plain": [
       "array([6, 7, 8])"
      ]
     },
     "execution_count": 93,
     "metadata": {},
     "output_type": "execute_result"
    }
   ],
   "source": [
    "arr[2]"
   ]
  },
  {
   "cell_type": "code",
   "execution_count": 94,
   "id": "6c0ebb3c-732f-46f7-a68a-203f49cd8474",
   "metadata": {},
   "outputs": [
    {
     "data": {
      "text/plain": [
       "array([6, 7, 8])"
      ]
     },
     "execution_count": 94,
     "metadata": {},
     "output_type": "execute_result"
    }
   ],
   "source": [
    "arr[2, :]"
   ]
  },
  {
   "cell_type": "code",
   "execution_count": 95,
   "id": "8b8ef14c-735a-429e-b4ef-b8f3e20aa134",
   "metadata": {},
   "outputs": [
    {
     "data": {
      "text/plain": [
       "array([[6, 7, 8]])"
      ]
     },
     "execution_count": 95,
     "metadata": {},
     "output_type": "execute_result"
    }
   ],
   "source": [
    "arr[2:, :]    # Different from the line above"
   ]
  },
  {
   "cell_type": "code",
   "execution_count": 96,
   "id": "88d3ce8b-9315-40a6-87dd-d0a57a47775d",
   "metadata": {},
   "outputs": [
    {
     "data": {
      "text/plain": [
       "(1, (3,))"
      ]
     },
     "execution_count": 96,
     "metadata": {},
     "output_type": "execute_result"
    }
   ],
   "source": [
    "arr[2, :].ndim, arr[2, :].shape"
   ]
  },
  {
   "cell_type": "code",
   "execution_count": 97,
   "id": "5a2afbd2-5684-4b5d-8410-ab5ebd60323f",
   "metadata": {},
   "outputs": [
    {
     "data": {
      "text/plain": [
       "(2, (1, 3))"
      ]
     },
     "execution_count": 97,
     "metadata": {},
     "output_type": "execute_result"
    }
   ],
   "source": [
    "arr[2:, :].ndim, arr[2:, :].shape"
   ]
  },
  {
   "cell_type": "code",
   "execution_count": 98,
   "id": "8e2a16e4-a29e-45a2-aa8f-d9c7910e0063",
   "metadata": {},
   "outputs": [
    {
     "data": {
      "text/plain": [
       "array([[0, 1],\n",
       "       [3, 4],\n",
       "       [6, 7]])"
      ]
     },
     "execution_count": 98,
     "metadata": {},
     "output_type": "execute_result"
    }
   ],
   "source": [
    "arr[:, :2]"
   ]
  },
  {
   "cell_type": "code",
   "execution_count": 99,
   "id": "a3844471-df34-43d2-b147-e65dd8d2079f",
   "metadata": {},
   "outputs": [
    {
     "data": {
      "text/plain": [
       "array([3, 4])"
      ]
     },
     "execution_count": 99,
     "metadata": {},
     "output_type": "execute_result"
    }
   ],
   "source": [
    "arr[1, :2]"
   ]
  },
  {
   "cell_type": "code",
   "execution_count": 100,
   "id": "47e00f74-1855-4701-8ed6-8a1373847579",
   "metadata": {},
   "outputs": [
    {
     "data": {
      "text/plain": [
       "array([[3, 4]])"
      ]
     },
     "execution_count": 100,
     "metadata": {},
     "output_type": "execute_result"
    }
   ],
   "source": [
    "arr[1:2, :2]    # Different from the line above"
   ]
  },
  {
   "cell_type": "code",
   "execution_count": 106,
   "id": "2ede6da3-f068-456e-93c1-89684c3f4e6c",
   "metadata": {},
   "outputs": [
    {
     "name": "stderr",
     "output_type": "stream",
     "text": [
      "C:\\Users\\xiuwe\\AppData\\Local\\Temp\\ipykernel_11480\\261274174.py:2: VisibleDeprecationWarning: Creating an ndarray from ragged nested sequences (which is a list-or-tuple of lists-or-tuples-or ndarrays with different lengths or shapes) is deprecated. If you meant to do this, you must specify 'dtype=object' when creating the ndarray.\n",
      "  np.array([[1, 2, 3], [4, 5]])\n"
     ]
    },
    {
     "data": {
      "text/plain": [
       "array([list([1, 2, 3]), list([4, 5])], dtype=object)"
      ]
     },
     "execution_count": 106,
     "metadata": {},
     "output_type": "execute_result"
    }
   ],
   "source": [
    "# Q: Is this OK? No, deprecated for \"ragged nested seq.\".\n",
    "# Causes VisibleDeprecationWarning: Creating an ndarray from ragged nested sequences (...) is deprecated...\n",
    "#np.array([[1, 2, 3], [4, 5]])"
   ]
  },
  {
   "cell_type": "code",
   "execution_count": 101,
   "id": "4ae1a7aa-7e94-408f-8b72-784e4fb35be8",
   "metadata": {},
   "outputs": [
    {
     "data": {
      "text/plain": [
       "array([list([1, 2, 3]), list([4, 5])], dtype=object)"
      ]
     },
     "execution_count": 101,
     "metadata": {},
     "output_type": "execute_result"
    }
   ],
   "source": [
    "z = np.array([[1, 2, 3], [4, 5]], dtype=object)\n",
    "z"
   ]
  },
  {
   "cell_type": "code",
   "execution_count": 103,
   "id": "e147b532-97de-4598-b9ac-2ea76144b79f",
   "metadata": {},
   "outputs": [
    {
     "data": {
      "text/plain": [
       "(2,)"
      ]
     },
     "execution_count": 103,
     "metadata": {},
     "output_type": "execute_result"
    }
   ],
   "source": [
    "z.shape"
   ]
  },
  {
   "cell_type": "code",
   "execution_count": 104,
   "id": "c2085c9f-9960-4e9a-a820-d63d36b91bd4",
   "metadata": {},
   "outputs": [
    {
     "data": {
      "text/plain": [
       "[1, 2, 3]"
      ]
     },
     "execution_count": 104,
     "metadata": {},
     "output_type": "execute_result"
    }
   ],
   "source": [
    "z[0]"
   ]
  },
  {
   "cell_type": "code",
   "execution_count": 105,
   "id": "a1891cf0-4726-4e55-b5c4-1c7be378553a",
   "metadata": {},
   "outputs": [
    {
     "data": {
      "text/plain": [
       "[4, 5]"
      ]
     },
     "execution_count": 105,
     "metadata": {},
     "output_type": "execute_result"
    }
   ],
   "source": [
    "z[1]"
   ]
  },
  {
   "cell_type": "code",
   "execution_count": 106,
   "id": "c43a0c76-af90-463b-8fd9-41c8856f1579",
   "metadata": {},
   "outputs": [
    {
     "data": {
      "text/plain": [
       "array([1, 2, 3])"
      ]
     },
     "execution_count": 106,
     "metadata": {},
     "output_type": "execute_result"
    }
   ],
   "source": [
    "np.array([1, 2, 3])"
   ]
  },
  {
   "cell_type": "code",
   "execution_count": 107,
   "id": "d730e17e-c76e-4026-9aa5-1afb12f6df07",
   "metadata": {},
   "outputs": [
    {
     "data": {
      "text/plain": [
       "array([[1, 2, 3],\n",
       "       [4, 5, 6]])"
      ]
     },
     "execution_count": 107,
     "metadata": {},
     "output_type": "execute_result"
    }
   ],
   "source": [
    "np.array([[1, 2, 3], [4, 5, 6]])"
   ]
  },
  {
   "cell_type": "markdown",
   "id": "34743959-2e30-4f16-b247-9fb9377a9857",
   "metadata": {
    "tags": []
   },
   "source": [
    "#### Boolean Indexing"
   ]
  },
  {
   "cell_type": "markdown",
   "id": "5f8c0caf-fb29-4057-a009-271556434243",
   "metadata": {},
   "source": [
    "- `new_val = data[mask]` creates a copy of data where mask is True, and labels the new copy new_val;\n",
    "- `data[mask] = some_val` assigns some_val to elements of data where mask is True."
   ]
  },
  {
   "cell_type": "code",
   "execution_count": 108,
   "id": "463de15f-a644-4ddb-ac37-465d9883f590",
   "metadata": {},
   "outputs": [
    {
     "data": {
      "text/plain": [
       "array(['Bob', 'Joe', 'Will', 'Bob', 'Will', 'Joe', 'Joe'], dtype='<U4')"
      ]
     },
     "execution_count": 108,
     "metadata": {},
     "output_type": "execute_result"
    }
   ],
   "source": [
    "names = np.array(['Bob', 'Joe', 'Will', 'Bob', 'Will', 'Joe', 'Joe'])\n",
    "names"
   ]
  },
  {
   "cell_type": "code",
   "execution_count": 109,
   "id": "3b579d0b-cc76-4bc5-ae0c-ed5fa2431cc7",
   "metadata": {},
   "outputs": [
    {
     "data": {
      "text/plain": [
       "array([[ 0,  1],\n",
       "       [ 2,  3],\n",
       "       [ 4,  5],\n",
       "       [ 6,  7],\n",
       "       [ 8,  9],\n",
       "       [10, 11],\n",
       "       [12, 13]])"
      ]
     },
     "execution_count": 109,
     "metadata": {},
     "output_type": "execute_result"
    }
   ],
   "source": [
    "data = np.arange(14).reshape((7, 2))\n",
    "data"
   ]
  },
  {
   "cell_type": "code",
   "execution_count": 110,
   "id": "42048cea-3cb8-45ea-abee-0ee060708d7f",
   "metadata": {},
   "outputs": [
    {
     "data": {
      "text/plain": [
       "array([ True, False, False,  True, False, False, False])"
      ]
     },
     "execution_count": 110,
     "metadata": {},
     "output_type": "execute_result"
    }
   ],
   "source": [
    "names == 'Bob'    # Results in a Boolean array"
   ]
  },
  {
   "cell_type": "code",
   "execution_count": 111,
   "id": "1f847cf2-6924-4646-a479-7bf4c931950a",
   "metadata": {},
   "outputs": [
    {
     "data": {
      "text/plain": [
       "array([[0, 1],\n",
       "       [6, 7]])"
      ]
     },
     "execution_count": 111,
     "metadata": {},
     "output_type": "execute_result"
    }
   ],
   "source": [
    "data[_]    # Index data with the above Boolean array"
   ]
  },
  {
   "cell_type": "code",
   "execution_count": 112,
   "id": "ce614c9c-2366-4986-b482-4c5e60ac8448",
   "metadata": {},
   "outputs": [
    {
     "data": {
      "text/plain": [
       "array([[1],\n",
       "       [7]])"
      ]
     },
     "execution_count": 112,
     "metadata": {},
     "output_type": "execute_result"
    }
   ],
   "source": [
    "data[__, 1:]    # Mix the above above Boolean array with slicing"
   ]
  },
  {
   "cell_type": "code",
   "execution_count": 113,
   "id": "4bb6ca41-a3fa-4210-8306-03bae34bc3b7",
   "metadata": {},
   "outputs": [
    {
     "data": {
      "text/plain": [
       "array([1, 7])"
      ]
     },
     "execution_count": 113,
     "metadata": {},
     "output_type": "execute_result"
    }
   ],
   "source": [
    "data[___, 1]"
   ]
  },
  {
   "cell_type": "code",
   "execution_count": 114,
   "id": "223ef0d3-0a8d-4138-af3c-f28fd10ab8db",
   "metadata": {},
   "outputs": [
    {
     "data": {
      "text/plain": [
       "array([[ 2,  3],\n",
       "       [ 4,  5],\n",
       "       [ 8,  9],\n",
       "       [10, 11],\n",
       "       [12, 13]])"
      ]
     },
     "execution_count": 114,
     "metadata": {},
     "output_type": "execute_result"
    }
   ],
   "source": [
    "data[~(names == 'Bob')]"
   ]
  },
  {
   "cell_type": "code",
   "execution_count": 115,
   "id": "d73666ea-19d1-4875-b292-165e74167d72",
   "metadata": {},
   "outputs": [
    {
     "data": {
      "text/plain": [
       "array([[ 2,  3],\n",
       "       [ 4,  5],\n",
       "       [ 8,  9],\n",
       "       [10, 11],\n",
       "       [12, 13]])"
      ]
     },
     "execution_count": 115,
     "metadata": {},
     "output_type": "execute_result"
    }
   ],
   "source": [
    "data[(names != 'Bob')]"
   ]
  },
  {
   "cell_type": "code",
   "execution_count": 116,
   "id": "9fd3c7df-f749-4700-92d3-2bbe2b153546",
   "metadata": {},
   "outputs": [
    {
     "data": {
      "text/plain": [
       "array([ True, False, False,  True, False, False, False])"
      ]
     },
     "execution_count": 116,
     "metadata": {},
     "output_type": "execute_result"
    }
   ],
   "source": [
    "mask = (names == 'Bob')\n",
    "mask"
   ]
  },
  {
   "cell_type": "code",
   "execution_count": 117,
   "id": "eb896ccc-b9e8-48b1-96ea-62291b282f5b",
   "metadata": {},
   "outputs": [
    {
     "data": {
      "text/plain": [
       "array([[0, 1],\n",
       "       [6, 7]])"
      ]
     },
     "execution_count": 117,
     "metadata": {},
     "output_type": "execute_result"
    }
   ],
   "source": [
    "data[mask]"
   ]
  },
  {
   "cell_type": "code",
   "execution_count": 118,
   "id": "0bf2d57d-c81c-4352-9d62-e64dc914d7b2",
   "metadata": {},
   "outputs": [
    {
     "data": {
      "text/plain": [
       "array([[ 2,  3],\n",
       "       [ 4,  5],\n",
       "       [ 8,  9],\n",
       "       [10, 11],\n",
       "       [12, 13]])"
      ]
     },
     "execution_count": 118,
     "metadata": {},
     "output_type": "execute_result"
    }
   ],
   "source": [
    "data[~mask]"
   ]
  },
  {
   "cell_type": "code",
   "execution_count": 119,
   "id": "6c930470-65ec-4869-a17e-ecb12467689a",
   "metadata": {},
   "outputs": [
    {
     "data": {
      "text/plain": [
       "array([ True, False,  True,  True,  True, False, False])"
      ]
     },
     "execution_count": 119,
     "metadata": {},
     "output_type": "execute_result"
    }
   ],
   "source": [
    "mask2 = (mask | (names == 'Will'))    # Bit-wise or op `|`, not logical or op `or`\n",
    "mask2"
   ]
  },
  {
   "cell_type": "code",
   "execution_count": 120,
   "id": "fba38156-e9c6-4916-9e2a-242ac8da1f8b",
   "metadata": {},
   "outputs": [
    {
     "data": {
      "text/plain": [
       "array([[0, 1],\n",
       "       [4, 5],\n",
       "       [6, 7],\n",
       "       [8, 9]])"
      ]
     },
     "execution_count": 120,
     "metadata": {},
     "output_type": "execute_result"
    }
   ],
   "source": [
    "data[mask2]"
   ]
  },
  {
   "cell_type": "code",
   "execution_count": 121,
   "id": "3ccb5d7b-7301-4b70-952b-1584b94faecd",
   "metadata": {},
   "outputs": [
    {
     "data": {
      "text/plain": [
       "array([[ 0,  1],\n",
       "       [ 2,  3],\n",
       "       [ 4,  5],\n",
       "       [ 6,  7],\n",
       "       [ 8,  9],\n",
       "       [10, 11],\n",
       "       [12, 13]])"
      ]
     },
     "execution_count": 121,
     "metadata": {},
     "output_type": "execute_result"
    }
   ],
   "source": [
    "data"
   ]
  },
  {
   "cell_type": "code",
   "execution_count": 122,
   "id": "efa39869-d732-4a74-8fcf-4a4197c4d2db",
   "metadata": {},
   "outputs": [
    {
     "data": {
      "text/plain": [
       "array([[ True,  True],\n",
       "       [ True,  True],\n",
       "       [ True,  True],\n",
       "       [False, False],\n",
       "       [False, False],\n",
       "       [False, False],\n",
       "       [False, False]])"
      ]
     },
     "execution_count": 122,
     "metadata": {},
     "output_type": "execute_result"
    }
   ],
   "source": [
    "data < 6"
   ]
  },
  {
   "cell_type": "code",
   "execution_count": 123,
   "id": "7363a4c0-a8c3-4076-814e-0df25e5eb431",
   "metadata": {},
   "outputs": [
    {
     "data": {
      "text/plain": [
       "array([[ 0,  0],\n",
       "       [ 0,  0],\n",
       "       [ 0,  0],\n",
       "       [ 6,  7],\n",
       "       [ 8,  9],\n",
       "       [10, 11],\n",
       "       [12, 13]])"
      ]
     },
     "execution_count": 123,
     "metadata": {},
     "output_type": "execute_result"
    }
   ],
   "source": [
    "data[data < 6] = 0\n",
    "data"
   ]
  },
  {
   "cell_type": "code",
   "execution_count": 124,
   "id": "28f59961-8458-4e5c-a19b-09b425474b82",
   "metadata": {},
   "outputs": [
    {
     "data": {
      "text/plain": [
       "array([[77, 77],\n",
       "       [ 0,  0],\n",
       "       [77, 77],\n",
       "       [77, 77],\n",
       "       [77, 77],\n",
       "       [10, 11],\n",
       "       [12, 13]])"
      ]
     },
     "execution_count": 124,
     "metadata": {},
     "output_type": "execute_result"
    }
   ],
   "source": [
    "data[names != 'Joe'] = 77\n",
    "data"
   ]
  },
  {
   "cell_type": "code",
   "execution_count": 125,
   "id": "66c5064b-8384-44f3-b00e-79cc9d26f9ad",
   "metadata": {},
   "outputs": [
    {
     "data": {
      "text/plain": [
       "array(['Bob', 'Joe', 'Will', 'Bob', 'Will', 'Joe', 'Joe'], dtype='<U4')"
      ]
     },
     "execution_count": 125,
     "metadata": {},
     "output_type": "execute_result"
    }
   ],
   "source": [
    "names = np.array(['Bob', 'Joe', 'Will', 'Bob', 'Will', 'Joe', 'Joe'])\n",
    "names"
   ]
  },
  {
   "cell_type": "code",
   "execution_count": 126,
   "id": "35e40bf7-5b20-421d-ae87-c4609a86f669",
   "metadata": {},
   "outputs": [
    {
     "data": {
      "text/plain": [
       "array([[ 0,  1],\n",
       "       [ 2,  3],\n",
       "       [ 4,  5],\n",
       "       [ 6,  7],\n",
       "       [ 8,  9],\n",
       "       [10, 11],\n",
       "       [12, 13]])"
      ]
     },
     "execution_count": 126,
     "metadata": {},
     "output_type": "execute_result"
    }
   ],
   "source": [
    "data = np.arange(14).reshape((7, 2))\n",
    "data"
   ]
  },
  {
   "cell_type": "code",
   "execution_count": 127,
   "id": "7c2ac593-0f74-4811-868e-55a3f68db42b",
   "metadata": {},
   "outputs": [
    {
     "data": {
      "text/plain": [
       "array([ True, False, False,  True, False, False, False])"
      ]
     },
     "execution_count": 127,
     "metadata": {},
     "output_type": "execute_result"
    }
   ],
   "source": [
    "mask"
   ]
  },
  {
   "cell_type": "code",
   "execution_count": 128,
   "id": "fa1d03be-6de6-499a-9a41-db743d977a84",
   "metadata": {},
   "outputs": [
    {
     "data": {
      "text/plain": [
       "array([[0, 1],\n",
       "       [6, 7]])"
      ]
     },
     "execution_count": 128,
     "metadata": {},
     "output_type": "execute_result"
    }
   ],
   "source": [
    "new_val = data[mask]\n",
    "new_val"
   ]
  },
  {
   "cell_type": "code",
   "execution_count": 131,
   "id": "5f75abb6-29ea-4425-894e-445e580827f2",
   "metadata": {},
   "outputs": [
    {
     "data": {
      "text/plain": [
       "int"
      ]
     },
     "execution_count": 131,
     "metadata": {},
     "output_type": "execute_result"
    }
   ],
   "source": [
    "type(new_val)"
   ]
  },
  {
   "cell_type": "code",
   "execution_count": 129,
   "id": "89dfbc6f-787e-4e83-931e-ae8bc659de50",
   "metadata": {},
   "outputs": [
    {
     "data": {
      "text/plain": [
       "-1"
      ]
     },
     "execution_count": 129,
     "metadata": {},
     "output_type": "execute_result"
    }
   ],
   "source": [
    "new_val = -1\n",
    "new_val"
   ]
  },
  {
   "cell_type": "code",
   "execution_count": 130,
   "id": "9ffbc02e-2b85-4292-9bbf-a23fa086fe33",
   "metadata": {},
   "outputs": [
    {
     "data": {
      "text/plain": [
       "array([[ 0,  1],\n",
       "       [ 2,  3],\n",
       "       [ 4,  5],\n",
       "       [ 6,  7],\n",
       "       [ 8,  9],\n",
       "       [10, 11],\n",
       "       [12, 13]])"
      ]
     },
     "execution_count": 130,
     "metadata": {},
     "output_type": "execute_result"
    }
   ],
   "source": [
    "data"
   ]
  },
  {
   "cell_type": "code",
   "execution_count": 132,
   "id": "5f39f616-c288-4869-bd17-b8547bf378c1",
   "metadata": {},
   "outputs": [
    {
     "data": {
      "text/plain": [
       "array([[-1, -1],\n",
       "       [ 2,  3],\n",
       "       [ 4,  5],\n",
       "       [-1, -1],\n",
       "       [ 8,  9],\n",
       "       [10, 11],\n",
       "       [12, 13]])"
      ]
     },
     "execution_count": 132,
     "metadata": {},
     "output_type": "execute_result"
    }
   ],
   "source": [
    "data[mask] = -1\n",
    "data"
   ]
  },
  {
   "cell_type": "code",
   "execution_count": null,
   "id": "71ae37ef-9a4e-4e39-af79-e534725731c5",
   "metadata": {},
   "outputs": [],
   "source": []
  },
  {
   "cell_type": "markdown",
   "id": "2ca8bf40-afeb-449b-9c5e-2a9fa89eeea1",
   "metadata": {},
   "source": [
    "#### Fancy Indexing with Integer Arrays"
   ]
  },
  {
   "cell_type": "markdown",
   "id": "2188bbfe-4db8-4855-89bb-bf9d5f64edfe",
   "metadata": {},
   "source": [
    "- `new_val = data[int_arr]` creates a copy of indexed data elements, and labels the new copy new_val;\n",
    "- `data[int_arr] = some_val` assigns some_val to indexed data elements."
   ]
  },
  {
   "cell_type": "code",
   "execution_count": 133,
   "id": "5e2f5cef-9b04-4b75-a242-1c36a0ee4b98",
   "metadata": {},
   "outputs": [
    {
     "data": {
      "text/plain": [
       "array([[0., 0., 0., 0.],\n",
       "       [0., 0., 0., 0.],\n",
       "       [0., 0., 0., 0.],\n",
       "       [0., 0., 0., 0.],\n",
       "       [0., 0., 0., 0.],\n",
       "       [0., 0., 0., 0.],\n",
       "       [0., 0., 0., 0.],\n",
       "       [0., 0., 0., 0.]])"
      ]
     },
     "execution_count": 133,
     "metadata": {},
     "output_type": "execute_result"
    }
   ],
   "source": [
    "arr = np.zeros((8, 4))\n",
    "arr"
   ]
  },
  {
   "cell_type": "code",
   "execution_count": 134,
   "id": "05f6d8df-f303-41ed-99d9-73124e0cf977",
   "metadata": {},
   "outputs": [
    {
     "data": {
      "text/plain": [
       "array([[0., 0., 0., 0.],\n",
       "       [1., 1., 1., 1.],\n",
       "       [2., 2., 2., 2.],\n",
       "       [3., 3., 3., 3.],\n",
       "       [4., 4., 4., 4.],\n",
       "       [5., 5., 5., 5.],\n",
       "       [6., 6., 6., 6.],\n",
       "       [7., 7., 7., 7.]])"
      ]
     },
     "execution_count": 134,
     "metadata": {},
     "output_type": "execute_result"
    }
   ],
   "source": [
    "for i in range(8):\n",
    "    arr[i] = i\n",
    "    \n",
    "arr"
   ]
  },
  {
   "cell_type": "code",
   "execution_count": 135,
   "id": "6b7707e3-015e-492d-97e1-bc6c60646cf3",
   "metadata": {},
   "outputs": [
    {
     "data": {
      "text/plain": [
       "array([[4., 4., 4., 4.],\n",
       "       [3., 3., 3., 3.],\n",
       "       [0., 0., 0., 0.],\n",
       "       [6., 6., 6., 6.]])"
      ]
     },
     "execution_count": 135,
     "metadata": {},
     "output_type": "execute_result"
    }
   ],
   "source": [
    "arr[[4, 3, 0, 6]]"
   ]
  },
  {
   "cell_type": "code",
   "execution_count": 136,
   "id": "f971cf08-85f5-42b6-8bbd-647be84c51d0",
   "metadata": {},
   "outputs": [
    {
     "data": {
      "text/plain": [
       "array([[5., 5., 5., 5.],\n",
       "       [3., 3., 3., 3.],\n",
       "       [1., 1., 1., 1.]])"
      ]
     },
     "execution_count": 136,
     "metadata": {},
     "output_type": "execute_result"
    }
   ],
   "source": [
    "arr[[-3, -5, -7]]"
   ]
  },
  {
   "cell_type": "code",
   "execution_count": 137,
   "id": "c8add7bc-975b-45d9-b5d3-67045a29b364",
   "metadata": {},
   "outputs": [
    {
     "data": {
      "text/plain": [
       "array([[ 0,  1,  2,  3],\n",
       "       [ 4,  5,  6,  7],\n",
       "       [ 8,  9, 10, 11],\n",
       "       [12, 13, 14, 15],\n",
       "       [16, 17, 18, 19],\n",
       "       [20, 21, 22, 23],\n",
       "       [24, 25, 26, 27],\n",
       "       [28, 29, 30, 31]])"
      ]
     },
     "execution_count": 137,
     "metadata": {},
     "output_type": "execute_result"
    }
   ],
   "source": [
    "arr1 = np.arange(32).reshape((8, 4))\n",
    "arr1"
   ]
  },
  {
   "cell_type": "code",
   "execution_count": 138,
   "id": "43444b48-ee08-4fc2-92b7-cc348c3ffa72",
   "metadata": {},
   "outputs": [
    {
     "data": {
      "text/plain": [
       "array([ 4, 23, 29, 10])"
      ]
     },
     "execution_count": 138,
     "metadata": {},
     "output_type": "execute_result"
    }
   ],
   "source": [
    "arr1[[1, 5, 7, 2], [0, 3, 1, 2]]    # Passing multiple index arrays"
   ]
  },
  {
   "cell_type": "code",
   "execution_count": 139,
   "id": "e51e2ed2-3456-4171-b85b-3216d4da5f78",
   "metadata": {},
   "outputs": [
    {
     "data": {
      "text/plain": [
       "(4, 23, 29, 10)"
      ]
     },
     "execution_count": 139,
     "metadata": {},
     "output_type": "execute_result"
    }
   ],
   "source": [
    "arr1[1, 0], arr1[5, 3], arr1[7, 1], arr1[2, 2]"
   ]
  },
  {
   "cell_type": "code",
   "execution_count": 140,
   "id": "09683851-7be1-4761-ae3e-b4fbdaecf75a",
   "metadata": {},
   "outputs": [
    {
     "data": {
      "text/plain": [
       "array([[ 4,  7,  5,  6],\n",
       "       [20, 23, 21, 22],\n",
       "       [28, 31, 29, 30],\n",
       "       [ 8, 11,  9, 10]])"
      ]
     },
     "execution_count": 140,
     "metadata": {},
     "output_type": "execute_result"
    }
   ],
   "source": [
    "arr1[[1, 5, 7, 2]][:, [0, 3, 1, 2]]    # Selecting a rectanglular region and reordering"
   ]
  },
  {
   "cell_type": "code",
   "execution_count": 141,
   "id": "59fba23e-c6db-435e-9ddc-03a49d35870f",
   "metadata": {},
   "outputs": [
    {
     "data": {
      "text/plain": [
       "array([ 4, 23, 29, 10])"
      ]
     },
     "execution_count": 141,
     "metadata": {},
     "output_type": "execute_result"
    }
   ],
   "source": [
    "fancy_copy = arr1[[1, 5, 7, 2], [0, 3, 1, 2]]\n",
    "fancy_copy"
   ]
  },
  {
   "cell_type": "code",
   "execution_count": 142,
   "id": "f85828e2-a477-49a3-9e89-32a71064ee5e",
   "metadata": {},
   "outputs": [
    {
     "data": {
      "text/plain": [
       "array([-1, -1, -1, -1])"
      ]
     },
     "execution_count": 142,
     "metadata": {},
     "output_type": "execute_result"
    }
   ],
   "source": [
    "fancy_copy[:] = -1\n",
    "fancy_copy"
   ]
  },
  {
   "cell_type": "code",
   "execution_count": 143,
   "id": "fb3f2935-5b4a-4465-ae7b-25cdeeb61583",
   "metadata": {},
   "outputs": [
    {
     "data": {
      "text/plain": [
       "array([[ 0,  1,  2,  3],\n",
       "       [ 4,  5,  6,  7],\n",
       "       [ 8,  9, 10, 11],\n",
       "       [12, 13, 14, 15],\n",
       "       [16, 17, 18, 19],\n",
       "       [20, 21, 22, 23],\n",
       "       [24, 25, 26, 27],\n",
       "       [28, 29, 30, 31]])"
      ]
     },
     "execution_count": 143,
     "metadata": {},
     "output_type": "execute_result"
    }
   ],
   "source": [
    "arr1"
   ]
  },
  {
   "cell_type": "code",
   "execution_count": 144,
   "id": "3fe3d8c0-8e2e-4427-a3df-759c00409904",
   "metadata": {},
   "outputs": [
    {
     "data": {
      "text/plain": [
       "array([[ 0,  1,  2,  3],\n",
       "       [-1,  5,  6,  7],\n",
       "       [ 8,  9, -1, 11],\n",
       "       [12, 13, 14, 15],\n",
       "       [16, 17, 18, 19],\n",
       "       [20, 21, 22, -1],\n",
       "       [24, 25, 26, 27],\n",
       "       [28, -1, 30, 31]])"
      ]
     },
     "execution_count": 144,
     "metadata": {},
     "output_type": "execute_result"
    }
   ],
   "source": [
    "arr1[[1, 5, 7, 2], [0, 3, 1, 2]] = -1\n",
    "arr1"
   ]
  },
  {
   "cell_type": "code",
   "execution_count": null,
   "id": "c2b3f87a-38bc-4d3c-8b0e-ed752f5fd615",
   "metadata": {},
   "outputs": [],
   "source": []
  },
  {
   "cell_type": "markdown",
   "id": "906e347f-81dd-4ab6-ac06-b951025681c3",
   "metadata": {},
   "source": [
    "#### Transposing Arrays and Swapping Axes"
   ]
  },
  {
   "cell_type": "code",
   "execution_count": 145,
   "id": "df04d0f9-4dbf-4214-8a1c-e6521a74ce7f",
   "metadata": {},
   "outputs": [
    {
     "data": {
      "text/plain": [
       "array([[ 0,  1,  2,  3,  4],\n",
       "       [ 5,  6,  7,  8,  9],\n",
       "       [10, 11, 12, 13, 14]])"
      ]
     },
     "execution_count": 145,
     "metadata": {},
     "output_type": "execute_result"
    }
   ],
   "source": [
    "arr = np.arange(15).reshape((3, 5))\n",
    "arr"
   ]
  },
  {
   "cell_type": "code",
   "execution_count": 146,
   "id": "cee41c7e-855b-47c9-a31d-ae4a1b28bf0c",
   "metadata": {},
   "outputs": [
    {
     "data": {
      "text/plain": [
       "array([[ 0,  5, 10],\n",
       "       [ 1,  6, 11],\n",
       "       [ 2,  7, 12],\n",
       "       [ 3,  8, 13],\n",
       "       [ 4,  9, 14]])"
      ]
     },
     "execution_count": 146,
     "metadata": {},
     "output_type": "execute_result"
    }
   ],
   "source": [
    "arr.T"
   ]
  },
  {
   "cell_type": "code",
   "execution_count": 147,
   "id": "07860400-d173-4efb-b1e9-7a024927d2c9",
   "metadata": {},
   "outputs": [
    {
     "data": {
      "text/plain": [
       "array([[ 0,  1,  2,  3,  4],\n",
       "       [ 5,  6,  7,  8,  9],\n",
       "       [10, 11, 12, 13, 14]])"
      ]
     },
     "execution_count": 147,
     "metadata": {},
     "output_type": "execute_result"
    }
   ],
   "source": [
    "arr"
   ]
  },
  {
   "cell_type": "code",
   "execution_count": 148,
   "id": "175a3146-3a2d-44f1-9b2c-c802c46f557e",
   "metadata": {},
   "outputs": [
    {
     "data": {
      "text/plain": [
       "array([[ 0,  1,  0],\n",
       "       [ 1,  2, -2],\n",
       "       [ 6,  3,  2],\n",
       "       [-1,  0, -1],\n",
       "       [ 1,  0,  1]])"
      ]
     },
     "execution_count": 148,
     "metadata": {},
     "output_type": "execute_result"
    }
   ],
   "source": [
    "arr1 = np.array([[0, 1, 0], [1, 2, -2], [6, 3, 2], [-1, 0, -1], [1, 0, 1]])\n",
    "arr1"
   ]
  },
  {
   "cell_type": "code",
   "execution_count": 149,
   "id": "b2afe866-3b6b-4742-be52-950ddb931c17",
   "metadata": {},
   "outputs": [
    {
     "data": {
      "text/plain": [
       "array([[ 0,  1,  6, -1,  1],\n",
       "       [ 1,  2,  3,  0,  0],\n",
       "       [ 0, -2,  2, -1,  1]])"
      ]
     },
     "execution_count": 149,
     "metadata": {},
     "output_type": "execute_result"
    }
   ],
   "source": [
    "arr1.T"
   ]
  },
  {
   "cell_type": "code",
   "execution_count": 150,
   "id": "5effbd03-9ad4-4a9a-afb4-cf6d20f683c6",
   "metadata": {},
   "outputs": [
    {
     "data": {
      "text/plain": [
       "array([[39, 20, 12],\n",
       "       [20, 14,  2],\n",
       "       [12,  2, 10]])"
      ]
     },
     "execution_count": 150,
     "metadata": {},
     "output_type": "execute_result"
    }
   ],
   "source": [
    "np.dot(arr1.T, arr1)"
   ]
  },
  {
   "cell_type": "code",
   "execution_count": 151,
   "id": "50a1db62-88d7-4982-a911-7bc2d672750b",
   "metadata": {},
   "outputs": [
    {
     "data": {
      "text/plain": [
       "array([[39, 20, 12],\n",
       "       [20, 14,  2],\n",
       "       [12,  2, 10]])"
      ]
     },
     "execution_count": 151,
     "metadata": {},
     "output_type": "execute_result"
    }
   ],
   "source": [
    "arr1.T @ arr1    # infix operator @ for matrix mul."
   ]
  },
  {
   "cell_type": "code",
   "execution_count": 152,
   "id": "0fb06779-31ba-4bf0-ac9a-1065afbdcd43",
   "metadata": {},
   "outputs": [
    {
     "data": {
      "text/plain": [
       "array([[ 0,  1,  0],\n",
       "       [ 1,  2, -2],\n",
       "       [ 6,  3,  2],\n",
       "       [-1,  0, -1],\n",
       "       [ 1,  0,  1]])"
      ]
     },
     "execution_count": 152,
     "metadata": {},
     "output_type": "execute_result"
    }
   ],
   "source": [
    "arr1"
   ]
  },
  {
   "cell_type": "code",
   "execution_count": 153,
   "id": "b46903d6-ab46-49f9-879a-328164ebd391",
   "metadata": {},
   "outputs": [
    {
     "data": {
      "text/plain": [
       "array([[ 0,  1,  6, -1,  1],\n",
       "       [ 1,  2,  3,  0,  0],\n",
       "       [ 0, -2,  2, -1,  1]])"
      ]
     },
     "execution_count": 153,
     "metadata": {},
     "output_type": "execute_result"
    }
   ],
   "source": [
    "arr1.swapaxes(0, 1)    # Simple transposing with .T is a special case of swapping axes"
   ]
  },
  {
   "cell_type": "code",
   "execution_count": null,
   "id": "6b34a60d-3511-44a9-909d-fe024214a30c",
   "metadata": {},
   "outputs": [],
   "source": []
  },
  {
   "cell_type": "code",
   "execution_count": 154,
   "id": "e9fab003-c3a5-4d74-9fce-0c923123d226",
   "metadata": {},
   "outputs": [
    {
     "data": {
      "text/plain": [
       "array([[[ 1,  2,  3],\n",
       "        [ 4,  5,  6]],\n",
       "\n",
       "       [[ 7,  8,  9],\n",
       "        [10, 11, 12]]])"
      ]
     },
     "execution_count": 154,
     "metadata": {},
     "output_type": "execute_result"
    }
   ],
   "source": [
    "arr3d = np.array([[[1, 2, 3], [4, 5, 6]], [[7, 8, 9], [10, 11, 12]]])\n",
    "arr3d"
   ]
  },
  {
   "cell_type": "code",
   "execution_count": 155,
   "id": "ae1558f5-f970-45cf-90b1-3f7037ccb98b",
   "metadata": {},
   "outputs": [
    {
     "data": {
      "text/plain": [
       "3"
      ]
     },
     "execution_count": 155,
     "metadata": {},
     "output_type": "execute_result"
    }
   ],
   "source": [
    "arr3d.ndim"
   ]
  },
  {
   "cell_type": "code",
   "execution_count": 156,
   "id": "ac136d61-6f30-4273-9318-363c6113f5d7",
   "metadata": {},
   "outputs": [
    {
     "data": {
      "text/plain": [
       "(2, 2, 3)"
      ]
     },
     "execution_count": 156,
     "metadata": {},
     "output_type": "execute_result"
    }
   ],
   "source": [
    "arr3d.shape"
   ]
  },
  {
   "cell_type": "code",
   "execution_count": 157,
   "id": "c02793ce-3830-4544-8300-f103fc1dc9d1",
   "metadata": {},
   "outputs": [
    {
     "data": {
      "text/plain": [
       "array([[[ 1,  7],\n",
       "        [ 4, 10]],\n",
       "\n",
       "       [[ 2,  8],\n",
       "        [ 5, 11]],\n",
       "\n",
       "       [[ 3,  9],\n",
       "        [ 6, 12]]])"
      ]
     },
     "execution_count": 157,
     "metadata": {},
     "output_type": "execute_result"
    }
   ],
   "source": [
    "arr3d.swapaxes(0, 2)"
   ]
  },
  {
   "cell_type": "code",
   "execution_count": 158,
   "id": "2e7e2893-ba09-44f2-8f59-9d64d35f3648",
   "metadata": {},
   "outputs": [
    {
     "data": {
      "text/plain": [
       "(3, 2, 2)"
      ]
     },
     "execution_count": 158,
     "metadata": {},
     "output_type": "execute_result"
    }
   ],
   "source": [
    "_.shape"
   ]
  },
  {
   "cell_type": "code",
   "execution_count": 159,
   "id": "ba18c020-94d3-4044-ae79-d733aa4aefdf",
   "metadata": {},
   "outputs": [
    {
     "data": {
      "text/plain": [
       "array([ 1,  2,  3,  4,  5,  6,  7,  8,  9, 10, 11, 12])"
      ]
     },
     "execution_count": 159,
     "metadata": {},
     "output_type": "execute_result"
    }
   ],
   "source": [
    "arr3d.reshape((3 * 2 * 2))"
   ]
  },
  {
   "cell_type": "code",
   "execution_count": 160,
   "id": "16925ef4-63be-458a-83a1-43608b9b32cb",
   "metadata": {},
   "outputs": [
    {
     "data": {
      "text/plain": [
       "array([[[ 1,  2],\n",
       "        [ 3,  4]],\n",
       "\n",
       "       [[ 5,  6],\n",
       "        [ 7,  8]],\n",
       "\n",
       "       [[ 9, 10],\n",
       "        [11, 12]]])"
      ]
     },
     "execution_count": 160,
     "metadata": {},
     "output_type": "execute_result"
    }
   ],
   "source": [
    "_.reshape(3, 2, 2)"
   ]
  },
  {
   "cell_type": "code",
   "execution_count": 161,
   "id": "a086502a-3f03-422b-936b-d8f7d50bb547",
   "metadata": {},
   "outputs": [
    {
     "data": {
      "text/plain": [
       "array([[[ True, False],\n",
       "        [False, False]],\n",
       "\n",
       "       [[False, False],\n",
       "        [False, False]],\n",
       "\n",
       "       [[False, False],\n",
       "        [False,  True]]])"
      ]
     },
     "execution_count": 161,
     "metadata": {},
     "output_type": "execute_result"
    }
   ],
   "source": [
    "arr3d.swapaxes(0, 2) == arr3d.reshape((3 * 2 * 2)).reshape(3, 2, 2)"
   ]
  },
  {
   "cell_type": "markdown",
   "id": "36d25946-cbd3-48e4-87b9-48997193122c",
   "metadata": {},
   "source": [
    "Q: How does .swapaxes() work exactly?"
   ]
  },
  {
   "cell_type": "markdown",
   "id": "870fa9b2-f843-4bb3-bc0c-04c1d60b6b96",
   "metadata": {
    "jp-MarkdownHeadingCollapsed": true,
    "tags": []
   },
   "source": [
    "### 4.2 Pseudorandom Number Generator"
   ]
  },
  {
   "cell_type": "code",
   "execution_count": 3,
   "id": "591bd8fe-130a-4111-9511-07f10654ec85",
   "metadata": {},
   "outputs": [
    {
     "data": {
      "text/plain": [
       "array([[ 1.1666,  1.1579, -1.284 , -0.8529],\n",
       "       [-0.7274,  1.4787,  0.7057,  2.0639],\n",
       "       [ 1.1363, -0.381 , -0.4454,  0.3231]])"
      ]
     },
     "execution_count": 3,
     "metadata": {},
     "output_type": "execute_result"
    }
   ],
   "source": [
    "np.random.standard_normal((3, 4))"
   ]
  },
  {
   "cell_type": "code",
   "execution_count": 4,
   "id": "a06a3733-bbb3-43c2-ad18-a01637c4efb6",
   "metadata": {},
   "outputs": [],
   "source": [
    "from random import normalvariate"
   ]
  },
  {
   "cell_type": "code",
   "execution_count": 5,
   "id": "5d617324-1761-4078-88ab-9084a758add5",
   "metadata": {},
   "outputs": [],
   "source": [
    "N = 1_000_000"
   ]
  },
  {
   "cell_type": "code",
   "execution_count": 6,
   "id": "e2d1673f-22d3-4b77-b527-7886b26cadda",
   "metadata": {},
   "outputs": [
    {
     "name": "stdout",
     "output_type": "stream",
     "text": [
      "577 ms ± 8.4 ms per loop (mean ± std. dev. of 7 runs, 1 loop each)\n"
     ]
    }
   ],
   "source": [
    "%timeit samples = [normalvariate(0, 1) for _ in range(N)]"
   ]
  },
  {
   "cell_type": "code",
   "execution_count": 7,
   "id": "d443e434-0903-4c36-bf69-69f7900b0c39",
   "metadata": {},
   "outputs": [
    {
     "name": "stdout",
     "output_type": "stream",
     "text": [
      "19.6 ms ± 417 µs per loop (mean ± std. dev. of 7 runs, 10 loops each)\n"
     ]
    }
   ],
   "source": [
    "%timeit samples = np.random.standard_normal(N)"
   ]
  },
  {
   "cell_type": "code",
   "execution_count": 8,
   "id": "7a816965-dee5-4860-b1ce-5d47c65c0a95",
   "metadata": {},
   "outputs": [
    {
     "data": {
      "text/plain": [
       "29.4388"
      ]
     },
     "execution_count": 8,
     "metadata": {},
     "output_type": "execute_result"
    }
   ],
   "source": [
    "577 / 19.6"
   ]
  },
  {
   "cell_type": "code",
   "execution_count": 9,
   "id": "82c466b2-24a5-4f36-be48-f054ff3c1a6f",
   "metadata": {},
   "outputs": [],
   "source": [
    "# 30x times faster is impressive!"
   ]
  },
  {
   "cell_type": "code",
   "execution_count": 10,
   "id": "7800aac1-a4cc-4759-aa14-e9cfe9445677",
   "metadata": {
    "tags": []
   },
   "outputs": [],
   "source": [
    "rng = np.random.default_rng(seed=12345)"
   ]
  },
  {
   "cell_type": "code",
   "execution_count": 11,
   "id": "afb32d0a-0925-48e9-8939-624a5f04adbe",
   "metadata": {},
   "outputs": [
    {
     "data": {
      "text/plain": [
       "numpy.random._generator.Generator"
      ]
     },
     "execution_count": 11,
     "metadata": {},
     "output_type": "execute_result"
    }
   ],
   "source": [
    "type(rng)"
   ]
  },
  {
   "cell_type": "code",
   "execution_count": 12,
   "id": "bcbb9674-fa08-4b1a-94e7-26f058a3c35a",
   "metadata": {},
   "outputs": [
    {
     "data": {
      "text/plain": [
       "array([[-1.4238,  1.2637, -0.8707, -0.2592],\n",
       "       [-0.0753, -0.7409, -1.3678,  0.6489],\n",
       "       [ 0.3611, -1.9529,  2.3474,  0.9685]])"
      ]
     },
     "execution_count": 12,
     "metadata": {},
     "output_type": "execute_result"
    }
   ],
   "source": [
    "data = rng.standard_normal((3, 4))\n",
    "data"
   ]
  },
  {
   "cell_type": "code",
   "execution_count": 13,
   "id": "250b5378-a8f1-4592-87eb-66790e76503b",
   "metadata": {},
   "outputs": [
    {
     "data": {
      "text/plain": [
       "['__class__',\n",
       " '__delattr__',\n",
       " '__dir__',\n",
       " '__doc__',\n",
       " '__eq__',\n",
       " '__format__',\n",
       " '__ge__',\n",
       " '__getattribute__',\n",
       " '__getstate__',\n",
       " '__gt__',\n",
       " '__hash__',\n",
       " '__init__',\n",
       " '__init_subclass__',\n",
       " '__le__',\n",
       " '__lt__',\n",
       " '__ne__',\n",
       " '__new__',\n",
       " '__reduce__',\n",
       " '__reduce_ex__',\n",
       " '__repr__',\n",
       " '__setattr__',\n",
       " '__setstate__',\n",
       " '__sizeof__',\n",
       " '__str__',\n",
       " '__subclasshook__',\n",
       " '_bit_generator',\n",
       " '_poisson_lam_max',\n",
       " 'beta',\n",
       " 'binomial',\n",
       " 'bit_generator',\n",
       " 'bytes',\n",
       " 'chisquare',\n",
       " 'choice',\n",
       " 'dirichlet',\n",
       " 'exponential',\n",
       " 'f',\n",
       " 'gamma',\n",
       " 'geometric',\n",
       " 'gumbel',\n",
       " 'hypergeometric',\n",
       " 'integers',\n",
       " 'laplace',\n",
       " 'logistic',\n",
       " 'lognormal',\n",
       " 'logseries',\n",
       " 'multinomial',\n",
       " 'multivariate_hypergeometric',\n",
       " 'multivariate_normal',\n",
       " 'negative_binomial',\n",
       " 'noncentral_chisquare',\n",
       " 'noncentral_f',\n",
       " 'normal',\n",
       " 'pareto',\n",
       " 'permutation',\n",
       " 'permuted',\n",
       " 'poisson',\n",
       " 'power',\n",
       " 'random',\n",
       " 'rayleigh',\n",
       " 'shuffle',\n",
       " 'standard_cauchy',\n",
       " 'standard_exponential',\n",
       " 'standard_gamma',\n",
       " 'standard_normal',\n",
       " 'standard_t',\n",
       " 'triangular',\n",
       " 'uniform',\n",
       " 'vonmises',\n",
       " 'wald',\n",
       " 'weibull',\n",
       " 'zipf']"
      ]
     },
     "execution_count": 13,
     "metadata": {},
     "output_type": "execute_result"
    }
   ],
   "source": [
    "dir(rng)"
   ]
  },
  {
   "cell_type": "code",
   "execution_count": 14,
   "id": "7d0bdc8b-e0b2-4942-8451-d760d4355863",
   "metadata": {},
   "outputs": [
    {
     "data": {
      "text/plain": [
       "71"
      ]
     },
     "execution_count": 14,
     "metadata": {},
     "output_type": "execute_result"
    }
   ],
   "source": [
    "len(_)"
   ]
  },
  {
   "cell_type": "markdown",
   "id": "ad311df9-9294-4ec5-b2b6-447ba8f93306",
   "metadata": {
    "jp-MarkdownHeadingCollapsed": true,
    "tags": []
   },
   "source": [
    "### 4.3 Universal Functions: Fast Element-Wise Array Functions"
   ]
  },
  {
   "cell_type": "markdown",
   "id": "f347c1b7-cb8f-42de-a677-c0a4d9cfd753",
   "metadata": {},
   "source": [
    "Unary ufuncs."
   ]
  },
  {
   "cell_type": "code",
   "execution_count": 3,
   "id": "6acb7a2d-83b2-4865-b55c-f684cc89179b",
   "metadata": {},
   "outputs": [
    {
     "data": {
      "text/plain": [
       "array([0, 1, 2, 3, 4, 5, 6, 7, 8, 9])"
      ]
     },
     "execution_count": 3,
     "metadata": {},
     "output_type": "execute_result"
    }
   ],
   "source": [
    "arr = np.arange(10)\n",
    "arr"
   ]
  },
  {
   "cell_type": "code",
   "execution_count": 4,
   "id": "aacdf287-0d56-4ae2-9f11-8ab741110c70",
   "metadata": {},
   "outputs": [
    {
     "data": {
      "text/plain": [
       "array([0.    , 1.    , 1.4142, 1.7321, 2.    , 2.2361, 2.4495, 2.6458,\n",
       "       2.8284, 3.    ])"
      ]
     },
     "execution_count": 4,
     "metadata": {},
     "output_type": "execute_result"
    }
   ],
   "source": [
    "np.sqrt(arr)"
   ]
  },
  {
   "cell_type": "code",
   "execution_count": 5,
   "id": "ce0e97ea-03a5-441e-bc79-a5136e569379",
   "metadata": {},
   "outputs": [
    {
     "ename": "TypeError",
     "evalue": "sqrt() got an unexpected keyword argument 'precision'",
     "output_type": "error",
     "traceback": [
      "\u001b[1;31m---------------------------------------------------------------------------\u001b[0m",
      "\u001b[1;31mTypeError\u001b[0m                                 Traceback (most recent call last)",
      "Cell \u001b[1;32mIn[5], line 1\u001b[0m\n\u001b[1;32m----> 1\u001b[0m \u001b[43mnp\u001b[49m\u001b[38;5;241;43m.\u001b[39;49m\u001b[43msqrt\u001b[49m\u001b[43m(\u001b[49m\u001b[43marr\u001b[49m\u001b[43m,\u001b[49m\u001b[43m \u001b[49m\u001b[43mprecision\u001b[49m\u001b[38;5;241;43m=\u001b[39;49m\u001b[38;5;241;43m2\u001b[39;49m\u001b[43m)\u001b[49m\n",
      "\u001b[1;31mTypeError\u001b[0m: sqrt() got an unexpected keyword argument 'precision'"
     ]
    }
   ],
   "source": [
    "# Causes TypeError: sqrt() got an unexpected keyword argument 'precision'\n",
    "#np.sqrt(arr, precision=2)\n",
    "# What is the right way to change the display precision in np + pd?"
   ]
  },
  {
   "cell_type": "code",
   "execution_count": 5,
   "id": "356404a7-5c29-4f05-ae20-fa1daa0b1c22",
   "metadata": {},
   "outputs": [
    {
     "data": {
      "text/plain": [
       "array([1.0000e+00, 2.7183e+00, 7.3891e+00, 2.0086e+01, 5.4598e+01,\n",
       "       1.4841e+02, 4.0343e+02, 1.0966e+03, 2.9810e+03, 8.1031e+03])"
      ]
     },
     "execution_count": 5,
     "metadata": {},
     "output_type": "execute_result"
    }
   ],
   "source": [
    "np.exp(arr)"
   ]
  },
  {
   "cell_type": "code",
   "execution_count": 6,
   "id": "c1d99e22-07b0-4c86-8798-97d194e5b96c",
   "metadata": {},
   "outputs": [
    {
     "data": {
      "text/plain": [
       "599"
      ]
     },
     "execution_count": 6,
     "metadata": {},
     "output_type": "execute_result"
    }
   ],
   "source": [
    "len(dir(np))"
   ]
  },
  {
   "cell_type": "markdown",
   "id": "db4376dd-d80e-4551-93f0-887d6df69894",
   "metadata": {},
   "source": [
    "599 is a big number!"
   ]
  },
  {
   "cell_type": "markdown",
   "id": "4c21d50b-488e-4df0-8b1d-1963b614954e",
   "metadata": {},
   "source": [
    "Binary ufuncs."
   ]
  },
  {
   "cell_type": "code",
   "execution_count": 7,
   "id": "64d10660-fbcd-4054-bd9a-e5f937f88642",
   "metadata": {},
   "outputs": [],
   "source": [
    "rng = np.random.default_rng(seed=12345)"
   ]
  },
  {
   "cell_type": "code",
   "execution_count": 8,
   "id": "9e8b9271-8f22-4cc1-b2c1-9a6fad50075f",
   "metadata": {},
   "outputs": [
    {
     "data": {
      "text/plain": [
       "array([-1.4238,  1.2637, -0.8707, -0.2592, -0.0753, -0.7409, -1.3678,\n",
       "        0.6489])"
      ]
     },
     "execution_count": 8,
     "metadata": {},
     "output_type": "execute_result"
    }
   ],
   "source": [
    "x = rng.standard_normal(8)\n",
    "x"
   ]
  },
  {
   "cell_type": "code",
   "execution_count": 9,
   "id": "80c21fef-7b37-4ce2-8c48-a1cbd756d5a0",
   "metadata": {},
   "outputs": [
    {
     "data": {
      "text/plain": [
       "array([ 0.3611, -1.9529,  2.3474,  0.9685, -0.7594,  0.9022, -0.467 ,\n",
       "       -0.0607])"
      ]
     },
     "execution_count": 9,
     "metadata": {},
     "output_type": "execute_result"
    }
   ],
   "source": [
    "y = rng.standard_normal(8)\n",
    "y"
   ]
  },
  {
   "cell_type": "code",
   "execution_count": 10,
   "id": "b85b19fd-19d1-447e-88a4-a904fcf3d6c4",
   "metadata": {},
   "outputs": [
    {
     "data": {
      "text/plain": [
       "array([ 0.3611,  1.2637,  2.3474,  0.9685, -0.0753,  0.9022, -0.467 ,\n",
       "        0.6489])"
      ]
     },
     "execution_count": 10,
     "metadata": {},
     "output_type": "execute_result"
    }
   ],
   "source": [
    "greater = np.maximum(x, y)\n",
    "greater"
   ]
  },
  {
   "cell_type": "code",
   "execution_count": 11,
   "id": "1c4a290b-6276-442f-9888-5a65529f4cf2",
   "metadata": {},
   "outputs": [
    {
     "data": {
      "text/plain": [
       "True"
      ]
     },
     "execution_count": 11,
     "metadata": {},
     "output_type": "execute_result"
    }
   ],
   "source": [
    "(greater >= x).all()"
   ]
  },
  {
   "cell_type": "code",
   "execution_count": 12,
   "id": "c8e188c6-c8bf-4411-89c7-230f7b153b73",
   "metadata": {},
   "outputs": [
    {
     "data": {
      "text/plain": [
       "True"
      ]
     },
     "execution_count": 12,
     "metadata": {},
     "output_type": "execute_result"
    }
   ],
   "source": [
    "(greater >= y).all()"
   ]
  },
  {
   "cell_type": "code",
   "execution_count": 13,
   "id": "768bc1cf-a021-4c19-90c3-7b8ad18c33ef",
   "metadata": {
    "collapsed": true,
    "jupyter": {
     "outputs_hidden": true
    },
    "tags": []
   },
   "outputs": [
    {
     "data": {
      "text/plain": [
       "\u001b[1;31mCall signature:\u001b[0m  \u001b[0mnp\u001b[0m\u001b[1;33m.\u001b[0m\u001b[0mmaximum\u001b[0m\u001b[1;33m(\u001b[0m\u001b[1;33m*\u001b[0m\u001b[0margs\u001b[0m\u001b[1;33m,\u001b[0m \u001b[1;33m**\u001b[0m\u001b[0mkwargs\u001b[0m\u001b[1;33m)\u001b[0m\u001b[1;33m\u001b[0m\u001b[1;33m\u001b[0m\u001b[0m\n",
       "\u001b[1;31mType:\u001b[0m            ufunc\n",
       "\u001b[1;31mString form:\u001b[0m     <ufunc 'maximum'>\n",
       "\u001b[1;31mFile:\u001b[0m            d:\\python\\envs\\learn311\\lib\\site-packages\\numpy\\__init__.py\n",
       "\u001b[1;31mDocstring:\u001b[0m      \n",
       "maximum(x1, x2, /, out=None, *, where=True, casting='same_kind', order='K', dtype=None, subok=True[, signature, extobj])\n",
       "\n",
       "Element-wise maximum of array elements.\n",
       "\n",
       "Compare two arrays and returns a new array containing the element-wise\n",
       "maxima. If one of the elements being compared is a NaN, then that\n",
       "element is returned. If both elements are NaNs then the first is\n",
       "returned. The latter distinction is important for complex NaNs, which\n",
       "are defined as at least one of the real or imaginary parts being a NaN.\n",
       "The net effect is that NaNs are propagated.\n",
       "\n",
       "Parameters\n",
       "----------\n",
       "x1, x2 : array_like\n",
       "    The arrays holding the elements to be compared.\n",
       "    If ``x1.shape != x2.shape``, they must be broadcastable to a common\n",
       "    shape (which becomes the shape of the output).\n",
       "out : ndarray, None, or tuple of ndarray and None, optional\n",
       "    A location into which the result is stored. If provided, it must have\n",
       "    a shape that the inputs broadcast to. If not provided or None,\n",
       "    a freshly-allocated array is returned. A tuple (possible only as a\n",
       "    keyword argument) must have length equal to the number of outputs.\n",
       "where : array_like, optional\n",
       "    This condition is broadcast over the input. At locations where the\n",
       "    condition is True, the `out` array will be set to the ufunc result.\n",
       "    Elsewhere, the `out` array will retain its original value.\n",
       "    Note that if an uninitialized `out` array is created via the default\n",
       "    ``out=None``, locations within it where the condition is False will\n",
       "    remain uninitialized.\n",
       "**kwargs\n",
       "    For other keyword-only arguments, see the\n",
       "    :ref:`ufunc docs <ufuncs.kwargs>`.\n",
       "\n",
       "Returns\n",
       "-------\n",
       "y : ndarray or scalar\n",
       "    The maximum of `x1` and `x2`, element-wise.\n",
       "    This is a scalar if both `x1` and `x2` are scalars.\n",
       "\n",
       "See Also\n",
       "--------\n",
       "minimum :\n",
       "    Element-wise minimum of two arrays, propagates NaNs.\n",
       "fmax :\n",
       "    Element-wise maximum of two arrays, ignores NaNs.\n",
       "amax :\n",
       "    The maximum value of an array along a given axis, propagates NaNs.\n",
       "nanmax :\n",
       "    The maximum value of an array along a given axis, ignores NaNs.\n",
       "\n",
       "fmin, amin, nanmin\n",
       "\n",
       "Notes\n",
       "-----\n",
       "The maximum is equivalent to ``np.where(x1 >= x2, x1, x2)`` when\n",
       "neither x1 nor x2 are nans, but it is faster and does proper\n",
       "broadcasting.\n",
       "\n",
       "Examples\n",
       "--------\n",
       ">>> np.maximum([2, 3, 4], [1, 5, 2])\n",
       "array([2, 5, 4])\n",
       "\n",
       ">>> np.maximum(np.eye(2), [0.5, 2]) # broadcasting\n",
       "array([[ 1. ,  2. ],\n",
       "       [ 0.5,  2. ]])\n",
       "\n",
       ">>> np.maximum([np.nan, 0, np.nan], [0, np.nan, np.nan])\n",
       "array([nan, nan, nan])\n",
       ">>> np.maximum(np.Inf, 1)\n",
       "inf\n",
       "\u001b[1;31mClass docstring:\u001b[0m\n",
       "Functions that operate element by element on whole arrays.\n",
       "\n",
       "To see the documentation for a specific ufunc, use `info`.  For\n",
       "example, ``np.info(np.sin)``.  Because ufuncs are written in C\n",
       "(for speed) and linked into Python with NumPy's ufunc facility,\n",
       "Python's help() function finds this page whenever help() is called\n",
       "on a ufunc.\n",
       "\n",
       "A detailed explanation of ufuncs can be found in the docs for :ref:`ufuncs`.\n",
       "\n",
       "**Calling ufuncs:** ``op(*x[, out], where=True, **kwargs)``\n",
       "\n",
       "Apply `op` to the arguments `*x` elementwise, broadcasting the arguments.\n",
       "\n",
       "The broadcasting rules are:\n",
       "\n",
       "* Dimensions of length 1 may be prepended to either array.\n",
       "* Arrays may be repeated along dimensions of length 1.\n",
       "\n",
       "Parameters\n",
       "----------\n",
       "*x : array_like\n",
       "    Input arrays.\n",
       "out : ndarray, None, or tuple of ndarray and None, optional\n",
       "    Alternate array object(s) in which to put the result; if provided, it\n",
       "    must have a shape that the inputs broadcast to. A tuple of arrays\n",
       "    (possible only as a keyword argument) must have length equal to the\n",
       "    number of outputs; use None for uninitialized outputs to be\n",
       "    allocated by the ufunc.\n",
       "where : array_like, optional\n",
       "    This condition is broadcast over the input. At locations where the\n",
       "    condition is True, the `out` array will be set to the ufunc result.\n",
       "    Elsewhere, the `out` array will retain its original value.\n",
       "    Note that if an uninitialized `out` array is created via the default\n",
       "    ``out=None``, locations within it where the condition is False will\n",
       "    remain uninitialized.\n",
       "**kwargs\n",
       "    For other keyword-only arguments, see the :ref:`ufunc docs <ufuncs.kwargs>`.\n",
       "\n",
       "Returns\n",
       "-------\n",
       "r : ndarray or tuple of ndarray\n",
       "    `r` will have the shape that the arrays in `x` broadcast to; if `out` is\n",
       "    provided, it will be returned. If not, `r` will be allocated and\n",
       "    may contain uninitialized values. If the function has more than one\n",
       "    output, then the result will be a tuple of arrays.\n"
      ]
     },
     "metadata": {},
     "output_type": "display_data"
    }
   ],
   "source": [
    "np.maximum?"
   ]
  },
  {
   "cell_type": "code",
   "execution_count": 14,
   "id": "f6a09000-aea5-48ac-9c84-5aa3cbb5da73",
   "metadata": {
    "tags": []
   },
   "outputs": [
    {
     "data": {
      "text/plain": [
       "array([False,  True, False, False,  True, False, False,  True])"
      ]
     },
     "execution_count": 14,
     "metadata": {},
     "output_type": "execute_result"
    }
   ],
   "source": [
    "greater == x"
   ]
  },
  {
   "cell_type": "code",
   "execution_count": 15,
   "id": "dcb62854-5bf0-44d5-8f11-6bf0ca77ac10",
   "metadata": {},
   "outputs": [
    {
     "data": {
      "text/plain": [
       "array([ True, False,  True,  True, False,  True,  True, False])"
      ]
     },
     "execution_count": 15,
     "metadata": {},
     "output_type": "execute_result"
    }
   ],
   "source": [
    "greater == y"
   ]
  },
  {
   "cell_type": "code",
   "execution_count": 16,
   "id": "33680f2f-28ae-4987-8ac8-a3149c6b3ca5",
   "metadata": {},
   "outputs": [
    {
     "data": {
      "text/plain": [
       "array([-7.1191,  6.3186, -4.3533, -1.2959, -0.3767, -3.7044, -6.839 ,\n",
       "        3.2445])"
      ]
     },
     "execution_count": 16,
     "metadata": {},
     "output_type": "execute_result"
    }
   ],
   "source": [
    "x5 = x * 5\n",
    "x5"
   ]
  },
  {
   "cell_type": "code",
   "execution_count": 17,
   "id": "6d5d9850-bf37-4201-b674-06919f706207",
   "metadata": {},
   "outputs": [],
   "source": [
    "remainder, whole_part = np.modf(x5)"
   ]
  },
  {
   "cell_type": "code",
   "execution_count": 18,
   "id": "cdfc1123-c1a2-4482-9698-dcb12d70c8c4",
   "metadata": {},
   "outputs": [
    {
     "data": {
      "text/plain": [
       "array([-7.,  6., -4., -1., -0., -3., -6.,  3.])"
      ]
     },
     "execution_count": 18,
     "metadata": {},
     "output_type": "execute_result"
    }
   ],
   "source": [
    "whole_part"
   ]
  },
  {
   "cell_type": "code",
   "execution_count": 19,
   "id": "854b8cac-1b91-4bfb-a6f1-7f467c71d828",
   "metadata": {},
   "outputs": [
    {
     "data": {
      "text/plain": [
       "array([-0.1191,  0.3186, -0.3533, -0.2959, -0.3767, -0.7044, -0.839 ,\n",
       "        0.2445])"
      ]
     },
     "execution_count": 19,
     "metadata": {},
     "output_type": "execute_result"
    }
   ],
   "source": [
    "remainder"
   ]
  },
  {
   "cell_type": "code",
   "execution_count": 20,
   "id": "ea829d84-f3ae-4fe9-b017-a746da6f753a",
   "metadata": {},
   "outputs": [
    {
     "data": {
      "text/plain": [
       "array([ True,  True,  True,  True, False,  True,  True,  True])"
      ]
     },
     "execution_count": 20,
     "metadata": {},
     "output_type": "execute_result"
    }
   ],
   "source": [
    "np.sign(whole_part) == np.sign(remainder)    # This holds excepts where whole_part==0"
   ]
  },
  {
   "cell_type": "code",
   "execution_count": 21,
   "id": "d37f8648-85eb-4abe-85ec-6b7cb5ae5049",
   "metadata": {},
   "outputs": [
    {
     "data": {
      "text/plain": [
       "array([-1.,  1., -1., -1.,  0., -1., -1.,  1.])"
      ]
     },
     "execution_count": 21,
     "metadata": {},
     "output_type": "execute_result"
    }
   ],
   "source": [
    "np.sign(whole_part)"
   ]
  },
  {
   "cell_type": "code",
   "execution_count": 22,
   "id": "c0caeb15-71c3-4026-9382-77e729a09cc7",
   "metadata": {},
   "outputs": [
    {
     "data": {
      "text/plain": [
       "array([-1.,  1., -1., -1., -1., -1., -1.,  1.])"
      ]
     },
     "execution_count": 22,
     "metadata": {},
     "output_type": "execute_result"
    }
   ],
   "source": [
    "np.sign(remainder)"
   ]
  },
  {
   "cell_type": "code",
   "execution_count": 23,
   "id": "c1c8eadc-48b5-476f-84b4-9a7031240bcb",
   "metadata": {},
   "outputs": [
    {
     "data": {
      "text/plain": [
       "array([-7.1191,  6.3186, -4.3533, -1.2959, -0.3767, -3.7044, -6.839 ,\n",
       "        3.2445])"
      ]
     },
     "execution_count": 23,
     "metadata": {},
     "output_type": "execute_result"
    }
   ],
   "source": [
    "x5"
   ]
  },
  {
   "cell_type": "code",
   "execution_count": 24,
   "id": "985c5786-0f81-4f81-97c4-6e7cd20a7e7c",
   "metadata": {},
   "outputs": [
    {
     "data": {
      "text/plain": [
       "(8,)"
      ]
     },
     "execution_count": 24,
     "metadata": {},
     "output_type": "execute_result"
    }
   ],
   "source": [
    "out = np.zeros_like(x5)\n",
    "out.shape"
   ]
  },
  {
   "cell_type": "code",
   "execution_count": 25,
   "id": "dc305834-16bb-41cc-8201-b45addfd3832",
   "metadata": {},
   "outputs": [
    {
     "data": {
      "text/plain": [
       "array([0., 0., 0., 0., 0., 0., 0., 0.])"
      ]
     },
     "execution_count": 25,
     "metadata": {},
     "output_type": "execute_result"
    }
   ],
   "source": [
    "out"
   ]
  },
  {
   "cell_type": "code",
   "execution_count": 26,
   "id": "468a4f49-9c88-483c-82be-3707112c328f",
   "metadata": {},
   "outputs": [
    {
     "data": {
      "text/plain": [
       "array([-5.1191,  8.3186, -2.3533,  0.7041,  1.6233, -1.7044, -4.839 ,\n",
       "        5.2445])"
      ]
     },
     "execution_count": 26,
     "metadata": {},
     "output_type": "execute_result"
    }
   ],
   "source": [
    "np.add(x5, 2)"
   ]
  },
  {
   "cell_type": "code",
   "execution_count": 27,
   "id": "f441a82f-f1fa-4dc9-a5f5-8a69e03a8165",
   "metadata": {},
   "outputs": [
    {
     "data": {
      "text/plain": [
       "array([-5.1191,  8.3186, -2.3533,  0.7041,  1.6233, -1.7044, -4.839 ,\n",
       "        5.2445])"
      ]
     },
     "execution_count": 27,
     "metadata": {},
     "output_type": "execute_result"
    }
   ],
   "source": [
    "np.add(x5, 2, out=out)"
   ]
  },
  {
   "cell_type": "code",
   "execution_count": 28,
   "id": "ec6defdc-8dd4-4350-ba51-4124118d8f5a",
   "metadata": {},
   "outputs": [
    {
     "data": {
      "text/plain": [
       "array([-5.1191,  8.3186, -2.3533,  0.7041,  1.6233, -1.7044, -4.839 ,\n",
       "        5.2445])"
      ]
     },
     "execution_count": 28,
     "metadata": {},
     "output_type": "execute_result"
    }
   ],
   "source": [
    "out"
   ]
  },
  {
   "cell_type": "code",
   "execution_count": null,
   "id": "8cc62762-6be3-4bc4-8c98-48ac409fb09b",
   "metadata": {},
   "outputs": [],
   "source": []
  },
  {
   "cell_type": "markdown",
   "id": "c7aac31e-40ea-4918-bf7a-e415ad49c805",
   "metadata": {
    "jp-MarkdownHeadingCollapsed": true,
    "tags": []
   },
   "source": [
    "### 4.4 Array-Oriented Programming"
   ]
  },
  {
   "cell_type": "markdown",
   "id": "4ca81d19-4dfd-4bb4-9090-5340d9809968",
   "metadata": {
    "jp-MarkdownHeadingCollapsed": true,
    "tags": []
   },
   "source": [
    "#### 4.4.1 Vectorization: Replacing explicit loops with array expressions."
   ]
  },
  {
   "cell_type": "code",
   "execution_count": 4,
   "id": "f54b6d79-e0ca-48a0-90b3-cd736141c7c4",
   "metadata": {
    "collapsed": true,
    "jupyter": {
     "outputs_hidden": true
    },
    "tags": []
   },
   "outputs": [
    {
     "data": {
      "text/plain": [
       "array([-5.0000e+00, -4.9900e+00, -4.9800e+00, -4.9700e+00, -4.9600e+00,\n",
       "       -4.9500e+00, -4.9400e+00, -4.9300e+00, -4.9200e+00, -4.9100e+00,\n",
       "       -4.9000e+00, -4.8900e+00, -4.8800e+00, -4.8700e+00, -4.8600e+00,\n",
       "       -4.8500e+00, -4.8400e+00, -4.8300e+00, -4.8200e+00, -4.8100e+00,\n",
       "       -4.8000e+00, -4.7900e+00, -4.7800e+00, -4.7700e+00, -4.7600e+00,\n",
       "       -4.7500e+00, -4.7400e+00, -4.7300e+00, -4.7200e+00, -4.7100e+00,\n",
       "       -4.7000e+00, -4.6900e+00, -4.6800e+00, -4.6700e+00, -4.6600e+00,\n",
       "       -4.6500e+00, -4.6400e+00, -4.6300e+00, -4.6200e+00, -4.6100e+00,\n",
       "       -4.6000e+00, -4.5900e+00, -4.5800e+00, -4.5700e+00, -4.5600e+00,\n",
       "       -4.5500e+00, -4.5400e+00, -4.5300e+00, -4.5200e+00, -4.5100e+00,\n",
       "       -4.5000e+00, -4.4900e+00, -4.4800e+00, -4.4700e+00, -4.4600e+00,\n",
       "       -4.4500e+00, -4.4400e+00, -4.4300e+00, -4.4200e+00, -4.4100e+00,\n",
       "       -4.4000e+00, -4.3900e+00, -4.3800e+00, -4.3700e+00, -4.3600e+00,\n",
       "       -4.3500e+00, -4.3400e+00, -4.3300e+00, -4.3200e+00, -4.3100e+00,\n",
       "       -4.3000e+00, -4.2900e+00, -4.2800e+00, -4.2700e+00, -4.2600e+00,\n",
       "       -4.2500e+00, -4.2400e+00, -4.2300e+00, -4.2200e+00, -4.2100e+00,\n",
       "       -4.2000e+00, -4.1900e+00, -4.1800e+00, -4.1700e+00, -4.1600e+00,\n",
       "       -4.1500e+00, -4.1400e+00, -4.1300e+00, -4.1200e+00, -4.1100e+00,\n",
       "       -4.1000e+00, -4.0900e+00, -4.0800e+00, -4.0700e+00, -4.0600e+00,\n",
       "       -4.0500e+00, -4.0400e+00, -4.0300e+00, -4.0200e+00, -4.0100e+00,\n",
       "       -4.0000e+00, -3.9900e+00, -3.9800e+00, -3.9700e+00, -3.9600e+00,\n",
       "       -3.9500e+00, -3.9400e+00, -3.9300e+00, -3.9200e+00, -3.9100e+00,\n",
       "       -3.9000e+00, -3.8900e+00, -3.8800e+00, -3.8700e+00, -3.8600e+00,\n",
       "       -3.8500e+00, -3.8400e+00, -3.8300e+00, -3.8200e+00, -3.8100e+00,\n",
       "       -3.8000e+00, -3.7900e+00, -3.7800e+00, -3.7700e+00, -3.7600e+00,\n",
       "       -3.7500e+00, -3.7400e+00, -3.7300e+00, -3.7200e+00, -3.7100e+00,\n",
       "       -3.7000e+00, -3.6900e+00, -3.6800e+00, -3.6700e+00, -3.6600e+00,\n",
       "       -3.6500e+00, -3.6400e+00, -3.6300e+00, -3.6200e+00, -3.6100e+00,\n",
       "       -3.6000e+00, -3.5900e+00, -3.5800e+00, -3.5700e+00, -3.5600e+00,\n",
       "       -3.5500e+00, -3.5400e+00, -3.5300e+00, -3.5200e+00, -3.5100e+00,\n",
       "       -3.5000e+00, -3.4900e+00, -3.4800e+00, -3.4700e+00, -3.4600e+00,\n",
       "       -3.4500e+00, -3.4400e+00, -3.4300e+00, -3.4200e+00, -3.4100e+00,\n",
       "       -3.4000e+00, -3.3900e+00, -3.3800e+00, -3.3700e+00, -3.3600e+00,\n",
       "       -3.3500e+00, -3.3400e+00, -3.3300e+00, -3.3200e+00, -3.3100e+00,\n",
       "       -3.3000e+00, -3.2900e+00, -3.2800e+00, -3.2700e+00, -3.2600e+00,\n",
       "       -3.2500e+00, -3.2400e+00, -3.2300e+00, -3.2200e+00, -3.2100e+00,\n",
       "       -3.2000e+00, -3.1900e+00, -3.1800e+00, -3.1700e+00, -3.1600e+00,\n",
       "       -3.1500e+00, -3.1400e+00, -3.1300e+00, -3.1200e+00, -3.1100e+00,\n",
       "       -3.1000e+00, -3.0900e+00, -3.0800e+00, -3.0700e+00, -3.0600e+00,\n",
       "       -3.0500e+00, -3.0400e+00, -3.0300e+00, -3.0200e+00, -3.0100e+00,\n",
       "       -3.0000e+00, -2.9900e+00, -2.9800e+00, -2.9700e+00, -2.9600e+00,\n",
       "       -2.9500e+00, -2.9400e+00, -2.9300e+00, -2.9200e+00, -2.9100e+00,\n",
       "       -2.9000e+00, -2.8900e+00, -2.8800e+00, -2.8700e+00, -2.8600e+00,\n",
       "       -2.8500e+00, -2.8400e+00, -2.8300e+00, -2.8200e+00, -2.8100e+00,\n",
       "       -2.8000e+00, -2.7900e+00, -2.7800e+00, -2.7700e+00, -2.7600e+00,\n",
       "       -2.7500e+00, -2.7400e+00, -2.7300e+00, -2.7200e+00, -2.7100e+00,\n",
       "       -2.7000e+00, -2.6900e+00, -2.6800e+00, -2.6700e+00, -2.6600e+00,\n",
       "       -2.6500e+00, -2.6400e+00, -2.6300e+00, -2.6200e+00, -2.6100e+00,\n",
       "       -2.6000e+00, -2.5900e+00, -2.5800e+00, -2.5700e+00, -2.5600e+00,\n",
       "       -2.5500e+00, -2.5400e+00, -2.5300e+00, -2.5200e+00, -2.5100e+00,\n",
       "       -2.5000e+00, -2.4900e+00, -2.4800e+00, -2.4700e+00, -2.4600e+00,\n",
       "       -2.4500e+00, -2.4400e+00, -2.4300e+00, -2.4200e+00, -2.4100e+00,\n",
       "       -2.4000e+00, -2.3900e+00, -2.3800e+00, -2.3700e+00, -2.3600e+00,\n",
       "       -2.3500e+00, -2.3400e+00, -2.3300e+00, -2.3200e+00, -2.3100e+00,\n",
       "       -2.3000e+00, -2.2900e+00, -2.2800e+00, -2.2700e+00, -2.2600e+00,\n",
       "       -2.2500e+00, -2.2400e+00, -2.2300e+00, -2.2200e+00, -2.2100e+00,\n",
       "       -2.2000e+00, -2.1900e+00, -2.1800e+00, -2.1700e+00, -2.1600e+00,\n",
       "       -2.1500e+00, -2.1400e+00, -2.1300e+00, -2.1200e+00, -2.1100e+00,\n",
       "       -2.1000e+00, -2.0900e+00, -2.0800e+00, -2.0700e+00, -2.0600e+00,\n",
       "       -2.0500e+00, -2.0400e+00, -2.0300e+00, -2.0200e+00, -2.0100e+00,\n",
       "       -2.0000e+00, -1.9900e+00, -1.9800e+00, -1.9700e+00, -1.9600e+00,\n",
       "       -1.9500e+00, -1.9400e+00, -1.9300e+00, -1.9200e+00, -1.9100e+00,\n",
       "       -1.9000e+00, -1.8900e+00, -1.8800e+00, -1.8700e+00, -1.8600e+00,\n",
       "       -1.8500e+00, -1.8400e+00, -1.8300e+00, -1.8200e+00, -1.8100e+00,\n",
       "       -1.8000e+00, -1.7900e+00, -1.7800e+00, -1.7700e+00, -1.7600e+00,\n",
       "       -1.7500e+00, -1.7400e+00, -1.7300e+00, -1.7200e+00, -1.7100e+00,\n",
       "       -1.7000e+00, -1.6900e+00, -1.6800e+00, -1.6700e+00, -1.6600e+00,\n",
       "       -1.6500e+00, -1.6400e+00, -1.6300e+00, -1.6200e+00, -1.6100e+00,\n",
       "       -1.6000e+00, -1.5900e+00, -1.5800e+00, -1.5700e+00, -1.5600e+00,\n",
       "       -1.5500e+00, -1.5400e+00, -1.5300e+00, -1.5200e+00, -1.5100e+00,\n",
       "       -1.5000e+00, -1.4900e+00, -1.4800e+00, -1.4700e+00, -1.4600e+00,\n",
       "       -1.4500e+00, -1.4400e+00, -1.4300e+00, -1.4200e+00, -1.4100e+00,\n",
       "       -1.4000e+00, -1.3900e+00, -1.3800e+00, -1.3700e+00, -1.3600e+00,\n",
       "       -1.3500e+00, -1.3400e+00, -1.3300e+00, -1.3200e+00, -1.3100e+00,\n",
       "       -1.3000e+00, -1.2900e+00, -1.2800e+00, -1.2700e+00, -1.2600e+00,\n",
       "       -1.2500e+00, -1.2400e+00, -1.2300e+00, -1.2200e+00, -1.2100e+00,\n",
       "       -1.2000e+00, -1.1900e+00, -1.1800e+00, -1.1700e+00, -1.1600e+00,\n",
       "       -1.1500e+00, -1.1400e+00, -1.1300e+00, -1.1200e+00, -1.1100e+00,\n",
       "       -1.1000e+00, -1.0900e+00, -1.0800e+00, -1.0700e+00, -1.0600e+00,\n",
       "       -1.0500e+00, -1.0400e+00, -1.0300e+00, -1.0200e+00, -1.0100e+00,\n",
       "       -1.0000e+00, -9.9000e-01, -9.8000e-01, -9.7000e-01, -9.6000e-01,\n",
       "       -9.5000e-01, -9.4000e-01, -9.3000e-01, -9.2000e-01, -9.1000e-01,\n",
       "       -9.0000e-01, -8.9000e-01, -8.8000e-01, -8.7000e-01, -8.6000e-01,\n",
       "       -8.5000e-01, -8.4000e-01, -8.3000e-01, -8.2000e-01, -8.1000e-01,\n",
       "       -8.0000e-01, -7.9000e-01, -7.8000e-01, -7.7000e-01, -7.6000e-01,\n",
       "       -7.5000e-01, -7.4000e-01, -7.3000e-01, -7.2000e-01, -7.1000e-01,\n",
       "       -7.0000e-01, -6.9000e-01, -6.8000e-01, -6.7000e-01, -6.6000e-01,\n",
       "       -6.5000e-01, -6.4000e-01, -6.3000e-01, -6.2000e-01, -6.1000e-01,\n",
       "       -6.0000e-01, -5.9000e-01, -5.8000e-01, -5.7000e-01, -5.6000e-01,\n",
       "       -5.5000e-01, -5.4000e-01, -5.3000e-01, -5.2000e-01, -5.1000e-01,\n",
       "       -5.0000e-01, -4.9000e-01, -4.8000e-01, -4.7000e-01, -4.6000e-01,\n",
       "       -4.5000e-01, -4.4000e-01, -4.3000e-01, -4.2000e-01, -4.1000e-01,\n",
       "       -4.0000e-01, -3.9000e-01, -3.8000e-01, -3.7000e-01, -3.6000e-01,\n",
       "       -3.5000e-01, -3.4000e-01, -3.3000e-01, -3.2000e-01, -3.1000e-01,\n",
       "       -3.0000e-01, -2.9000e-01, -2.8000e-01, -2.7000e-01, -2.6000e-01,\n",
       "       -2.5000e-01, -2.4000e-01, -2.3000e-01, -2.2000e-01, -2.1000e-01,\n",
       "       -2.0000e-01, -1.9000e-01, -1.8000e-01, -1.7000e-01, -1.6000e-01,\n",
       "       -1.5000e-01, -1.4000e-01, -1.3000e-01, -1.2000e-01, -1.1000e-01,\n",
       "       -1.0000e-01, -9.0000e-02, -8.0000e-02, -7.0000e-02, -6.0000e-02,\n",
       "       -5.0000e-02, -4.0000e-02, -3.0000e-02, -2.0000e-02, -1.0000e-02,\n",
       "       -1.0658e-13,  1.0000e-02,  2.0000e-02,  3.0000e-02,  4.0000e-02,\n",
       "        5.0000e-02,  6.0000e-02,  7.0000e-02,  8.0000e-02,  9.0000e-02,\n",
       "        1.0000e-01,  1.1000e-01,  1.2000e-01,  1.3000e-01,  1.4000e-01,\n",
       "        1.5000e-01,  1.6000e-01,  1.7000e-01,  1.8000e-01,  1.9000e-01,\n",
       "        2.0000e-01,  2.1000e-01,  2.2000e-01,  2.3000e-01,  2.4000e-01,\n",
       "        2.5000e-01,  2.6000e-01,  2.7000e-01,  2.8000e-01,  2.9000e-01,\n",
       "        3.0000e-01,  3.1000e-01,  3.2000e-01,  3.3000e-01,  3.4000e-01,\n",
       "        3.5000e-01,  3.6000e-01,  3.7000e-01,  3.8000e-01,  3.9000e-01,\n",
       "        4.0000e-01,  4.1000e-01,  4.2000e-01,  4.3000e-01,  4.4000e-01,\n",
       "        4.5000e-01,  4.6000e-01,  4.7000e-01,  4.8000e-01,  4.9000e-01,\n",
       "        5.0000e-01,  5.1000e-01,  5.2000e-01,  5.3000e-01,  5.4000e-01,\n",
       "        5.5000e-01,  5.6000e-01,  5.7000e-01,  5.8000e-01,  5.9000e-01,\n",
       "        6.0000e-01,  6.1000e-01,  6.2000e-01,  6.3000e-01,  6.4000e-01,\n",
       "        6.5000e-01,  6.6000e-01,  6.7000e-01,  6.8000e-01,  6.9000e-01,\n",
       "        7.0000e-01,  7.1000e-01,  7.2000e-01,  7.3000e-01,  7.4000e-01,\n",
       "        7.5000e-01,  7.6000e-01,  7.7000e-01,  7.8000e-01,  7.9000e-01,\n",
       "        8.0000e-01,  8.1000e-01,  8.2000e-01,  8.3000e-01,  8.4000e-01,\n",
       "        8.5000e-01,  8.6000e-01,  8.7000e-01,  8.8000e-01,  8.9000e-01,\n",
       "        9.0000e-01,  9.1000e-01,  9.2000e-01,  9.3000e-01,  9.4000e-01,\n",
       "        9.5000e-01,  9.6000e-01,  9.7000e-01,  9.8000e-01,  9.9000e-01,\n",
       "        1.0000e+00,  1.0100e+00,  1.0200e+00,  1.0300e+00,  1.0400e+00,\n",
       "        1.0500e+00,  1.0600e+00,  1.0700e+00,  1.0800e+00,  1.0900e+00,\n",
       "        1.1000e+00,  1.1100e+00,  1.1200e+00,  1.1300e+00,  1.1400e+00,\n",
       "        1.1500e+00,  1.1600e+00,  1.1700e+00,  1.1800e+00,  1.1900e+00,\n",
       "        1.2000e+00,  1.2100e+00,  1.2200e+00,  1.2300e+00,  1.2400e+00,\n",
       "        1.2500e+00,  1.2600e+00,  1.2700e+00,  1.2800e+00,  1.2900e+00,\n",
       "        1.3000e+00,  1.3100e+00,  1.3200e+00,  1.3300e+00,  1.3400e+00,\n",
       "        1.3500e+00,  1.3600e+00,  1.3700e+00,  1.3800e+00,  1.3900e+00,\n",
       "        1.4000e+00,  1.4100e+00,  1.4200e+00,  1.4300e+00,  1.4400e+00,\n",
       "        1.4500e+00,  1.4600e+00,  1.4700e+00,  1.4800e+00,  1.4900e+00,\n",
       "        1.5000e+00,  1.5100e+00,  1.5200e+00,  1.5300e+00,  1.5400e+00,\n",
       "        1.5500e+00,  1.5600e+00,  1.5700e+00,  1.5800e+00,  1.5900e+00,\n",
       "        1.6000e+00,  1.6100e+00,  1.6200e+00,  1.6300e+00,  1.6400e+00,\n",
       "        1.6500e+00,  1.6600e+00,  1.6700e+00,  1.6800e+00,  1.6900e+00,\n",
       "        1.7000e+00,  1.7100e+00,  1.7200e+00,  1.7300e+00,  1.7400e+00,\n",
       "        1.7500e+00,  1.7600e+00,  1.7700e+00,  1.7800e+00,  1.7900e+00,\n",
       "        1.8000e+00,  1.8100e+00,  1.8200e+00,  1.8300e+00,  1.8400e+00,\n",
       "        1.8500e+00,  1.8600e+00,  1.8700e+00,  1.8800e+00,  1.8900e+00,\n",
       "        1.9000e+00,  1.9100e+00,  1.9200e+00,  1.9300e+00,  1.9400e+00,\n",
       "        1.9500e+00,  1.9600e+00,  1.9700e+00,  1.9800e+00,  1.9900e+00,\n",
       "        2.0000e+00,  2.0100e+00,  2.0200e+00,  2.0300e+00,  2.0400e+00,\n",
       "        2.0500e+00,  2.0600e+00,  2.0700e+00,  2.0800e+00,  2.0900e+00,\n",
       "        2.1000e+00,  2.1100e+00,  2.1200e+00,  2.1300e+00,  2.1400e+00,\n",
       "        2.1500e+00,  2.1600e+00,  2.1700e+00,  2.1800e+00,  2.1900e+00,\n",
       "        2.2000e+00,  2.2100e+00,  2.2200e+00,  2.2300e+00,  2.2400e+00,\n",
       "        2.2500e+00,  2.2600e+00,  2.2700e+00,  2.2800e+00,  2.2900e+00,\n",
       "        2.3000e+00,  2.3100e+00,  2.3200e+00,  2.3300e+00,  2.3400e+00,\n",
       "        2.3500e+00,  2.3600e+00,  2.3700e+00,  2.3800e+00,  2.3900e+00,\n",
       "        2.4000e+00,  2.4100e+00,  2.4200e+00,  2.4300e+00,  2.4400e+00,\n",
       "        2.4500e+00,  2.4600e+00,  2.4700e+00,  2.4800e+00,  2.4900e+00,\n",
       "        2.5000e+00,  2.5100e+00,  2.5200e+00,  2.5300e+00,  2.5400e+00,\n",
       "        2.5500e+00,  2.5600e+00,  2.5700e+00,  2.5800e+00,  2.5900e+00,\n",
       "        2.6000e+00,  2.6100e+00,  2.6200e+00,  2.6300e+00,  2.6400e+00,\n",
       "        2.6500e+00,  2.6600e+00,  2.6700e+00,  2.6800e+00,  2.6900e+00,\n",
       "        2.7000e+00,  2.7100e+00,  2.7200e+00,  2.7300e+00,  2.7400e+00,\n",
       "        2.7500e+00,  2.7600e+00,  2.7700e+00,  2.7800e+00,  2.7900e+00,\n",
       "        2.8000e+00,  2.8100e+00,  2.8200e+00,  2.8300e+00,  2.8400e+00,\n",
       "        2.8500e+00,  2.8600e+00,  2.8700e+00,  2.8800e+00,  2.8900e+00,\n",
       "        2.9000e+00,  2.9100e+00,  2.9200e+00,  2.9300e+00,  2.9400e+00,\n",
       "        2.9500e+00,  2.9600e+00,  2.9700e+00,  2.9800e+00,  2.9900e+00,\n",
       "        3.0000e+00,  3.0100e+00,  3.0200e+00,  3.0300e+00,  3.0400e+00,\n",
       "        3.0500e+00,  3.0600e+00,  3.0700e+00,  3.0800e+00,  3.0900e+00,\n",
       "        3.1000e+00,  3.1100e+00,  3.1200e+00,  3.1300e+00,  3.1400e+00,\n",
       "        3.1500e+00,  3.1600e+00,  3.1700e+00,  3.1800e+00,  3.1900e+00,\n",
       "        3.2000e+00,  3.2100e+00,  3.2200e+00,  3.2300e+00,  3.2400e+00,\n",
       "        3.2500e+00,  3.2600e+00,  3.2700e+00,  3.2800e+00,  3.2900e+00,\n",
       "        3.3000e+00,  3.3100e+00,  3.3200e+00,  3.3300e+00,  3.3400e+00,\n",
       "        3.3500e+00,  3.3600e+00,  3.3700e+00,  3.3800e+00,  3.3900e+00,\n",
       "        3.4000e+00,  3.4100e+00,  3.4200e+00,  3.4300e+00,  3.4400e+00,\n",
       "        3.4500e+00,  3.4600e+00,  3.4700e+00,  3.4800e+00,  3.4900e+00,\n",
       "        3.5000e+00,  3.5100e+00,  3.5200e+00,  3.5300e+00,  3.5400e+00,\n",
       "        3.5500e+00,  3.5600e+00,  3.5700e+00,  3.5800e+00,  3.5900e+00,\n",
       "        3.6000e+00,  3.6100e+00,  3.6200e+00,  3.6300e+00,  3.6400e+00,\n",
       "        3.6500e+00,  3.6600e+00,  3.6700e+00,  3.6800e+00,  3.6900e+00,\n",
       "        3.7000e+00,  3.7100e+00,  3.7200e+00,  3.7300e+00,  3.7400e+00,\n",
       "        3.7500e+00,  3.7600e+00,  3.7700e+00,  3.7800e+00,  3.7900e+00,\n",
       "        3.8000e+00,  3.8100e+00,  3.8200e+00,  3.8300e+00,  3.8400e+00,\n",
       "        3.8500e+00,  3.8600e+00,  3.8700e+00,  3.8800e+00,  3.8900e+00,\n",
       "        3.9000e+00,  3.9100e+00,  3.9200e+00,  3.9300e+00,  3.9400e+00,\n",
       "        3.9500e+00,  3.9600e+00,  3.9700e+00,  3.9800e+00,  3.9900e+00,\n",
       "        4.0000e+00,  4.0100e+00,  4.0200e+00,  4.0300e+00,  4.0400e+00,\n",
       "        4.0500e+00,  4.0600e+00,  4.0700e+00,  4.0800e+00,  4.0900e+00,\n",
       "        4.1000e+00,  4.1100e+00,  4.1200e+00,  4.1300e+00,  4.1400e+00,\n",
       "        4.1500e+00,  4.1600e+00,  4.1700e+00,  4.1800e+00,  4.1900e+00,\n",
       "        4.2000e+00,  4.2100e+00,  4.2200e+00,  4.2300e+00,  4.2400e+00,\n",
       "        4.2500e+00,  4.2600e+00,  4.2700e+00,  4.2800e+00,  4.2900e+00,\n",
       "        4.3000e+00,  4.3100e+00,  4.3200e+00,  4.3300e+00,  4.3400e+00,\n",
       "        4.3500e+00,  4.3600e+00,  4.3700e+00,  4.3800e+00,  4.3900e+00,\n",
       "        4.4000e+00,  4.4100e+00,  4.4200e+00,  4.4300e+00,  4.4400e+00,\n",
       "        4.4500e+00,  4.4600e+00,  4.4700e+00,  4.4800e+00,  4.4900e+00,\n",
       "        4.5000e+00,  4.5100e+00,  4.5200e+00,  4.5300e+00,  4.5400e+00,\n",
       "        4.5500e+00,  4.5600e+00,  4.5700e+00,  4.5800e+00,  4.5900e+00,\n",
       "        4.6000e+00,  4.6100e+00,  4.6200e+00,  4.6300e+00,  4.6400e+00,\n",
       "        4.6500e+00,  4.6600e+00,  4.6700e+00,  4.6800e+00,  4.6900e+00,\n",
       "        4.7000e+00,  4.7100e+00,  4.7200e+00,  4.7300e+00,  4.7400e+00,\n",
       "        4.7500e+00,  4.7600e+00,  4.7700e+00,  4.7800e+00,  4.7900e+00,\n",
       "        4.8000e+00,  4.8100e+00,  4.8200e+00,  4.8300e+00,  4.8400e+00,\n",
       "        4.8500e+00,  4.8600e+00,  4.8700e+00,  4.8800e+00,  4.8900e+00,\n",
       "        4.9000e+00,  4.9100e+00,  4.9200e+00,  4.9300e+00,  4.9400e+00,\n",
       "        4.9500e+00,  4.9600e+00,  4.9700e+00,  4.9800e+00,  4.9900e+00])"
      ]
     },
     "execution_count": 4,
     "metadata": {},
     "output_type": "execute_result"
    }
   ],
   "source": [
    "pts = np.arange(-5, 5, 0.01)\n",
    "pts"
   ]
  },
  {
   "cell_type": "code",
   "execution_count": 5,
   "id": "1bc8fca8-fab3-4091-883c-25d2adc46d3b",
   "metadata": {},
   "outputs": [],
   "source": [
    "xs, ys = np.meshgrid(pts, pts)"
   ]
  },
  {
   "cell_type": "code",
   "execution_count": 6,
   "id": "83ee8552-d3ad-4ed8-b1bd-28073fe811fd",
   "metadata": {},
   "outputs": [
    {
     "data": {
      "text/plain": [
       "array([[-5.  , -4.99, -4.98, ...,  4.97,  4.98,  4.99],\n",
       "       [-5.  , -4.99, -4.98, ...,  4.97,  4.98,  4.99],\n",
       "       [-5.  , -4.99, -4.98, ...,  4.97,  4.98,  4.99],\n",
       "       ...,\n",
       "       [-5.  , -4.99, -4.98, ...,  4.97,  4.98,  4.99],\n",
       "       [-5.  , -4.99, -4.98, ...,  4.97,  4.98,  4.99],\n",
       "       [-5.  , -4.99, -4.98, ...,  4.97,  4.98,  4.99]])"
      ]
     },
     "execution_count": 6,
     "metadata": {},
     "output_type": "execute_result"
    }
   ],
   "source": [
    "xs"
   ]
  },
  {
   "cell_type": "code",
   "execution_count": 7,
   "id": "e7ad2b93-d293-4b3c-8bb5-b0bbb87b9395",
   "metadata": {},
   "outputs": [
    {
     "data": {
      "text/plain": [
       "array([[-5.  , -5.  , -5.  , ..., -5.  , -5.  , -5.  ],\n",
       "       [-4.99, -4.99, -4.99, ..., -4.99, -4.99, -4.99],\n",
       "       [-4.98, -4.98, -4.98, ..., -4.98, -4.98, -4.98],\n",
       "       ...,\n",
       "       [ 4.97,  4.97,  4.97, ...,  4.97,  4.97,  4.97],\n",
       "       [ 4.98,  4.98,  4.98, ...,  4.98,  4.98,  4.98],\n",
       "       [ 4.99,  4.99,  4.99, ...,  4.99,  4.99,  4.99]])"
      ]
     },
     "execution_count": 7,
     "metadata": {},
     "output_type": "execute_result"
    }
   ],
   "source": [
    "ys"
   ]
  },
  {
   "cell_type": "code",
   "execution_count": 8,
   "id": "a28d28fb-6399-4f2d-8fb5-c10d762c0490",
   "metadata": {},
   "outputs": [
    {
     "data": {
      "text/plain": [
       "array([[7.0711, 7.064 , 7.0569, ..., 7.0499, 7.0569, 7.064 ],\n",
       "       [7.064 , 7.0569, 7.0499, ..., 7.0428, 7.0499, 7.0569],\n",
       "       [7.0569, 7.0499, 7.0428, ..., 7.0357, 7.0428, 7.0499],\n",
       "       ...,\n",
       "       [7.0499, 7.0428, 7.0357, ..., 7.0286, 7.0357, 7.0428],\n",
       "       [7.0569, 7.0499, 7.0428, ..., 7.0357, 7.0428, 7.0499],\n",
       "       [7.064 , 7.0569, 7.0499, ..., 7.0428, 7.0499, 7.0569]])"
      ]
     },
     "execution_count": 8,
     "metadata": {},
     "output_type": "execute_result"
    }
   ],
   "source": [
    "zs = np.sqrt(xs ** 2 + ys ** 2)\n",
    "zs"
   ]
  },
  {
   "cell_type": "code",
   "execution_count": 9,
   "id": "4a79ddc3-4547-402a-a919-aa6562a25b36",
   "metadata": {},
   "outputs": [],
   "source": [
    "import matplotlib.pyplot as plt"
   ]
  },
  {
   "cell_type": "code",
   "execution_count": 10,
   "id": "aa9d63dc-e0a2-4eaa-934f-0d5b0646cc63",
   "metadata": {},
   "outputs": [
    {
     "data": {
      "text/plain": [
       "Text(0.5, 1.0, 'Image plot of $\\\\sqrt{x^2 + y^2}$ for a grid of values')"
      ]
     },
     "execution_count": 10,
     "metadata": {},
     "output_type": "execute_result"
    },
    {
     "data": {
      "image/png": "[encoded data removed]",
      "text/plain": [
       "<Figure size 640x480 with 2 Axes>"
      ]
     },
     "metadata": {},
     "output_type": "display_data"
    }
   ],
   "source": [
    "plt.imshow(zs, cmap=plt.cm.gray, extent=[-5, 5, -5, 5])\n",
    "plt.colorbar()\n",
    "plt.title('Image plot of $\\\\sqrt{x^2 + y^2}$ for a grid of values')"
   ]
  },
  {
   "cell_type": "code",
   "execution_count": 11,
   "id": "ccc8785b-c111-459b-b584-0f130a9cacec",
   "metadata": {},
   "outputs": [],
   "source": [
    "plt.close('all')"
   ]
  },
  {
   "cell_type": "markdown",
   "id": "2a8984db-ebc5-40e4-b80a-165cf6e84675",
   "metadata": {
    "jp-MarkdownHeadingCollapsed": true,
    "tags": []
   },
   "source": [
    "#### 4.4.2 Array Conditional Logic with `np.where()`"
   ]
  },
  {
   "cell_type": "code",
   "execution_count": 12,
   "id": "b9e99f05-be17-42a7-b3c1-957584925818",
   "metadata": {},
   "outputs": [
    {
     "data": {
      "text/plain": [
       "array([2.1, 2.2, 2.3, 2.4, 2.5])"
      ]
     },
     "execution_count": 12,
     "metadata": {},
     "output_type": "execute_result"
    }
   ],
   "source": [
    "xarr = np.array([1.1, 1.2, 1.3, 1.4, 1.5])\n",
    "yarr = xarr + 1\n",
    "yarr"
   ]
  },
  {
   "cell_type": "code",
   "execution_count": 13,
   "id": "947216a9-a9d7-419b-bd00-7376f5fea281",
   "metadata": {},
   "outputs": [],
   "source": [
    "cond = np.array([True, False, True, True, False])"
   ]
  },
  {
   "cell_type": "code",
   "execution_count": 14,
   "id": "d07ef7b0-aa1d-4ccf-9a4f-1f16a4154ecf",
   "metadata": {},
   "outputs": [
    {
     "data": {
      "text/plain": [
       "[1.1000, 2.2000, 1.3000, 1.4000, 2.5000]"
      ]
     },
     "execution_count": 14,
     "metadata": {},
     "output_type": "execute_result"
    }
   ],
   "source": [
    "# Python version to use cond to decide between xarr and yarr\n",
    "[(x if c else y) for c, x, y in zip(cond, xarr, yarr)]"
   ]
  },
  {
   "cell_type": "code",
   "execution_count": 15,
   "id": "a4251151-8126-47c3-8f95-290244992ca9",
   "metadata": {},
   "outputs": [
    {
     "data": {
      "text/plain": [
       "array([1.1, 2.2, 1.3, 1.4, 2.5])"
      ]
     },
     "execution_count": 15,
     "metadata": {},
     "output_type": "execute_result"
    }
   ],
   "source": [
    "# NumPy version\n",
    "np.where(cond, xarr, yarr)"
   ]
  },
  {
   "cell_type": "code",
   "execution_count": 16,
   "id": "fea58d60-dea5-4484-b5cf-92ade8207203",
   "metadata": {},
   "outputs": [
    {
     "data": {
      "text/plain": [
       "array([[ 2.1004, -2.2168, -1.0168, -0.5985],\n",
       "       [-1.3344,  0.8398, -0.6727, -0.4175],\n",
       "       [ 1.2055, -0.8769,  1.2589,  1.1417],\n",
       "       [ 0.4172,  0.4641,  0.1662,  1.3676]])"
      ]
     },
     "execution_count": 16,
     "metadata": {},
     "output_type": "execute_result"
    }
   ],
   "source": [
    "arr4x4 = np.random.standard_normal((4, 4))\n",
    "arr4x4"
   ]
  },
  {
   "cell_type": "code",
   "execution_count": 17,
   "id": "3a8a4a75-e02a-4e5c-8609-663637ff4151",
   "metadata": {},
   "outputs": [
    {
     "data": {
      "text/plain": [
       "array([[ 1., -1., -1., -1.],\n",
       "       [-1.,  1., -1., -1.],\n",
       "       [ 1., -1.,  1.,  1.],\n",
       "       [ 1.,  1.,  1.,  1.]])"
      ]
     },
     "execution_count": 17,
     "metadata": {},
     "output_type": "execute_result"
    }
   ],
   "source": [
    "np.where(arr4x4 > 0, 1., -1.)"
   ]
  },
  {
   "cell_type": "code",
   "execution_count": 18,
   "id": "5d4df851-fd0c-4639-b525-1d86d8d536b2",
   "metadata": {},
   "outputs": [
    {
     "data": {
      "text/plain": [
       "array([[ True,  True,  True,  True],\n",
       "       [ True,  True,  True,  True],\n",
       "       [ True,  True,  True,  True],\n",
       "       [ True,  True,  True,  True]])"
      ]
     },
     "execution_count": 18,
     "metadata": {},
     "output_type": "execute_result"
    }
   ],
   "source": [
    "np.where(arr4x4 > 0, 1., -1.) == np.sign(arr4x4)    # Works for non-zero real values"
   ]
  },
  {
   "cell_type": "code",
   "execution_count": 19,
   "id": "eaa5d575-17b6-4815-8882-dcfaa901e9b9",
   "metadata": {},
   "outputs": [
    {
     "data": {
      "text/plain": [
       "array([[ 2.1004, -2.2168, -1.0168, -0.5985],\n",
       "       [-1.3344,  0.    , -0.6727, -0.4175],\n",
       "       [ 1.2055, -0.8769,  1.2589,  1.1417],\n",
       "       [ 0.4172,  0.4641,  0.1662,  1.3676]])"
      ]
     },
     "execution_count": 19,
     "metadata": {},
     "output_type": "execute_result"
    }
   ],
   "source": [
    "arr4x4[1, 1] = 0.\n",
    "arr4x4"
   ]
  },
  {
   "cell_type": "code",
   "execution_count": 20,
   "id": "d334ff92-a1b0-4447-931f-d3a147e87479",
   "metadata": {},
   "outputs": [
    {
     "data": {
      "text/plain": [
       "array([[ True,  True,  True,  True],\n",
       "       [ True, False,  True,  True],\n",
       "       [ True,  True,  True,  True],\n",
       "       [ True,  True,  True,  True]])"
      ]
     },
     "execution_count": 20,
     "metadata": {},
     "output_type": "execute_result"
    }
   ],
   "source": [
    "np.where(arr4x4 > 0, 1., -1.) == np.sign(arr4x4)    # The 0. at [1, 1] results in a False there"
   ]
  },
  {
   "cell_type": "code",
   "execution_count": 21,
   "id": "99e8aa4d-e718-497e-a827-0ee64e79bbf4",
   "metadata": {},
   "outputs": [
    {
     "data": {
      "text/plain": [
       "array([[ 1.    , -2.2168, -1.0168, -0.5985],\n",
       "       [-1.3344,  0.    , -0.6727, -0.4175],\n",
       "       [ 1.    , -0.8769,  1.    ,  1.    ],\n",
       "       [ 0.4172,  0.4641,  0.1662,  1.    ]])"
      ]
     },
     "execution_count": 21,
     "metadata": {},
     "output_type": "execute_result"
    }
   ],
   "source": [
    "np.where(arr4x4 > 1, 1., arr4x4)    # Recipe to clip the top values"
   ]
  },
  {
   "cell_type": "markdown",
   "id": "eb83ef78-672d-4a90-aa1b-7227d179abf4",
   "metadata": {
    "jp-MarkdownHeadingCollapsed": true,
    "tags": []
   },
   "source": [
    "#### 4.4.3 Math and Stat Methods `.mean(), .std(), .min(), .cumsum(), np.median()`"
   ]
  },
  {
   "cell_type": "markdown",
   "id": "e5e07d15-70a0-4fb4-a834-78d75d4ee83f",
   "metadata": {},
   "source": [
    "Aggregations or reductions."
   ]
  },
  {
   "cell_type": "code",
   "execution_count": 22,
   "id": "5eceadee-9976-4264-bb81-ef9dcc536508",
   "metadata": {},
   "outputs": [
    {
     "data": {
      "text/plain": [
       "array([[-1.0674,  0.8183,  0.6577, -0.4335, -1.3938],\n",
       "       [-0.3333,  1.7468,  0.1158,  1.4693, -0.5822],\n",
       "       [ 1.1333,  1.2727, -0.1127,  0.9435,  0.9691]])"
      ]
     },
     "execution_count": 22,
     "metadata": {},
     "output_type": "execute_result"
    }
   ],
   "source": [
    "arr = np.random.standard_normal((3, 5))\n",
    "arr"
   ]
  },
  {
   "cell_type": "code",
   "execution_count": 23,
   "id": "b5e2746c-92c4-43bb-89ec-f26bea142e75",
   "metadata": {},
   "outputs": [
    {
     "data": {
      "text/plain": [
       "0.3469"
      ]
     },
     "execution_count": 23,
     "metadata": {},
     "output_type": "execute_result"
    }
   ],
   "source": [
    "arr.mean()"
   ]
  },
  {
   "cell_type": "code",
   "execution_count": 24,
   "id": "4ec8d84a-4d96-4e44-b2bd-125bbc6e122c",
   "metadata": {},
   "outputs": [
    {
     "data": {
      "text/plain": [
       "(0.9305, 0.8658)"
      ]
     },
     "execution_count": 24,
     "metadata": {},
     "output_type": "execute_result"
    }
   ],
   "source": [
    "arr.std(), arr.var()"
   ]
  },
  {
   "cell_type": "code",
   "execution_count": 25,
   "id": "537e649d-1f8c-4aa1-9423-9571aaa51233",
   "metadata": {},
   "outputs": [
    {
     "data": {
      "text/plain": [
       "(-1.3938, 1.7468)"
      ]
     },
     "execution_count": 25,
     "metadata": {},
     "output_type": "execute_result"
    }
   ],
   "source": [
    "arr.min(), arr.max()"
   ]
  },
  {
   "cell_type": "code",
   "execution_count": 9,
   "id": "32014e81-87c4-4816-8e48-101127753fbf",
   "metadata": {},
   "outputs": [
    {
     "ename": "AttributeError",
     "evalue": "'numpy.ndarray' object has no attribute 'median'",
     "output_type": "error",
     "traceback": [
      "\u001b[1;31m---------------------------------------------------------------------------\u001b[0m",
      "\u001b[1;31mAttributeError\u001b[0m                            Traceback (most recent call last)",
      "Cell \u001b[1;32mIn[9], line 1\u001b[0m\n\u001b[1;32m----> 1\u001b[0m \u001b[43marr\u001b[49m\u001b[38;5;241;43m.\u001b[39;49m\u001b[43mmedian\u001b[49m()\n",
      "\u001b[1;31mAttributeError\u001b[0m: 'numpy.ndarray' object has no attribute 'median'"
     ]
    }
   ],
   "source": [
    "# Causes AttributeError: 'numpy.ndarray' object has no attribute 'median'\n",
    "#arr.median()"
   ]
  },
  {
   "cell_type": "code",
   "execution_count": 26,
   "id": "4ee410fd-040b-4952-a8ab-945743999495",
   "metadata": {},
   "outputs": [
    {
     "data": {
      "text/plain": [
       "0.6577"
      ]
     },
     "execution_count": 26,
     "metadata": {},
     "output_type": "execute_result"
    }
   ],
   "source": [
    "np.median(arr)"
   ]
  },
  {
   "cell_type": "code",
   "execution_count": 27,
   "id": "a8dbd618-9f44-487f-863f-d5b57f67bfd0",
   "metadata": {},
   "outputs": [
    {
     "data": {
      "text/plain": [
       "5.2035"
      ]
     },
     "execution_count": 27,
     "metadata": {},
     "output_type": "execute_result"
    }
   ],
   "source": [
    "arr.sum()"
   ]
  },
  {
   "cell_type": "code",
   "execution_count": 28,
   "id": "14796f95-9ff1-4ab0-ba20-2267aa40df44",
   "metadata": {},
   "outputs": [
    {
     "data": {
      "text/plain": [
       "array([-0.0891,  1.2793,  0.2203,  0.6597, -0.3356])"
      ]
     },
     "execution_count": 28,
     "metadata": {},
     "output_type": "execute_result"
    }
   ],
   "source": [
    "arr.mean(axis=0)    # Average across or along axis=0"
   ]
  },
  {
   "cell_type": "code",
   "execution_count": 29,
   "id": "e51cfaa7-a887-4766-b3e7-bf19b78ae5c8",
   "metadata": {},
   "outputs": [
    {
     "data": {
      "text/plain": [
       "array([-0.2838,  0.4833,  0.8412])"
      ]
     },
     "execution_count": 29,
     "metadata": {},
     "output_type": "execute_result"
    }
   ],
   "source": [
    "arr.mean(axis=1)"
   ]
  },
  {
   "cell_type": "code",
   "execution_count": 30,
   "id": "7d56e96c-9041-498a-8c35-1cb5a8e468c2",
   "metadata": {},
   "outputs": [
    {
     "data": {
      "text/plain": [
       "array([[-1.0674,  0.8183,  0.6577, -0.4335, -1.3938],\n",
       "       [-0.3333,  1.7468,  0.1158,  1.4693, -0.5822],\n",
       "       [ 1.1333,  1.2727, -0.1127,  0.9435,  0.9691]])"
      ]
     },
     "execution_count": 30,
     "metadata": {},
     "output_type": "execute_result"
    }
   ],
   "source": [
    "arr"
   ]
  },
  {
   "cell_type": "code",
   "execution_count": 31,
   "id": "daea575b-792d-48ac-bd10-7045548daac1",
   "metadata": {},
   "outputs": [
    {
     "data": {
      "text/plain": [
       "array([[-1.0674,  0.8183,  0.6577, -0.4335, -1.3938],\n",
       "       [-1.4007,  2.5651,  0.7735,  1.0358, -1.976 ],\n",
       "       [-0.2674,  3.8378,  0.6608,  1.9792, -1.0069]])"
      ]
     },
     "execution_count": 31,
     "metadata": {},
     "output_type": "execute_result"
    }
   ],
   "source": [
    "arr.cumsum(axis=0)"
   ]
  },
  {
   "cell_type": "code",
   "execution_count": 32,
   "id": "ef76f0b0-0582-4a56-847f-09c3aef44b13",
   "metadata": {},
   "outputs": [
    {
     "data": {
      "text/plain": [
       "array([[-1.0674, -0.2491,  0.4086, -0.025 , -1.4188],\n",
       "       [-0.3333,  1.4135,  1.5293,  2.9986,  2.4164],\n",
       "       [ 1.1333,  2.406 ,  2.2933,  3.2367,  4.2059]])"
      ]
     },
     "execution_count": 32,
     "metadata": {},
     "output_type": "execute_result"
    }
   ],
   "source": [
    "arr.cumsum(axis=1)"
   ]
  },
  {
   "cell_type": "markdown",
   "id": "0cabdfd4-bf2d-4eec-9e6d-54cb1148be70",
   "metadata": {
    "jp-MarkdownHeadingCollapsed": true,
    "tags": []
   },
   "source": [
    "#### 4.4.4 Boolean-Array Methods `.sum(), .any(), .all()`"
   ]
  },
  {
   "cell_type": "markdown",
   "id": "0549ec67-0843-4309-8a7f-a27e428ed40d",
   "metadata": {},
   "source": [
    "`.sum()` counts True values in an ndarray, since Boolean values are coerced to 1 (True) and 0 (False) in the preceding methods."
   ]
  },
  {
   "cell_type": "code",
   "execution_count": 33,
   "id": "d02dd2c7-bd38-4892-bf56-39c1cd6d82b2",
   "metadata": {},
   "outputs": [],
   "source": [
    "arr = np.random.standard_normal(1000)"
   ]
  },
  {
   "cell_type": "code",
   "execution_count": 34,
   "id": "13dd5f98-aa75-422a-bf0c-65510a1703d5",
   "metadata": {},
   "outputs": [
    {
     "data": {
      "text/plain": [
       "6"
      ]
     },
     "execution_count": 34,
     "metadata": {},
     "output_type": "execute_result"
    }
   ],
   "source": [
    "(arr > 2.5).sum()    # Number of vals > 2.5"
   ]
  },
  {
   "cell_type": "code",
   "execution_count": 35,
   "id": "9d3c6bfa-73e5-4bc6-ad19-187fbadb175e",
   "metadata": {},
   "outputs": [
    {
     "data": {
      "text/plain": [
       "8"
      ]
     },
     "execution_count": 35,
     "metadata": {},
     "output_type": "execute_result"
    }
   ],
   "source": [
    "(arr < -2.5).sum()    # Number of vals < -2.5"
   ]
  },
  {
   "cell_type": "code",
   "execution_count": 36,
   "id": "f8e1be68-ca20-4d9f-afaa-d7d90a7154ad",
   "metadata": {},
   "outputs": [
    {
     "data": {
      "text/plain": [
       "True"
      ]
     },
     "execution_count": 36,
     "metadata": {},
     "output_type": "execute_result"
    }
   ],
   "source": [
    "(arr > 3.0).any()"
   ]
  },
  {
   "cell_type": "code",
   "execution_count": 37,
   "id": "c92bcad1-36b1-45f5-8893-87976dff1b9b",
   "metadata": {},
   "outputs": [
    {
     "data": {
      "text/plain": [
       "False"
      ]
     },
     "execution_count": 37,
     "metadata": {},
     "output_type": "execute_result"
    }
   ],
   "source": [
    "(arr < -3.0).any()"
   ]
  },
  {
   "cell_type": "code",
   "execution_count": 38,
   "id": "18756777-521b-4698-ab9d-2020f31c99d9",
   "metadata": {},
   "outputs": [
    {
     "data": {
      "text/plain": [
       "True"
      ]
     },
     "execution_count": 38,
     "metadata": {},
     "output_type": "execute_result"
    }
   ],
   "source": [
    "arr.all()"
   ]
  },
  {
   "cell_type": "markdown",
   "id": "bf25c704-3007-4a83-b12b-512f4990b5a8",
   "metadata": {
    "tags": []
   },
   "source": [
    "#### 4.4.5 Sorting"
   ]
  },
  {
   "cell_type": "markdown",
   "id": "22218a00-7de9-4823-b641-d16c395a1fb1",
   "metadata": {},
   "source": [
    "- Sort in place with `.sort()`, similar to Python list function `.sort()`;\n",
    "- Get a sorted copy with `np.sort()`, similar to Python function `sorted()`;\n",
    "- Sort a table with 1 or more cols with pandas."
   ]
  },
  {
   "cell_type": "code",
   "execution_count": 39,
   "id": "7d0d2bed-954a-4155-b2df-9df8f010bf3b",
   "metadata": {},
   "outputs": [
    {
     "data": {
      "text/plain": [
       "array([-0.6646,  0.8593, -0.0999,  0.9276,  0.3814])"
      ]
     },
     "execution_count": 39,
     "metadata": {},
     "output_type": "execute_result"
    }
   ],
   "source": [
    "arr1 = np.random.standard_normal(5)\n",
    "arr1"
   ]
  },
  {
   "cell_type": "code",
   "execution_count": 44,
   "id": "43263a89-b749-41a6-a8f7-1f84816e35ee",
   "metadata": {
    "collapsed": true,
    "jupyter": {
     "outputs_hidden": true
    },
    "tags": []
   },
   "outputs": [
    {
     "data": {
      "text/plain": [
       "\u001b[1;31mDocstring:\u001b[0m\n",
       "a.sort(axis=-1, kind=None, order=None)\n",
       "\n",
       "Sort an array in-place. Refer to `numpy.sort` for full documentation.\n",
       "\n",
       "Parameters\n",
       "----------\n",
       "axis : int, optional\n",
       "    Axis along which to sort. Default is -1, which means sort along the\n",
       "    last axis.\n",
       "kind : {'quicksort', 'mergesort', 'heapsort', 'stable'}, optional\n",
       "    Sorting algorithm. The default is 'quicksort'. Note that both 'stable'\n",
       "    and 'mergesort' use timsort under the covers and, in general, the\n",
       "    actual implementation will vary with datatype. The 'mergesort' option\n",
       "    is retained for backwards compatibility.\n",
       "\n",
       "    .. versionchanged:: 1.15.0\n",
       "       The 'stable' option was added.\n",
       "\n",
       "order : str or list of str, optional\n",
       "    When `a` is an array with fields defined, this argument specifies\n",
       "    which fields to compare first, second, etc.  A single field can\n",
       "    be specified as a string, and not all fields need be specified,\n",
       "    but unspecified fields will still be used, in the order in which\n",
       "    they come up in the dtype, to break ties.\n",
       "\n",
       "See Also\n",
       "--------\n",
       "numpy.sort : Return a sorted copy of an array.\n",
       "numpy.argsort : Indirect sort.\n",
       "numpy.lexsort : Indirect stable sort on multiple keys.\n",
       "numpy.searchsorted : Find elements in sorted array.\n",
       "numpy.partition: Partial sort.\n",
       "\n",
       "Notes\n",
       "-----\n",
       "See `numpy.sort` for notes on the different sorting algorithms.\n",
       "\n",
       "Examples\n",
       "--------\n",
       ">>> a = np.array([[1,4], [3,1]])\n",
       ">>> a.sort(axis=1)\n",
       ">>> a\n",
       "array([[1, 4],\n",
       "       [1, 3]])\n",
       ">>> a.sort(axis=0)\n",
       ">>> a\n",
       "array([[1, 3],\n",
       "       [1, 4]])\n",
       "\n",
       "Use the `order` keyword to specify a field to use when sorting a\n",
       "structured array:\n",
       "\n",
       ">>> a = np.array([('a', 2), ('c', 1)], dtype=[('x', 'S1'), ('y', int)])\n",
       ">>> a.sort(order='y')\n",
       ">>> a\n",
       "array([(b'c', 1), (b'a', 2)],\n",
       "      dtype=[('x', 'S1'), ('y', '<i8')])\n",
       "\u001b[1;31mType:\u001b[0m      builtin_function_or_method\n"
      ]
     },
     "metadata": {},
     "output_type": "display_data"
    }
   ],
   "source": [
    "arr1.sort?"
   ]
  },
  {
   "cell_type": "code",
   "execution_count": 40,
   "id": "3b2a295d-7e76-4433-881d-062c7d777934",
   "metadata": {},
   "outputs": [
    {
     "data": {
      "text/plain": [
       "array([-0.6646, -0.0999,  0.3814,  0.8593,  0.9276])"
      ]
     },
     "execution_count": 40,
     "metadata": {},
     "output_type": "execute_result"
    }
   ],
   "source": [
    "arr1.sort()    # Sort in place\n",
    "arr1"
   ]
  },
  {
   "cell_type": "code",
   "execution_count": 41,
   "id": "8b156a8e-9a56-4d40-ae8e-c72e9d9bc624",
   "metadata": {},
   "outputs": [
    {
     "data": {
      "text/plain": [
       "array([[ 0.7095,  1.5771,  0.4185],\n",
       "       [-0.4195,  0.0607,  1.0989],\n",
       "       [-0.7808, -0.7433, -0.9448],\n",
       "       [ 1.1775,  0.4649,  1.1411],\n",
       "       [-0.8092,  0.9955,  0.348 ]])"
      ]
     },
     "execution_count": 41,
     "metadata": {},
     "output_type": "execute_result"
    }
   ],
   "source": [
    "arr2 = np.random.standard_normal((5, 3))\n",
    "arr2"
   ]
  },
  {
   "cell_type": "code",
   "execution_count": 45,
   "id": "044008b0-bc51-4468-9990-45adede11263",
   "metadata": {},
   "outputs": [
    {
     "data": {
      "text/plain": [
       "array([[ 0.4185,  0.7095,  1.5771],\n",
       "       [-0.4195,  0.0607,  1.0989],\n",
       "       [-0.9448, -0.7808, -0.7433],\n",
       "       [ 0.4649,  1.1411,  1.1775],\n",
       "       [-0.8092,  0.348 ,  0.9955]])"
      ]
     },
     "execution_count": 45,
     "metadata": {},
     "output_type": "execute_result"
    }
   ],
   "source": [
    "arr2.sort()    # Sort in place. Default axis is -1, which means sort along the last axis.\n",
    "arr2"
   ]
  },
  {
   "cell_type": "code",
   "execution_count": 46,
   "id": "8ee86ba8-3505-45a0-bab7-b2d7f4e80d6c",
   "metadata": {},
   "outputs": [
    {
     "data": {
      "text/plain": [
       "array([[ 0.7401,  0.3547, -1.3088],\n",
       "       [-0.0742, -0.5541, -0.1825]])"
      ]
     },
     "execution_count": 46,
     "metadata": {},
     "output_type": "execute_result"
    }
   ],
   "source": [
    "arr3 = np.random.standard_normal((2, 3))\n",
    "arr3"
   ]
  },
  {
   "cell_type": "code",
   "execution_count": 47,
   "id": "ae98d5c5-35aa-4173-aab0-c52df866c6ae",
   "metadata": {},
   "outputs": [
    {
     "data": {
      "text/plain": [
       "array([[-1.3088,  0.3547,  0.7401],\n",
       "       [-0.5541, -0.1825, -0.0742]])"
      ]
     },
     "execution_count": 47,
     "metadata": {},
     "output_type": "execute_result"
    }
   ],
   "source": [
    "np.sort(arr3, axis=1)    # Get a sorted copy, but leave arr3 unchanged"
   ]
  },
  {
   "cell_type": "code",
   "execution_count": 48,
   "id": "f63befd0-3322-43ee-9e1b-51ce36869545",
   "metadata": {},
   "outputs": [
    {
     "data": {
      "text/plain": [
       "array([[ 0.7401,  0.3547, -1.3088],\n",
       "       [-0.0742, -0.5541, -0.1825]])"
      ]
     },
     "execution_count": 48,
     "metadata": {},
     "output_type": "execute_result"
    }
   ],
   "source": [
    "arr3    # Unchanged"
   ]
  },
  {
   "cell_type": "code",
   "execution_count": 49,
   "id": "d226b210-2ba9-49f4-ae00-3815dc6e3da8",
   "metadata": {},
   "outputs": [
    {
     "data": {
      "text/plain": [
       "array([[-1.3088,  0.3547,  0.7401],\n",
       "       [-0.5541, -0.1825, -0.0742]])"
      ]
     },
     "execution_count": 49,
     "metadata": {},
     "output_type": "execute_result"
    }
   ],
   "source": [
    "arr3.sort(axis=1)\n",
    "arr3"
   ]
  },
  {
   "cell_type": "code",
   "execution_count": 50,
   "id": "e8b2cd9e-169c-4cdc-86c2-7e3c247c2673",
   "metadata": {},
   "outputs": [
    {
     "data": {
      "text/plain": [
       "array([[-1.3088, -0.1825, -0.0742],\n",
       "       [-0.5541,  0.3547,  0.7401]])"
      ]
     },
     "execution_count": 50,
     "metadata": {},
     "output_type": "execute_result"
    }
   ],
   "source": [
    "arr3.sort(axis=0)\n",
    "arr3"
   ]
  },
  {
   "cell_type": "markdown",
   "id": "2a34c022-8976-4d6a-972d-031dd8f83035",
   "metadata": {
    "tags": []
   },
   "source": [
    "#### 4.4.6 Set Logic: `np.unique()` and `np.isin()`"
   ]
  },
  {
   "cell_type": "code",
   "execution_count": 51,
   "id": "42189425-0774-4bc1-922d-232f5285236d",
   "metadata": {},
   "outputs": [],
   "source": [
    "names = np.array(['Bob', 'Wil', 'Joe', 'Bob', 'Wil', 'Joe', 'Joe'])"
   ]
  },
  {
   "cell_type": "code",
   "execution_count": 53,
   "id": "f3bc4a18-16ba-4afc-bdb3-1ac606c6098b",
   "metadata": {},
   "outputs": [
    {
     "data": {
      "text/plain": [
       "array(['Bob', 'Joe', 'Wil'], dtype='<U3')"
      ]
     },
     "execution_count": 53,
     "metadata": {},
     "output_type": "execute_result"
    }
   ],
   "source": [
    "np.unique(names)    # NumPy version"
   ]
  },
  {
   "cell_type": "code",
   "execution_count": 54,
   "id": "d41e6661-e5ff-4700-954c-55e829e40ec8",
   "metadata": {},
   "outputs": [
    {
     "data": {
      "text/plain": [
       "['Bob', 'Joe', 'Wil']"
      ]
     },
     "execution_count": 54,
     "metadata": {},
     "output_type": "execute_result"
    }
   ],
   "source": [
    "sorted(set(names))    # Python version, typically slower and returning a list"
   ]
  },
  {
   "cell_type": "code",
   "execution_count": 55,
   "id": "d771513e-505a-4197-b870-5fde36ee3eff",
   "metadata": {},
   "outputs": [
    {
     "data": {
      "text/plain": [
       "array([3, 3, 3, 2, 2, 1, 1, 4, 4])"
      ]
     },
     "execution_count": 55,
     "metadata": {},
     "output_type": "execute_result"
    }
   ],
   "source": [
    "ints = np.array([3, 3, 3, 2, 2, 1, 1, 4, 4])\n",
    "ints"
   ]
  },
  {
   "cell_type": "code",
   "execution_count": 56,
   "id": "f09caac9-b60e-4f5c-9edb-378d3a5055ee",
   "metadata": {},
   "outputs": [
    {
     "data": {
      "text/plain": [
       "array([1, 2, 3, 4])"
      ]
     },
     "execution_count": 56,
     "metadata": {},
     "output_type": "execute_result"
    }
   ],
   "source": [
    "np.unique(ints)    # NumPy version"
   ]
  },
  {
   "cell_type": "code",
   "execution_count": 57,
   "id": "8da65a1f-5009-439c-8595-c5ab26fa34c8",
   "metadata": {},
   "outputs": [
    {
     "data": {
      "text/plain": [
       "[1, 2, 3, 4]"
      ]
     },
     "execution_count": 57,
     "metadata": {},
     "output_type": "execute_result"
    }
   ],
   "source": [
    "sorted(set(ints))    # Python version"
   ]
  },
  {
   "cell_type": "code",
   "execution_count": 58,
   "id": "f23c72b9-0012-4a6b-9efc-1257213bb952",
   "metadata": {},
   "outputs": [
    {
     "data": {
      "text/plain": [
       "array([2, 4])"
      ]
     },
     "execution_count": 58,
     "metadata": {},
     "output_type": "execute_result"
    }
   ],
   "source": [
    "evens = np.array([2, 4])\n",
    "evens"
   ]
  },
  {
   "cell_type": "code",
   "execution_count": 59,
   "id": "3bfe64e8-1d6b-4852-b148-0473e349c9f1",
   "metadata": {},
   "outputs": [
    {
     "data": {
      "text/plain": [
       "array([3, 3, 3, 2, 2, 1, 1, 4, 4])"
      ]
     },
     "execution_count": 59,
     "metadata": {},
     "output_type": "execute_result"
    }
   ],
   "source": [
    "ints"
   ]
  },
  {
   "cell_type": "code",
   "execution_count": 64,
   "id": "c4447041-c1c9-4f6e-8fbc-0b6d6f022e3c",
   "metadata": {},
   "outputs": [
    {
     "data": {
      "text/plain": [
       "array([False, False, False,  True,  True, False, False,  True,  True])"
      ]
     },
     "execution_count": 64,
     "metadata": {},
     "output_type": "execute_result"
    }
   ],
   "source": [
    "np.in1d(ints, evens)    # Recommend using :func:`isin` instead of `in1d` for new code."
   ]
  },
  {
   "cell_type": "code",
   "execution_count": 61,
   "id": "2c46f7c6-71dd-480b-914f-b2b6b85cbf69",
   "metadata": {
    "collapsed": true,
    "jupyter": {
     "outputs_hidden": true
    },
    "tags": []
   },
   "outputs": [
    {
     "data": {
      "text/plain": [
       "\u001b[1;31mSignature:\u001b[0m \u001b[0mnp\u001b[0m\u001b[1;33m.\u001b[0m\u001b[0min1d\u001b[0m\u001b[1;33m(\u001b[0m\u001b[0mar1\u001b[0m\u001b[1;33m,\u001b[0m \u001b[0mar2\u001b[0m\u001b[1;33m,\u001b[0m \u001b[0massume_unique\u001b[0m\u001b[1;33m=\u001b[0m\u001b[1;32mFalse\u001b[0m\u001b[1;33m,\u001b[0m \u001b[0minvert\u001b[0m\u001b[1;33m=\u001b[0m\u001b[1;32mFalse\u001b[0m\u001b[1;33m)\u001b[0m\u001b[1;33m\u001b[0m\u001b[1;33m\u001b[0m\u001b[0m\n",
       "\u001b[1;31mDocstring:\u001b[0m\n",
       "Test whether each element of a 1-D array is also present in a second array.\n",
       "\n",
       "Returns a boolean array the same length as `ar1` that is True\n",
       "where an element of `ar1` is in `ar2` and False otherwise.\n",
       "\n",
       "We recommend using :func:`isin` instead of `in1d` for new code.\n",
       "\n",
       "Parameters\n",
       "----------\n",
       "ar1 : (M,) array_like\n",
       "    Input array.\n",
       "ar2 : array_like\n",
       "    The values against which to test each value of `ar1`.\n",
       "assume_unique : bool, optional\n",
       "    If True, the input arrays are both assumed to be unique, which\n",
       "    can speed up the calculation.  Default is False.\n",
       "invert : bool, optional\n",
       "    If True, the values in the returned array are inverted (that is,\n",
       "    False where an element of `ar1` is in `ar2` and True otherwise).\n",
       "    Default is False. ``np.in1d(a, b, invert=True)`` is equivalent\n",
       "    to (but is faster than) ``np.invert(in1d(a, b))``.\n",
       "\n",
       "    .. versionadded:: 1.8.0\n",
       "\n",
       "Returns\n",
       "-------\n",
       "in1d : (M,) ndarray, bool\n",
       "    The values `ar1[in1d]` are in `ar2`.\n",
       "\n",
       "See Also\n",
       "--------\n",
       "isin                  : Version of this function that preserves the\n",
       "                        shape of ar1.\n",
       "numpy.lib.arraysetops : Module with a number of other functions for\n",
       "                        performing set operations on arrays.\n",
       "\n",
       "Notes\n",
       "-----\n",
       "`in1d` can be considered as an element-wise function version of the\n",
       "python keyword `in`, for 1-D sequences. ``in1d(a, b)`` is roughly\n",
       "equivalent to ``np.array([item in b for item in a])``.\n",
       "However, this idea fails if `ar2` is a set, or similar (non-sequence)\n",
       "container:  As ``ar2`` is converted to an array, in those cases\n",
       "``asarray(ar2)`` is an object array rather than the expected array of\n",
       "contained values.\n",
       "\n",
       ".. versionadded:: 1.4.0\n",
       "\n",
       "Examples\n",
       "--------\n",
       ">>> test = np.array([0, 1, 2, 5, 0])\n",
       ">>> states = [0, 2]\n",
       ">>> mask = np.in1d(test, states)\n",
       ">>> mask\n",
       "array([ True, False,  True, False,  True])\n",
       ">>> test[mask]\n",
       "array([0, 2, 0])\n",
       ">>> mask = np.in1d(test, states, invert=True)\n",
       ">>> mask\n",
       "array([False,  True, False,  True, False])\n",
       ">>> test[mask]\n",
       "array([1, 5])\n",
       "\u001b[1;31mFile:\u001b[0m      d:\\python\\envs\\learn311\\lib\\site-packages\\numpy\\lib\\arraysetops.py\n",
       "\u001b[1;31mType:\u001b[0m      function\n"
      ]
     },
     "metadata": {},
     "output_type": "display_data"
    }
   ],
   "source": [
    "np.in1d?"
   ]
  },
  {
   "cell_type": "code",
   "execution_count": 62,
   "id": "9c3e50da-af11-4bb3-80bd-bc45baa89cd1",
   "metadata": {
    "collapsed": true,
    "jupyter": {
     "outputs_hidden": true
    },
    "tags": []
   },
   "outputs": [
    {
     "data": {
      "text/plain": [
       "\u001b[1;31mSignature:\u001b[0m \u001b[0mnp\u001b[0m\u001b[1;33m.\u001b[0m\u001b[0misin\u001b[0m\u001b[1;33m(\u001b[0m\u001b[0melement\u001b[0m\u001b[1;33m,\u001b[0m \u001b[0mtest_elements\u001b[0m\u001b[1;33m,\u001b[0m \u001b[0massume_unique\u001b[0m\u001b[1;33m=\u001b[0m\u001b[1;32mFalse\u001b[0m\u001b[1;33m,\u001b[0m \u001b[0minvert\u001b[0m\u001b[1;33m=\u001b[0m\u001b[1;32mFalse\u001b[0m\u001b[1;33m)\u001b[0m\u001b[1;33m\u001b[0m\u001b[1;33m\u001b[0m\u001b[0m\n",
       "\u001b[1;31mDocstring:\u001b[0m\n",
       "Calculates ``element in test_elements``, broadcasting over `element` only.\n",
       "Returns a boolean array of the same shape as `element` that is True\n",
       "where an element of `element` is in `test_elements` and False otherwise.\n",
       "\n",
       "Parameters\n",
       "----------\n",
       "element : array_like\n",
       "    Input array.\n",
       "test_elements : array_like\n",
       "    The values against which to test each value of `element`.\n",
       "    This argument is flattened if it is an array or array_like.\n",
       "    See notes for behavior with non-array-like parameters.\n",
       "assume_unique : bool, optional\n",
       "    If True, the input arrays are both assumed to be unique, which\n",
       "    can speed up the calculation.  Default is False.\n",
       "invert : bool, optional\n",
       "    If True, the values in the returned array are inverted, as if\n",
       "    calculating `element not in test_elements`. Default is False.\n",
       "    ``np.isin(a, b, invert=True)`` is equivalent to (but faster\n",
       "    than) ``np.invert(np.isin(a, b))``.\n",
       "\n",
       "Returns\n",
       "-------\n",
       "isin : ndarray, bool\n",
       "    Has the same shape as `element`. The values `element[isin]`\n",
       "    are in `test_elements`.\n",
       "\n",
       "See Also\n",
       "--------\n",
       "in1d                  : Flattened version of this function.\n",
       "numpy.lib.arraysetops : Module with a number of other functions for\n",
       "                        performing set operations on arrays.\n",
       "\n",
       "Notes\n",
       "-----\n",
       "\n",
       "`isin` is an element-wise function version of the python keyword `in`.\n",
       "``isin(a, b)`` is roughly equivalent to\n",
       "``np.array([item in b for item in a])`` if `a` and `b` are 1-D sequences.\n",
       "\n",
       "`element` and `test_elements` are converted to arrays if they are not\n",
       "already. If `test_elements` is a set (or other non-sequence collection)\n",
       "it will be converted to an object array with one element, rather than an\n",
       "array of the values contained in `test_elements`. This is a consequence\n",
       "of the `array` constructor's way of handling non-sequence collections.\n",
       "Converting the set to a list usually gives the desired behavior.\n",
       "\n",
       ".. versionadded:: 1.13.0\n",
       "\n",
       "Examples\n",
       "--------\n",
       ">>> element = 2*np.arange(4).reshape((2, 2))\n",
       ">>> element\n",
       "array([[0, 2],\n",
       "       [4, 6]])\n",
       ">>> test_elements = [1, 2, 4, 8]\n",
       ">>> mask = np.isin(element, test_elements)\n",
       ">>> mask\n",
       "array([[False,  True],\n",
       "       [ True, False]])\n",
       ">>> element[mask]\n",
       "array([2, 4])\n",
       "\n",
       "The indices of the matched values can be obtained with `nonzero`:\n",
       "\n",
       ">>> np.nonzero(mask)\n",
       "(array([0, 1]), array([1, 0]))\n",
       "\n",
       "The test can also be inverted:\n",
       "\n",
       ">>> mask = np.isin(element, test_elements, invert=True)\n",
       ">>> mask\n",
       "array([[ True, False],\n",
       "       [False,  True]])\n",
       ">>> element[mask]\n",
       "array([0, 6])\n",
       "\n",
       "Because of how `array` handles sets, the following does not\n",
       "work as expected:\n",
       "\n",
       ">>> test_set = {1, 2, 4, 8}\n",
       ">>> np.isin(element, test_set)\n",
       "array([[False, False],\n",
       "       [False, False]])\n",
       "\n",
       "Casting the set to a list gives the expected result:\n",
       "\n",
       ">>> np.isin(element, list(test_set))\n",
       "array([[False,  True],\n",
       "       [ True, False]])\n",
       "\u001b[1;31mFile:\u001b[0m      d:\\python\\envs\\learn311\\lib\\site-packages\\numpy\\lib\\arraysetops.py\n",
       "\u001b[1;31mType:\u001b[0m      function\n"
      ]
     },
     "metadata": {},
     "output_type": "display_data"
    }
   ],
   "source": [
    "np.isin?"
   ]
  },
  {
   "cell_type": "code",
   "execution_count": 63,
   "id": "f6866c36-0f53-4e4e-807a-f6ebed89fb01",
   "metadata": {},
   "outputs": [
    {
     "data": {
      "text/plain": [
       "array([False, False, False,  True,  True, False, False,  True,  True])"
      ]
     },
     "execution_count": 63,
     "metadata": {},
     "output_type": "execute_result"
    }
   ],
   "source": [
    "np.isin(ints, evens)"
   ]
  },
  {
   "cell_type": "markdown",
   "id": "2aa2e4f2-f1a0-428b-84ec-74164a406bd5",
   "metadata": {
    "jp-MarkdownHeadingCollapsed": true,
    "tags": []
   },
   "source": [
    "### 4.5 File IO with Arrays"
   ]
  },
  {
   "cell_type": "markdown",
   "id": "089083cb-a2c1-422a-b9df-4d391e96d791",
   "metadata": {},
   "source": [
    "Saving NumPy binary file formats:\n",
    "1. Workhorse funcs: `np.save()` and `np.load()`, file extension `.npy`;\n",
    "2. Save multiplce uncompressed arrays with `np.savez()`, file extension `.npz`;\n",
    "3. Save multiplce compressed arrays with `np.savez_compressed()`, file extension `.npz`."
   ]
  },
  {
   "cell_type": "code",
   "execution_count": 5,
   "id": "57dcfc64-aa3a-4e03-985a-2de0710d2183",
   "metadata": {},
   "outputs": [
    {
     "data": {
      "text/plain": [
       "array([ 0,  1,  2,  3,  4,  5,  6,  7,  8,  9, 10, 11, 12, 13, 14, 15, 16])"
      ]
     },
     "execution_count": 5,
     "metadata": {},
     "output_type": "execute_result"
    }
   ],
   "source": [
    "arr = np.arange(17)\n",
    "arr"
   ]
  },
  {
   "cell_type": "code",
   "execution_count": 6,
   "id": "b4cd1678-210c-4419-abb8-f71cb9c6f6c8",
   "metadata": {},
   "outputs": [
    {
     "data": {
      "text/plain": [
       "array([  0,   1,   3,   6,  10,  15,  21,  28,  36,  45,  55,  66,  78,\n",
       "        91, 105, 120, 136])"
      ]
     },
     "execution_count": 6,
     "metadata": {},
     "output_type": "execute_result"
    }
   ],
   "source": [
    "csum = arr.cumsum()\n",
    "csum"
   ]
  },
  {
   "cell_type": "code",
   "execution_count": 7,
   "id": "939564fd-9c15-4012-b5a8-7160c7b4f174",
   "metadata": {},
   "outputs": [],
   "source": [
    "np.save('cumsum_arr', csum)"
   ]
  },
  {
   "cell_type": "code",
   "execution_count": 8,
   "id": "4c08f992-d474-4573-8ffb-e00664d97c03",
   "metadata": {},
   "outputs": [
    {
     "data": {
      "text/plain": [
       "array([  0,   1,   3,   6,  10,  15,  21,  28,  36,  45,  55,  66,  78,\n",
       "        91, 105, 120, 136])"
      ]
     },
     "execution_count": 8,
     "metadata": {},
     "output_type": "execute_result"
    }
   ],
   "source": [
    "np.load('cumsum_arr.npy')"
   ]
  },
  {
   "cell_type": "code",
   "execution_count": 9,
   "id": "0219fe9f-d991-449e-ac4b-b017e1a97b82",
   "metadata": {},
   "outputs": [],
   "source": [
    "np.savez('archive_2arr.npz', arr=arr, csum=csum)"
   ]
  },
  {
   "cell_type": "code",
   "execution_count": 10,
   "id": "54a0be8f-ddaa-49f4-ba6f-1de06907c510",
   "metadata": {},
   "outputs": [],
   "source": [
    "arch = np.load('archive_2arr.npz')"
   ]
  },
  {
   "cell_type": "code",
   "execution_count": 11,
   "id": "42a1efa5-15d2-41ea-9a2e-144e36650302",
   "metadata": {},
   "outputs": [
    {
     "data": {
      "text/plain": [
       "array([ 0,  1,  2,  3,  4,  5,  6,  7,  8,  9, 10, 11, 12, 13, 14, 15, 16])"
      ]
     },
     "execution_count": 11,
     "metadata": {},
     "output_type": "execute_result"
    }
   ],
   "source": [
    "arch['arr']"
   ]
  },
  {
   "cell_type": "code",
   "execution_count": 12,
   "id": "9d0cd9c1-4d5a-48a3-8548-5c7c4f3d589a",
   "metadata": {},
   "outputs": [
    {
     "data": {
      "text/plain": [
       "array([  0,   1,   3,   6,  10,  15,  21,  28,  36,  45,  55,  66,  78,\n",
       "        91, 105, 120, 136])"
      ]
     },
     "execution_count": 12,
     "metadata": {},
     "output_type": "execute_result"
    }
   ],
   "source": [
    "arch['csum']"
   ]
  },
  {
   "cell_type": "code",
   "execution_count": 13,
   "id": "964030ec-6e4a-45a9-8f7f-547a0eae5591",
   "metadata": {},
   "outputs": [],
   "source": [
    "np.savez_compressed('compress_2arr.npz', arr=arr, csum=csum)"
   ]
  },
  {
   "cell_type": "code",
   "execution_count": 14,
   "id": "6e9d3052-0cc7-4acc-92ac-95bb09f9980d",
   "metadata": {},
   "outputs": [],
   "source": [
    "comp = np.load('compress_2arr.npz')"
   ]
  },
  {
   "cell_type": "code",
   "execution_count": 15,
   "id": "168605d4-8cdc-42ae-934f-9980d64dab96",
   "metadata": {},
   "outputs": [
    {
     "data": {
      "text/plain": [
       "array([ 0,  1,  2,  3,  4,  5,  6,  7,  8,  9, 10, 11, 12, 13, 14, 15, 16])"
      ]
     },
     "execution_count": 15,
     "metadata": {},
     "output_type": "execute_result"
    }
   ],
   "source": [
    "comp['arr']"
   ]
  },
  {
   "cell_type": "code",
   "execution_count": 16,
   "id": "37f141ae-3fe6-4c1b-b23e-4883ec12aa0a",
   "metadata": {},
   "outputs": [
    {
     "data": {
      "text/plain": [
       "array([  0,   1,   3,   6,  10,  15,  21,  28,  36,  45,  55,  66,  78,\n",
       "        91, 105, 120, 136])"
      ]
     },
     "execution_count": 16,
     "metadata": {},
     "output_type": "execute_result"
    }
   ],
   "source": [
    "comp['csum']"
   ]
  },
  {
   "cell_type": "code",
   "execution_count": null,
   "id": "da91902e-3c58-4a2e-b21c-3386cb533952",
   "metadata": {},
   "outputs": [],
   "source": []
  },
  {
   "cell_type": "markdown",
   "id": "84020aff-07b1-44fb-afb4-21b161eb733d",
   "metadata": {
    "jp-MarkdownHeadingCollapsed": true,
    "tags": []
   },
   "source": [
    "### 4.6 Linear Algebra"
   ]
  },
  {
   "cell_type": "markdown",
   "id": "8fb338ce-c8d9-46d2-9390-f25dcb8463fc",
   "metadata": {},
   "source": [
    "- Common np.linalg funcs:\n",
    "    - `diag, dot, trace, det, eig, inv, pinv, qr, svd, solve, lstsq`"
   ]
  },
  {
   "cell_type": "code",
   "execution_count": 17,
   "id": "f1b07710-6fa9-4a61-9cf1-ca128e61d7d9",
   "metadata": {},
   "outputs": [
    {
     "data": {
      "text/plain": [
       "array([[1., 2., 3.],\n",
       "       [4., 5., 6.]])"
      ]
     },
     "execution_count": 17,
     "metadata": {},
     "output_type": "execute_result"
    }
   ],
   "source": [
    "x = np.array([[1., 2., 3.], [4., 5., 6.]])\n",
    "x"
   ]
  },
  {
   "cell_type": "code",
   "execution_count": 18,
   "id": "96bb48b7-f1f4-4295-bb66-cc2b48eb3d18",
   "metadata": {},
   "outputs": [
    {
     "data": {
      "text/plain": [
       "array([[ 6., 23.],\n",
       "       [-1.,  7.],\n",
       "       [ 8.,  9.]])"
      ]
     },
     "execution_count": 18,
     "metadata": {},
     "output_type": "execute_result"
    }
   ],
   "source": [
    "y = np.array([[6., 23], [-1, 7], [8, 9]])\n",
    "y"
   ]
  },
  {
   "cell_type": "code",
   "execution_count": 19,
   "id": "e3348478-e1fa-46eb-9d80-b93b25b6c11b",
   "metadata": {},
   "outputs": [
    {
     "data": {
      "text/plain": [
       "array([[ 28.,  64.],\n",
       "       [ 67., 181.]])"
      ]
     },
     "execution_count": 19,
     "metadata": {},
     "output_type": "execute_result"
    }
   ],
   "source": [
    "x.dot(y)"
   ]
  },
  {
   "cell_type": "code",
   "execution_count": 20,
   "id": "dc0cef2c-779a-44b2-a8af-6ffa6e64d0d8",
   "metadata": {},
   "outputs": [
    {
     "data": {
      "text/plain": [
       "array([[ 28.,  64.],\n",
       "       [ 67., 181.]])"
      ]
     },
     "execution_count": 20,
     "metadata": {},
     "output_type": "execute_result"
    }
   ],
   "source": [
    "np.dot(x, y)    # Equivalent to the x.dot(y)"
   ]
  },
  {
   "cell_type": "code",
   "execution_count": 21,
   "id": "eab8da0c-78d1-444c-b040-8f2d8cc8e720",
   "metadata": {},
   "outputs": [
    {
     "data": {
      "text/plain": [
       "array([[ 28.,  64.],\n",
       "       [ 67., 181.]])"
      ]
     },
     "execution_count": 21,
     "metadata": {},
     "output_type": "execute_result"
    }
   ],
   "source": [
    "x @ y"
   ]
  },
  {
   "cell_type": "code",
   "execution_count": 22,
   "id": "4ccaeffc-a658-4b23-abcd-1835290ec89f",
   "metadata": {},
   "outputs": [
    {
     "data": {
      "text/plain": [
       "array([1., 1., 1.])"
      ]
     },
     "execution_count": 22,
     "metadata": {},
     "output_type": "execute_result"
    }
   ],
   "source": [
    "np.ones(3)"
   ]
  },
  {
   "cell_type": "code",
   "execution_count": 23,
   "id": "97519df5-92f6-4cbd-9531-72132ab7ee1f",
   "metadata": {},
   "outputs": [
    {
     "data": {
      "text/plain": [
       "array([ 6., 15.])"
      ]
     },
     "execution_count": 23,
     "metadata": {},
     "output_type": "execute_result"
    }
   ],
   "source": [
    "x @ np.ones(3)"
   ]
  },
  {
   "cell_type": "code",
   "execution_count": 24,
   "id": "19803df6-18bd-4953-b332-7d3578e72a52",
   "metadata": {},
   "outputs": [
    {
     "data": {
      "text/plain": [
       "array([[1., 1.],\n",
       "       [1., 1.],\n",
       "       [1., 1.]])"
      ]
     },
     "execution_count": 24,
     "metadata": {},
     "output_type": "execute_result"
    }
   ],
   "source": [
    "np.ones((3, 2))"
   ]
  },
  {
   "cell_type": "code",
   "execution_count": 25,
   "id": "677ac085-e39c-4753-a8f4-422572f671c4",
   "metadata": {},
   "outputs": [
    {
     "data": {
      "text/plain": [
       "array([[ 6.,  6.],\n",
       "       [15., 15.]])"
      ]
     },
     "execution_count": 25,
     "metadata": {},
     "output_type": "execute_result"
    }
   ],
   "source": [
    "x @ np.ones((3, 2))"
   ]
  },
  {
   "cell_type": "code",
   "execution_count": 26,
   "id": "f809e71c-7a20-4741-a37b-ffa18d3dd5d1",
   "metadata": {},
   "outputs": [],
   "source": [
    "from numpy.linalg import inv, qr"
   ]
  },
  {
   "cell_type": "code",
   "execution_count": 27,
   "id": "5c9a9c86-7e2c-4d0f-bdeb-e439f1c884af",
   "metadata": {},
   "outputs": [
    {
     "data": {
      "text/plain": [
       "array([[ 0.593 ,  0.8031, -0.0211, -1.0765,  0.2463],\n",
       "       [-0.8913, -2.0003, -0.8765, -0.504 ,  0.902 ],\n",
       "       [-1.8487, -0.2719, -1.5271,  0.8607,  0.7506],\n",
       "       [-1.765 ,  0.3411,  1.011 , -0.1344, -1.8343],\n",
       "       [-0.4079,  0.8805,  0.6149,  1.9851, -0.356 ]])"
      ]
     },
     "execution_count": 27,
     "metadata": {},
     "output_type": "execute_result"
    }
   ],
   "source": [
    "X = np.random.standard_normal((5, 5))\n",
    "X"
   ]
  },
  {
   "cell_type": "code",
   "execution_count": 28,
   "id": "268bd428-553a-4dde-97bd-d10770ff1389",
   "metadata": {},
   "outputs": [
    {
     "data": {
      "text/plain": [
       "array([[ 7.8454,  1.8007,  1.5566, -2.3528,  1.3372],\n",
       "       [ 1.8007,  5.6115,  3.0377,  1.6116, -2.7496],\n",
       "       [ 1.5566,  3.0377,  4.5008,  0.235 , -4.0154],\n",
       "       [-2.3528,  1.6116,  0.235 ,  6.1123, -0.5339],\n",
       "       [ 1.3372, -2.7496, -4.0154, -0.5339,  4.9291]])"
      ]
     },
     "execution_count": 28,
     "metadata": {},
     "output_type": "execute_result"
    }
   ],
   "source": [
    "Y = X.T @ X\n",
    "Y"
   ]
  },
  {
   "cell_type": "code",
   "execution_count": 29,
   "id": "6fed1116-1289-4a4e-a0c7-96cf975341cb",
   "metadata": {},
   "outputs": [
    {
     "data": {
      "text/plain": [
       "array([[ 1.2918, -0.5049, -2.3702,  0.5024, -2.5086],\n",
       "       [-0.5049,  0.5085,  0.7125, -0.2709,  0.9717],\n",
       "       [-2.3702,  0.7125,  5.3135, -0.8435,  5.2776],\n",
       "       [ 0.5024, -0.2709, -0.8435,  0.3793, -0.9335],\n",
       "       [-2.5086,  0.9717,  5.2776, -0.9335,  5.6237]])"
      ]
     },
     "execution_count": 29,
     "metadata": {},
     "output_type": "execute_result"
    }
   ],
   "source": [
    "Yi = inv(Y)\n",
    "Yi"
   ]
  },
  {
   "cell_type": "code",
   "execution_count": 30,
   "id": "bd61e66b-f20d-493b-b2a3-897afc6ef84a",
   "metadata": {},
   "outputs": [
    {
     "data": {
      "text/plain": [
       "array([[ 1.0000e+00,  4.8736e-16, -6.5196e-16, -3.0338e-16, -3.0983e-15],\n",
       "       [ 6.6264e-16,  1.0000e+00,  2.2945e-15, -1.1425e-17, -4.8754e-15],\n",
       "       [ 1.7613e-15,  5.8388e-16,  1.0000e+00, -2.6007e-16, -1.5765e-15],\n",
       "       [-7.7776e-16,  2.5413e-16,  1.3621e-15,  1.0000e+00,  5.6853e-16],\n",
       "       [-2.7881e-15, -1.2436e-16,  1.9017e-15, -1.4890e-15,  1.0000e+00]])"
      ]
     },
     "execution_count": 30,
     "metadata": {},
     "output_type": "execute_result"
    }
   ],
   "source": [
    "Y @ Yi"
   ]
  },
  {
   "cell_type": "code",
   "execution_count": 31,
   "id": "89418f40-36bb-41a5-9496-043ca73c15d0",
   "metadata": {},
   "outputs": [
    {
     "data": {
      "text/plain": [
       "array([[-0.7481, -0.58  , -0.082 , -0.3147, -0.5386],\n",
       "       [ 0.6249, -0.1785,  0.2034,  0.039 ,  0.208 ],\n",
       "       [ 1.2623,  1.2159, -0.6905,  0.231 ,  1.3082],\n",
       "       [-0.5401, -0.1997,  0.0587, -0.1706,  0.1232],\n",
       "       [ 1.5713,  1.2097, -0.2682, -0.0953,  1.269 ]])"
      ]
     },
     "execution_count": 31,
     "metadata": {},
     "output_type": "execute_result"
    }
   ],
   "source": [
    "Xi = inv(X)\n",
    "Xi"
   ]
  },
  {
   "cell_type": "code",
   "execution_count": 32,
   "id": "d48ad876-7284-47d7-89a9-837111573e3d",
   "metadata": {},
   "outputs": [
    {
     "data": {
      "text/plain": [
       "array([[ 1.0000e+00, -3.6865e-17,  2.6263e-17, -3.3917e-16, -3.5714e-17],\n",
       "       [ 9.8437e-19,  1.0000e+00,  7.2510e-17, -1.2204e-16,  1.6258e-17],\n",
       "       [ 2.8909e-16, -3.4271e-17,  1.0000e+00,  2.6488e-17,  2.9121e-17],\n",
       "       [-9.9635e-18,  6.0048e-17,  2.5607e-17,  1.0000e+00, -6.7844e-17],\n",
       "       [ 1.3688e-16, -2.8301e-16,  9.7736e-17,  2.6568e-19,  1.0000e+00]])"
      ]
     },
     "execution_count": 32,
     "metadata": {},
     "output_type": "execute_result"
    }
   ],
   "source": [
    "Xi @ X"
   ]
  },
  {
   "cell_type": "markdown",
   "id": "1b90e464-c901-45ee-8d22-c3f6f3401056",
   "metadata": {
    "jp-MarkdownHeadingCollapsed": true,
    "tags": []
   },
   "source": [
    "### 4.7 Example: Random Walks"
   ]
  },
  {
   "cell_type": "markdown",
   "id": "4ece9bdc-838c-4a12-8b38-4bdb9c4558c8",
   "metadata": {},
   "source": [
    "#### 4.7.1 Pure Python Way"
   ]
  },
  {
   "cell_type": "code",
   "execution_count": 4,
   "id": "4d80d0c7-92a1-45c2-849e-836e77d1dd90",
   "metadata": {},
   "outputs": [],
   "source": [
    "import random\n",
    "position = 0\n",
    "walk = [position]\n",
    "n_steps = 1000\n",
    "for _ in range(n_steps):\n",
    "    step = 1 if random.randint(0, 1) else -1\n",
    "    position += step\n",
    "    walk.append(position)"
   ]
  },
  {
   "cell_type": "code",
   "execution_count": 5,
   "id": "dd051b20-4ed5-47b2-89a2-4147a3efd219",
   "metadata": {},
   "outputs": [
    {
     "data": {
      "text/plain": [
       "[<matplotlib.lines.Line2D at 0x1806af7e490>]"
      ]
     },
     "execution_count": 5,
     "metadata": {},
     "output_type": "execute_result"
    },
    {
     "data": {
      "image/png": "[encoded data removed]",
      "text/plain": [
       "<Figure size 640x480 with 1 Axes>"
      ]
     },
     "metadata": {},
     "output_type": "display_data"
    }
   ],
   "source": [
    "plt.plot(walk[:100])"
   ]
  },
  {
   "cell_type": "code",
   "execution_count": 6,
   "id": "da35e9a0-3ed9-4046-bc4c-dbcb4bff81fa",
   "metadata": {
    "tags": []
   },
   "outputs": [
    {
     "data": {
      "text/plain": [
       "[<matplotlib.lines.Line2D at 0x1806d30eb50>]"
      ]
     },
     "execution_count": 6,
     "metadata": {},
     "output_type": "execute_result"
    },
    {
     "data": {
      "image/png": "[encoded data removed]",
      "text/plain": [
       "<Figure size 640x480 with 1 Axes>"
      ]
     },
     "metadata": {},
     "output_type": "display_data"
    }
   ],
   "source": [
    "plt.plot(walk)"
   ]
  },
  {
   "cell_type": "markdown",
   "id": "e3325679-c1d3-4b63-bfc1-729ab2ea4e0c",
   "metadata": {},
   "source": [
    "#### 4.7.2 NumPy Way"
   ]
  },
  {
   "cell_type": "code",
   "execution_count": 7,
   "id": "862a253b-fb1d-47b4-bfb4-c4404c136104",
   "metadata": {},
   "outputs": [],
   "source": [
    "n_steps = 1000\n",
    "rng = np.random.default_rng(seed=12345)\n",
    "draws = rng.integers(0, 2, size=n_steps)\n",
    "steps = np.where(draws == 0, -1, 1)\n",
    "walk = steps.cumsum()"
   ]
  },
  {
   "cell_type": "code",
   "execution_count": 8,
   "id": "cfc112f9-4c36-44bb-96c5-dcab2cc00218",
   "metadata": {},
   "outputs": [
    {
     "data": {
      "text/plain": [
       "[<matplotlib.lines.Line2D at 0x1806b0c5090>]"
      ]
     },
     "execution_count": 8,
     "metadata": {},
     "output_type": "execute_result"
    },
    {
     "data": {
      "image/png": "[encoded data removed]",
      "text/plain": [
       "<Figure size 640x480 with 1 Axes>"
      ]
     },
     "metadata": {},
     "output_type": "display_data"
    }
   ],
   "source": [
    "plt.plot(walk)"
   ]
  },
  {
   "cell_type": "code",
   "execution_count": 9,
   "id": "59b17469-0247-4b27-8d4c-25d510594a96",
   "metadata": {},
   "outputs": [
    {
     "data": {
      "text/plain": [
       "(-50, 8)"
      ]
     },
     "execution_count": 9,
     "metadata": {},
     "output_type": "execute_result"
    }
   ],
   "source": [
    "walk.min(), walk.max()"
   ]
  },
  {
   "cell_type": "code",
   "execution_count": 10,
   "id": "54945fad-d787-4367-bbe1-4dcca7676dc6",
   "metadata": {},
   "outputs": [
    {
     "data": {
      "text/plain": [
       "155"
      ]
     },
     "execution_count": 10,
     "metadata": {},
     "output_type": "execute_result"
    }
   ],
   "source": [
    "(np.abs(walk) >= 10).argmax()"
   ]
  },
  {
   "cell_type": "markdown",
   "id": "81da973b-a751-48b0-b21f-031cbf567fee",
   "metadata": {},
   "source": [
    "- Two points on the above cess:\n",
    "    1. (np.abs(walk) >= 10) turns each elements into T or F, which are then coerced into 1 or 0;\n",
    "    2. Among the multiple 1's, .argmax() returns the first's index. From docs of np.argmax():\n",
    "        - Notes: In case of multiple occurrences of the maximum values, the indices corresponding to the first occurrence are returned."
   ]
  },
  {
   "cell_type": "code",
   "execution_count": 40,
   "id": "b21bc935-96d3-475d-88a6-8d3e591cdd42",
   "metadata": {
    "collapsed": true,
    "jupyter": {
     "outputs_hidden": true
    },
    "tags": []
   },
   "outputs": [
    {
     "data": {
      "text/plain": [
       "\u001b[1;31mSignature:\u001b[0m \u001b[0mnp\u001b[0m\u001b[1;33m.\u001b[0m\u001b[0margmax\u001b[0m\u001b[1;33m(\u001b[0m\u001b[0ma\u001b[0m\u001b[1;33m,\u001b[0m \u001b[0maxis\u001b[0m\u001b[1;33m=\u001b[0m\u001b[1;32mNone\u001b[0m\u001b[1;33m,\u001b[0m \u001b[0mout\u001b[0m\u001b[1;33m=\u001b[0m\u001b[1;32mNone\u001b[0m\u001b[1;33m,\u001b[0m \u001b[1;33m*\u001b[0m\u001b[1;33m,\u001b[0m \u001b[0mkeepdims\u001b[0m\u001b[1;33m=\u001b[0m\u001b[1;33m<\u001b[0m\u001b[0mno\u001b[0m \u001b[0mvalue\u001b[0m\u001b[1;33m>\u001b[0m\u001b[1;33m)\u001b[0m\u001b[1;33m\u001b[0m\u001b[1;33m\u001b[0m\u001b[0m\n",
       "\u001b[1;31mDocstring:\u001b[0m\n",
       "Returns the indices of the maximum values along an axis.\n",
       "\n",
       "Parameters\n",
       "----------\n",
       "a : array_like\n",
       "    Input array.\n",
       "axis : int, optional\n",
       "    By default, the index is into the flattened array, otherwise\n",
       "    along the specified axis.\n",
       "out : array, optional\n",
       "    If provided, the result will be inserted into this array. It should\n",
       "    be of the appropriate shape and dtype.\n",
       "keepdims : bool, optional\n",
       "    If this is set to True, the axes which are reduced are left\n",
       "    in the result as dimensions with size one. With this option,\n",
       "    the result will broadcast correctly against the array.\n",
       "\n",
       "    .. versionadded:: 1.22.0\n",
       "\n",
       "Returns\n",
       "-------\n",
       "index_array : ndarray of ints\n",
       "    Array of indices into the array. It has the same shape as `a.shape`\n",
       "    with the dimension along `axis` removed. If `keepdims` is set to True,\n",
       "    then the size of `axis` will be 1 with the resulting array having same\n",
       "    shape as `a.shape`.\n",
       "\n",
       "See Also\n",
       "--------\n",
       "ndarray.argmax, argmin\n",
       "amax : The maximum value along a given axis.\n",
       "unravel_index : Convert a flat index into an index tuple.\n",
       "take_along_axis : Apply ``np.expand_dims(index_array, axis)``\n",
       "                  from argmax to an array as if by calling max.\n",
       "\n",
       "Notes\n",
       "-----\n",
       "In case of multiple occurrences of the maximum values, the indices\n",
       "corresponding to the first occurrence are returned.\n",
       "\n",
       "Examples\n",
       "--------\n",
       ">>> a = np.arange(6).reshape(2,3) + 10\n",
       ">>> a\n",
       "array([[10, 11, 12],\n",
       "       [13, 14, 15]])\n",
       ">>> np.argmax(a)\n",
       "5\n",
       ">>> np.argmax(a, axis=0)\n",
       "array([1, 1, 1])\n",
       ">>> np.argmax(a, axis=1)\n",
       "array([2, 2])\n",
       "\n",
       "Indexes of the maximal elements of a N-dimensional array:\n",
       "\n",
       ">>> ind = np.unravel_index(np.argmax(a, axis=None), a.shape)\n",
       ">>> ind\n",
       "(1, 2)\n",
       ">>> a[ind]\n",
       "15\n",
       "\n",
       ">>> b = np.arange(6)\n",
       ">>> b[1] = 5\n",
       ">>> b\n",
       "array([0, 5, 2, 3, 4, 5])\n",
       ">>> np.argmax(b)  # Only the first occurrence is returned.\n",
       "1\n",
       "\n",
       ">>> x = np.array([[4,2,3], [1,0,3]])\n",
       ">>> index_array = np.argmax(x, axis=-1)\n",
       ">>> # Same as np.amax(x, axis=-1, keepdims=True)\n",
       ">>> np.take_along_axis(x, np.expand_dims(index_array, axis=-1), axis=-1)\n",
       "array([[4],\n",
       "       [3]])\n",
       ">>> # Same as np.amax(x, axis=-1)\n",
       ">>> np.take_along_axis(x, np.expand_dims(index_array, axis=-1), axis=-1).squeeze(axis=-1)\n",
       "array([4, 3])\n",
       "\n",
       "Setting `keepdims` to `True`,\n",
       "\n",
       ">>> x = np.arange(24).reshape((2, 3, 4))\n",
       ">>> res = np.argmax(x, axis=1, keepdims=True)\n",
       ">>> res.shape\n",
       "(2, 1, 4)\n",
       "\u001b[1;31mFile:\u001b[0m      d:\\python\\envs\\learn311\\lib\\site-packages\\numpy\\core\\fromnumeric.py\n",
       "\u001b[1;31mType:\u001b[0m      function\n"
      ]
     },
     "metadata": {},
     "output_type": "display_data"
    }
   ],
   "source": [
    "np.argmax?"
   ]
  },
  {
   "cell_type": "markdown",
   "id": "50a4c71d-c811-4093-b07a-0350dbd65c95",
   "metadata": {},
   "source": [
    "#### 4.7.3 Simulating Many Random Walks at Once"
   ]
  },
  {
   "cell_type": "code",
   "execution_count": 11,
   "id": "c7ec71ad-d617-4c73-ae04-f63a49e78c8c",
   "metadata": {},
   "outputs": [],
   "source": [
    "n_walks = 5000\n",
    "n_steps = 1000\n",
    "rng = np.random.default_rng(seed=12345)\n",
    "draws = rng.integers(0, 2, size=(n_walks, n_steps))    # 0 or 1; each row is a walk\n",
    "steps = np.where(draws > 0, 1, -1)    # keep the 1's and change the 0's to -1's\n",
    "walks = steps.cumsum(axis=1)    # Each row is a walk"
   ]
  },
  {
   "cell_type": "code",
   "execution_count": 12,
   "id": "ce688f89-09cd-4a51-8150-a95eca641984",
   "metadata": {},
   "outputs": [
    {
     "data": {
      "text/plain": [
       "array([[  1,   0,   1, ..., -48, -47, -46],\n",
       "       [  1,   2,   3, ...,  22,  23,  22],\n",
       "       [  1,   0,  -1, ..., -50, -49, -48],\n",
       "       ...,\n",
       "       [  1,   2,   1, ...,  44,  43,  44],\n",
       "       [ -1,  -2,  -1, ..., -10,  -9, -10],\n",
       "       [ -1,  -2,  -3, ...,   8,   9,   8]])"
      ]
     },
     "execution_count": 12,
     "metadata": {},
     "output_type": "execute_result"
    }
   ],
   "source": [
    "walks"
   ]
  },
  {
   "cell_type": "code",
   "execution_count": 13,
   "id": "6ff3b903-8f87-46ff-9829-37063fee5df2",
   "metadata": {},
   "outputs": [
    {
     "data": {
      "text/plain": [
       "2"
      ]
     },
     "execution_count": 13,
     "metadata": {},
     "output_type": "execute_result"
    }
   ],
   "source": [
    "walks.ndim"
   ]
  },
  {
   "cell_type": "code",
   "execution_count": 14,
   "id": "1b8bce2e-6f39-4491-aac6-fc302e6a7756",
   "metadata": {},
   "outputs": [
    {
     "data": {
      "text/plain": [
       "(5000, 1000)"
      ]
     },
     "execution_count": 14,
     "metadata": {},
     "output_type": "execute_result"
    }
   ],
   "source": [
    "walks.shape"
   ]
  },
  {
   "cell_type": "code",
   "execution_count": 15,
   "id": "b1ea0d44-4afc-4e90-903d-31caf09d614c",
   "metadata": {},
   "outputs": [
    {
     "data": {
      "text/plain": [
       "(-120, 114)"
      ]
     },
     "execution_count": 15,
     "metadata": {},
     "output_type": "execute_result"
    }
   ],
   "source": [
    "walks.min(), walks.max()"
   ]
  },
  {
   "cell_type": "code",
   "execution_count": 16,
   "id": "103255e2-0c4b-4b85-b3f4-4aed3ee26f0c",
   "metadata": {},
   "outputs": [
    {
     "data": {
      "text/plain": [
       "array([ True, False,  True, ...,  True,  True, False])"
      ]
     },
     "execution_count": 16,
     "metadata": {},
     "output_type": "execute_result"
    }
   ],
   "source": [
    "hits30 = (np.abs(walks) >= 30).any(axis=1)\n",
    "hits30"
   ]
  },
  {
   "cell_type": "code",
   "execution_count": 17,
   "id": "0710c6b4-46c1-4925-9f32-0ca261089911",
   "metadata": {},
   "outputs": [
    {
     "data": {
      "text/plain": [
       "(5000,)"
      ]
     },
     "execution_count": 17,
     "metadata": {},
     "output_type": "execute_result"
    }
   ],
   "source": [
    "hits30.shape"
   ]
  },
  {
   "cell_type": "code",
   "execution_count": 18,
   "id": "6fc40ce3-e5b9-4bf5-995f-501156790e8e",
   "metadata": {},
   "outputs": [
    {
     "data": {
      "text/plain": [
       "3395"
      ]
     },
     "execution_count": 18,
     "metadata": {},
     "output_type": "execute_result"
    }
   ],
   "source": [
    "hits30.sum()    # Number of walks that hit 30 or -30"
   ]
  },
  {
   "cell_type": "code",
   "execution_count": 19,
   "id": "27134bbe-a86f-4012-a4b0-310884a49271",
   "metadata": {},
   "outputs": [
    {
     "data": {
      "text/plain": [
       "array([705, 201, 491, ..., 149, 219, 259], dtype=int64)"
      ]
     },
     "execution_count": 19,
     "metadata": {},
     "output_type": "execute_result"
    }
   ],
   "source": [
    "crossing_times = (np.abs(walks[hits30]) >= 30).argmax(axis=1)\n",
    "crossing_times"
   ]
  },
  {
   "cell_type": "code",
   "execution_count": 20,
   "id": "f0a1bb63-e918-42e5-b034-25fea0b66f32",
   "metadata": {},
   "outputs": [
    {
     "data": {
      "text/plain": [
       "3395"
      ]
     },
     "execution_count": 20,
     "metadata": {},
     "output_type": "execute_result"
    }
   ],
   "source": [
    "len(crossing_times)"
   ]
  },
  {
   "cell_type": "code",
   "execution_count": 21,
   "id": "e7cbed8a-7731-46cb-8ca5-594e14585076",
   "metadata": {},
   "outputs": [
    {
     "data": {
      "text/plain": [
       "500.6183"
      ]
     },
     "execution_count": 21,
     "metadata": {},
     "output_type": "execute_result"
    }
   ],
   "source": [
    "crossing_times.mean()"
   ]
  },
  {
   "cell_type": "markdown",
   "id": "1e2d9b8c-ee91-4c94-a895-2a003a9fa5fe",
   "metadata": {},
   "source": [
    "#### 4.7.4 Simulating Random Walks My Way"
   ]
  },
  {
   "cell_type": "code",
   "execution_count": 25,
   "id": "41680bb7-2e9f-4275-b71b-10d73294681c",
   "metadata": {},
   "outputs": [],
   "source": [
    "n_walks = 5000\n",
    "n_steps = 1000\n",
    "rng = np.random.default_rng(seed=12345)"
   ]
  },
  {
   "cell_type": "code",
   "execution_count": 26,
   "id": "3953bab4-7d4b-4e93-a5a9-854c0c738e42",
   "metadata": {},
   "outputs": [
    {
     "data": {
      "text/plain": [
       "array([[  1,   0,   1, ..., -48, -47, -46],\n",
       "       [  1,   2,   3, ...,  22,  23,  22],\n",
       "       [  1,   0,  -1, ..., -50, -49, -48],\n",
       "       ...,\n",
       "       [  1,   2,   1, ...,  44,  43,  44],\n",
       "       [ -1,  -2,  -1, ..., -10,  -9, -10],\n",
       "       [ -1,  -2,  -3, ...,   8,   9,   8]], dtype=int64)"
      ]
     },
     "execution_count": 26,
     "metadata": {},
     "output_type": "execute_result"
    }
   ],
   "source": [
    "# (rng.integers() * 2 - 1) converts 0's and 1's into -1's and 1's, suitable for the random walk.\n",
    "# This one-liner is more compact, but less readable.\n",
    "my_walks = (rng.integers(0, 2, size=(n_walks, n_steps)) * 2 - 1).cumsum(axis=1)\n",
    "my_walks"
   ]
  },
  {
   "cell_type": "code",
   "execution_count": 27,
   "id": "09c2ca85-7153-427c-b949-8f4ca3ed9c1d",
   "metadata": {},
   "outputs": [
    {
     "data": {
      "text/plain": [
       "(-120, 114)"
      ]
     },
     "execution_count": 27,
     "metadata": {},
     "output_type": "execute_result"
    }
   ],
   "source": [
    "my_walks.min(), my_walks.max()"
   ]
  },
  {
   "cell_type": "code",
   "execution_count": 28,
   "id": "8b0b5c38-0aa1-4808-ac1d-56bcb5d3c7d5",
   "metadata": {},
   "outputs": [
    {
     "data": {
      "text/plain": [
       "3395"
      ]
     },
     "execution_count": 28,
     "metadata": {},
     "output_type": "execute_result"
    }
   ],
   "source": [
    "((np.abs(my_walks) >= 30)\n",
    " .any(axis=1)\n",
    " .sum()    # Count of walks with abs() >= 30 at any time\n",
    ")"
   ]
  },
  {
   "cell_type": "code",
   "execution_count": 29,
   "id": "1df0fa39-8166-457c-b6ff-c66f5aab48f7",
   "metadata": {},
   "outputs": [
    {
     "data": {
      "text/plain": [
       "500.6183"
      ]
     },
     "execution_count": 29,
     "metadata": {},
     "output_type": "execute_result"
    }
   ],
   "source": [
    "((np.abs(walks[hits30]) >= 30)\n",
    " .argmax(axis=1)    # Corssing times\n",
    " .mean()\n",
    ")"
   ]
  },
  {
   "cell_type": "code",
   "execution_count": null,
   "id": "da5457d8-fe4a-440f-a9ff-02fc1f1b6173",
   "metadata": {},
   "outputs": [],
   "source": []
  }
 ],
 "metadata": {
  "kernelspec": {
   "display_name": "Python 3 (ipykernel)",
   "language": "python",
   "name": "python3"
  },
  "language_info": {
   "codemirror_mode": {
    "name": "ipython",
    "version": 3
   },
   "file_extension": ".py",
   "mimetype": "text/x-python",
   "name": "python",
   "nbconvert_exporter": "python",
   "pygments_lexer": "ipython3",
   "version": "3.11.0"
  }
 },
 "nbformat": 4,
 "nbformat_minor": 5
}

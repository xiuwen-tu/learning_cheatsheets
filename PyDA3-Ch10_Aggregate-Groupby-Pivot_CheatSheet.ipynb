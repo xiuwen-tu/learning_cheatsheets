{
 "cells": [
  {
   "cell_type": "markdown",
   "id": "a5895089-1d63-4966-bfe1-9085cc9661c2",
   "metadata": {},
   "source": [
    "- 10.1 Grouping Ops with `.groupby()`\n",
    "    - Group by with `g=s1.groupby(s2) or g=df.groupby([cols])`, and aggregate with ` g.mean(), .size(), .count()`;\n",
    "    - Iterate over groups with `for name, group in g:`;\n",
    "    - Select col(s) with `df.groupby('key1')[col] or df.groupby('key1')[[cols]]`;\n",
    "    - Group by with dict, Series, or func;\n",
    "        - The dict, Series, or func will be called once per row index value (or per col index value if axis=1).\n",
    "    - Group by MultiIndex Levels with `.groupby(level=, axis=)`.\n",
    "- 10.2 Data Aggregation with `g.agg()`\n",
    "    - Simple aggregation with `g.method() or g.agg()`;\n",
    "    - Col-wise and multiple-func aggregation with `g.agg()`;\n",
    "    - Aggregate without row indexes using `.groupby(, as_index=False)`.\n",
    "- 10.3 General split-apply-combine with `g.apply()`\n",
    "    - Basic Usage with `g.apply(func, args)`;\n",
    "    - Supressing the Group Keys with `.groupby(, group_keys=False)`;\n",
    "    - Quantile and Bucket Analysis with `df.groupby(pd.[q]cut()).agg()`;\n",
    "    - Eg.: Filling NA with Group-Specific Values with `s.groupby().apply(lambda s_: s_.fillna(s_.mean()))`;\n",
    "    - Eg.: Random Sampling and Permutation with `s.groupby().apply(lambda group_: group_.sample())`;\n",
    "    - Eg.: Weighted average by group with `.apply(lambda group_: np.average(group_['data'], weights=group_['weights']))`;\n",
    "        - Correlation by group with `df.groupby().apply(lambda group_: group_.corrwith(group_['SPX']))`;\n",
    "    - Group-wise Linear Regression `Need to follow up statsmodels`.\n",
    "- 10.4 Group Transforms and Unwrapped Groupbys with `g.transform()`\n",
    "    - Convenient when adding a new col to the original DF.\n",
    "        - Method `.transform()` has more constraints on the func than `.apply()`.\n",
    "- 10.5 Pivot Tables and Cross-Tabulation\n",
    "    - Aggregate data with `df.pivot_table(index=, columns=, values=, aggfunc=, ...)`;\n",
    "        - Contrast: `df.pivot()` is a different method that reshapes data but does not aggregate.\n",
    "    - Compute group counts or frequencies with `pd.crosstab(index, columns)`."
   ]
  },
  {
   "cell_type": "code",
   "execution_count": null,
   "id": "b3ef3e10-cada-40a1-8b0f-5b7db50e8536",
   "metadata": {},
   "outputs": [],
   "source": []
  }
 ],
 "metadata": {
  "kernelspec": {
   "display_name": "Python 3 (ipykernel)",
   "language": "python",
   "name": "python3"
  },
  "language_info": {
   "codemirror_mode": {
    "name": "ipython",
    "version": 3
   },
   "file_extension": ".py",
   "mimetype": "text/x-python",
   "name": "python",
   "nbconvert_exporter": "python",
   "pygments_lexer": "ipython3",
   "version": "3.11.0"
  }
 },
 "nbformat": 4,
 "nbformat_minor": 5
}

{
 "cells": [
  {
   "cell_type": "markdown",
   "id": "add0a90b-aeaa-4f34-9c4d-6c04afbe5cf6",
   "metadata": {},
   "source": [
    "- Making informative visualizations or plots is one of the most important tasks in data analysis.\n",
    "- 9.1 Matplotlib Primer\n",
    "    - The matplotlib gallery and docs are the best resource for learning advanced features.\n",
    "    - Convenience method `fig, ax = plt.subplots()` or `fig, axes = plt.subplots(r, c)`;\n",
    "    - Adjust subplots with `fig.subplots_adjust(left=, right=, top=, bottom=, wspace=, hspace=)`;\n",
    "    - `ax.plot(color=, linestyle=, marker=, drawstyle=, label=)`;\n",
    "    - Batch setting method `ax.set(xticks=, xticklabels=, xlabel=, title=)`;\n",
    "    - Control ticks with `ax.set_xticklabels([labels], rotation=, fontsize=)`;\n",
    "    - Add legend with `ax.legend(loc=)` and `label=` or `label=\"_nolegend_\"`;\n",
    "    - Add annotations with `ax.text(), .arrow(), .annotate()`;\n",
    "    - Add shapes or patches with `ax.add_patch(plt.Rectangle(...))`;\n",
    "    - Save plots with `fig.savefig(fname, dpi=, facecolor=\"w\", edgecolor=)`.\n",
    "- 9.2 Plotting with Pandas and Seaborn\n",
    "    - Use pandas for basic plots: `.plot(), .plot.bar(), .plot.hbar(), .plot.hist(), .plot.density()`;\n",
    "        - See Tables 9-3 (p299) and 9-4 (p301) for method args for Series and DF, respectively.\n",
    "    - Use Seaborn for stat plots: `sns.barplot(), .histplot(), .regplot(), .pairplot(), .catplot()`."
   ]
  },
  {
   "cell_type": "code",
   "execution_count": null,
   "id": "190f6410-6c43-4c63-b6bf-45ec6884760f",
   "metadata": {},
   "outputs": [],
   "source": []
  }
 ],
 "metadata": {
  "kernelspec": {
   "display_name": "Python 3 (ipykernel)",
   "language": "python",
   "name": "python3"
  },
  "language_info": {
   "codemirror_mode": {
    "name": "ipython",
    "version": 3
   },
   "file_extension": ".py",
   "mimetype": "text/x-python",
   "name": "python",
   "nbconvert_exporter": "python",
   "pygments_lexer": "ipython3",
   "version": "3.11.0"
  }
 },
 "nbformat": 4,
 "nbformat_minor": 5
}

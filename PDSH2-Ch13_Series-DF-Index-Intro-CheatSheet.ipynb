{
 "cells": [
  {
   "cell_type": "markdown",
   "id": "e7e07ef6-a0e6-4752-830f-b04ac9de7e19",
   "metadata": {},
   "source": [
    "- 13.1 Series\n",
    "    - Series as generalized NumPy 1D array with an explicit index.\n",
    "        - Access the array: `s.array` or `s.to_numpy()`\n",
    "        - Access the index: `s.index`\n",
    "        - The explicit index gives it add'l capabilities, e.g. data context, accessing by index, and index alignment.\n",
    "    - Series as specialized dict with a typed index.\n",
    "        - Access the elements: `s[idx]` or `s[idx1:idx2]`\n",
    "        - The typed index enables certain efficient ops, e.g. indexing, slicing, etc\n",
    "    - Series constructor `pd.Series(data, index=)`.\n",
    "- 13.2 DataFrame\n",
    "    - DF as a generalized NumPy 2D array with explicit indices.\n",
    "        - Access the array: `df.array` or `df.to_numpy()`\n",
    "        - Access the indices: `df.index` and `df.columns`\n",
    "    - DF as specialized Dict for Cols.\n",
    "        - Access a _col_: `df['col_name']`\n",
    "            - Contrast: NumPy array `data[0]` returns a _row_.\n",
    "    - DF constructor: `pd.DataFrame()`\n",
    "        - From a dict of series\n",
    "        - From a dict of dicts\n",
    "        - From a list of dicts\n",
    "        - From a 2D NumPy array\n",
    "- 13.3 Index\n",
    "    - Index as an immutable array: `idx.size, .shape, .ndim, .dtype`\n",
    "        - The immutability makes it safe to share indices among pd.S' and pd.DFs.\n",
    "    - Index as ordered set: `idxA.union(idxB), idxA.intersection(idxB), idxA.symmetric_difference(idxB)`\n",
    "        - To facilitate ops such as joins across datasets.\n",
    "    - Constructor: `pd.Index()`"
   ]
  },
  {
   "cell_type": "code",
   "execution_count": null,
   "id": "3b76cf0c-3f2f-4d5e-927f-4f9849ab1863",
   "metadata": {},
   "outputs": [],
   "source": []
  }
 ],
 "metadata": {
  "kernelspec": {
   "display_name": "Python 3 (ipykernel)",
   "language": "python",
   "name": "python3"
  },
  "language_info": {
   "codemirror_mode": {
    "name": "ipython",
    "version": 3
   },
   "file_extension": ".py",
   "mimetype": "text/x-python",
   "name": "python",
   "nbconvert_exporter": "python",
   "pygments_lexer": "ipython3",
   "version": "3.11.0"
  }
 },
 "nbformat": 4,
 "nbformat_minor": 5
}

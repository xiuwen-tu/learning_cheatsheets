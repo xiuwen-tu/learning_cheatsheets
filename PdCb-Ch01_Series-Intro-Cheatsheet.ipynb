{
 "cells": [
  {
   "cell_type": "markdown",
   "id": "4a716473-4477-47e3-acd3-ed1719e517b0",
   "metadata": {},
   "source": [
    "- 1.1 Dissecting the anatomy of a DataFrame\n",
    "    - `pd.set_option('display.max_columns', 60, 'display.max_rows', 30)`\n",
    "    - `df.head()`\n",
    "- 1.2 DataFrame Attributes\n",
    "    - `cols = df.columns; idx = df.index; vals = df.values`;\n",
    "    - `type(idx)` returns `pandas.core.indexes.range.RangeIndex`;\n",
    "    - `type(cols)` returns `pandas.core.indexes.base.Index`;\n",
    "    - `issubclass(type(idx), pd.Index)` True, `type(idx) is pd.Index` False;\n",
    "    - `issubclass(type(cols), pd.Index)` True, `issubclass(type(cols), pd.Index)` True.\n",
    "- 1.3 Understanding data types\n",
    "    - `df.dtypes` list the dtype of each col;\n",
    "    - `df.dtypes.value_counts()` list the count of each present dtype;\n",
    "- 1.4 Selecting a Column\n",
    "    - 4 ways to select a col:\n",
    "        - `df[col_name], df.col_name, df.loc[:, col_name], df.iloc[:, col_num]`\n",
    "            - `col_num = df.columns.get_loc(col_name)`\n",
    "    - Col or Series attrs:\n",
    "        - `movies['director_name'].index, .dtype, .size, .name, type(movies['director_name'])`\n",
    "        - `movies['director_name'].apply(type).unique()` returns 'float' for missing data, in addition to 'str';\n",
    "            - `array([<class 'str'>, <class 'float'>], dtype=object)`\n",
    "- 1.5 Calling Series Methods\n",
    "    - `len(dir(pd.Series)), len(dir(pd.DataFrame)), len(set(dir(pd.Series)) & set(dir(pd.DataFrame)))` returns\n",
    "        - 422, 437, 367; # Great there are mostly common ones!\n",
    "    - `s.describe(), .sample(), .head(), .tail(), .dtype, .shape, .size, .count, .unique(),`\n",
    "        - Numerical type: `s.min(), .median(), .mean(), .std(), .max(), .quantile(1_or_more_qunants)`;\n",
    "        - Non-numerical type: `s.unique(), s.nunique(), s.mode()`\n",
    "    - `s.isna(), .isna().sum(), .isna().mean(), .fillna(), .dropna()`\n",
    "- 1.6 Series Operations\n",
    "    - Operators `+`, `-`, `*`, `/`, `//`, `%`, `>`, `==`.\n",
    "- 1.7 Chaining Series Methods\n",
    "    - `director.value_counts().head(3)`\n",
    "    - `fb_likes.isna().sum()`\n",
    "    - `(fb_likes.fillna(0).astype(int).head())` # Having parentheses allows putting one method per row\n",
    "- 1.8 Renaming Column Names\n",
    "    - `movies.rename(columns=col_map_dict)`\n",
    "    - `movies.rename(columns=cleaning_func)`\n",
    "- 1.9 Rename the row and column labels with list assignments\n",
    "    - `idx = movies.index.tolist(); assign_idx_elements; movies.index = idx`\n",
    "    - `movies.columns = [col.strip().lower().replace(' ', '_') for col in movies.columns]`\n",
    "- 1.10 Creating and Deleting columns\n",
    "    - Creating a new col:\n",
    "        - `df[new_col_name] = `\n",
    "        - `df.assign(new_col_name=)` # Suitable for chaining methods"
   ]
  },
  {
   "cell_type": "code",
   "execution_count": null,
   "id": "4e7dc62c-d220-4af8-a183-ee5fd32fd780",
   "metadata": {},
   "outputs": [],
   "source": []
  }
 ],
 "metadata": {
  "kernelspec": {
   "display_name": "Python 3 (ipykernel)",
   "language": "python",
   "name": "python3"
  },
  "language_info": {
   "codemirror_mode": {
    "name": "ipython",
    "version": 3
   },
   "file_extension": ".py",
   "mimetype": "text/x-python",
   "name": "python",
   "nbconvert_exporter": "python",
   "pygments_lexer": "ipython3",
   "version": "3.11.0"
  }
 },
 "nbformat": 4,
 "nbformat_minor": 5
}

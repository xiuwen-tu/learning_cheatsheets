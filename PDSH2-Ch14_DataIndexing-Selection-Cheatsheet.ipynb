{
 "cells": [
  {
   "cell_type": "markdown",
   "id": "23c53559-75cf-4e57-b8f8-4db69931c16b",
   "metadata": {},
   "source": [
    "- 14.1 Data Selection in Series\n",
    "    - Series as dict: `s.keys()`, `s.items()`, `s[new_label] = new_val`;\n",
    "    - Series as 1D array:\n",
    "        - Slicing: `s[label1:label2]`, `s[int1:int2]`,\n",
    "        - Masking: `s[mask1]`, `s[mask1 & mask2]`,\n",
    "        - Fancy indexing: `s[[label1, label2]]`\n",
    "            - __Q: definition?__\n",
    "    - Preferred indexers: \n",
    "        - `s.loc[]` dedicated to label-based indexing and slicing,\n",
    "        - `s.iloc[]` dedicated to integer location-based indexing and slicing,\n",
    "        - These help avoid some pitfalls / subtle bugs with integer labels.\n",
    "- 14.2 Data Selection in DF\n",
    "    - DF as dict:\n",
    "        - Dict-style access `df[key]`: generally good with a few more key strokes,\n",
    "        - Attr-style access `df.key`: a few less key strokes, but may not work if\n",
    "            - Key is not a proper Python var name, e.g. there are space(s) in key name,\n",
    "            - There is a DF method or attr with the same name as key.\n",
    "        - Tip: Do col assignment via dict-style access, not attr-style, to avoid overwritting, etc.\n",
    "    - DF as 2D array:\n",
    "        - Access the array with `df.array` and `df.to_numpy()`, not `df.values`;\n",
    "            - __Q: Why?__\n",
    "        - Transpose with `df.T` or `df.transpose()`, but at risk of losing col dtypes;\n",
    "    - Preferred indexers:\n",
    "        - Filter rows and select cols together with `df.loc[row_mask, [col_selection]]`;\n",
    "        - Closed slicing with `df.loc[]` vs half-closed slicing `df.iloc[]`;\n",
    "        - Adding a new row with `df.loc[new_label, :] = row_vals_tuple`.\n",
    "    - Add'l indexing conventions:\n",
    "        - Recall `df[col_name]` indexes a col;\n",
    "        - Slicing `df[label1:label2]` refers to rows, closed;\n",
    "        - Slicing `df[int1:int2]` refers to rows, half-open;\n",
    "        - Direct masking `df[df.row_name > 100]` refers to rows."
   ]
  },
  {
   "cell_type": "code",
   "execution_count": null,
   "id": "d7abd751-a670-44ed-ab94-f405710a191a",
   "metadata": {},
   "outputs": [],
   "source": []
  }
 ],
 "metadata": {
  "kernelspec": {
   "display_name": "Python 3 (ipykernel)",
   "language": "python",
   "name": "python3"
  },
  "language_info": {
   "codemirror_mode": {
    "name": "ipython",
    "version": 3
   },
   "file_extension": ".py",
   "mimetype": "text/x-python",
   "name": "python",
   "nbconvert_exporter": "python",
   "pygments_lexer": "ipython3",
   "version": "3.11.0"
  }
 },
 "nbformat": 4,
 "nbformat_minor": 5
}

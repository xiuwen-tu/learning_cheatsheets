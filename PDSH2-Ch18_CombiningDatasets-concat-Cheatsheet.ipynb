{
 "cells": [
  {
   "cell_type": "markdown",
   "id": "a9bfd4f8-3bbd-4e94-aad4-da7c3790283e",
   "metadata": {},
   "source": [
    "- 18.1 `np.concatenate(ax=)`\n",
    "- 18.2 `pd.concat()`\n",
    "    - Simple concat with `pd.concat([df_names])`;\n",
    "    - For simplicity, do not use keyward `axis=1` unless have to, i.e. prefer to add rows only with `pd.concat()`;\n",
    "    - Handle duplicate indices with `ignore_index=True`, `verify_integrity=True`, or `keys=[names]`;\n",
    "        - Prefer `ignore_index=True`.\n",
    "    - Specify col join with keyword `join='inner'` (default is 'outer');\n",
    "        - Recipe `pd.concat([df1, df2.reindex(df1.columns, axis=1)])` to go beyond join='inner' or 'outer'.\n",
    "- 18.4 Deprecated: `df1.append(df2)`"
   ]
  },
  {
   "cell_type": "code",
   "execution_count": null,
   "id": "47092de0-23f1-4a0c-ac82-24b4aca0c990",
   "metadata": {},
   "outputs": [],
   "source": []
  }
 ],
 "metadata": {
  "kernelspec": {
   "display_name": "Python 3 (ipykernel)",
   "language": "python",
   "name": "python3"
  },
  "language_info": {
   "codemirror_mode": {
    "name": "ipython",
    "version": 3
   },
   "file_extension": ".py",
   "mimetype": "text/x-python",
   "name": "python",
   "nbconvert_exporter": "python",
   "pygments_lexer": "ipython3",
   "version": "3.11.0"
  }
 },
 "nbformat": 4,
 "nbformat_minor": 5
}

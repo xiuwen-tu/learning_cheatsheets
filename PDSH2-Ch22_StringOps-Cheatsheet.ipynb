{
 "cells": [
  {
   "cell_type": "markdown",
   "id": "b4d15312-c475-408d-9d2a-80e1863202ed",
   "metadata": {},
   "source": [
    "- 22.1 Pandas String Ops: Vectorized and Null-Aware\n",
    "- 22.2 Tables of Pandas String Methods\n",
    "    - 32 methods that parallel Python `str`:\n",
    "        - 4 case-methods: `capitalize(), lower(), swapcase(), upper()`;\n",
    "        - 3 is-methods for case: `islower(), istitle(), isupper()`;\n",
    "        - 5 is-methods for alpha-numeric: `isalnum(), isalpha(), isdecimal(), isdigit(), isnumeric()`;\n",
    "        - 1 is-methods for space: `isspace()`;\n",
    "        - 7 r-methods: `rfind(), rindex(), rjust(), rpartition(), rsplit(), rstrip(), endswith()`;\n",
    "        - 7 l-methods: `find(), index(), ljust(), partition(), split(), lstrip(), , startswith()`;\n",
    "        - 2 l-and-r-methods: `center(), strip()`\n",
    "        - 3 misc: `len(), translate(), zfill()`\n",
    "    - 8 methods using Regular Expression:\n",
    "        - `.match(), .extract(), .findall(), .replace(), .contains(), .count(), .split(), .rsplit()`\n",
    "    - 10 misc methods:\n",
    "        - `.get(), .slice(), .slice_replace(), .cat(), .repeat(), .normalize(), .pad(), .wrap(), .join(), .get_dummies()`\n",
    "- 22.3 Example: Recipe Database\n",
    "    - Util func: `def gunzip_shutil():`\n",
    "    - Inspect name of recipe with longest ingredients list: `rcps.name[np.argmax(rcps.ingredients.str.len())]`\n",
    "    - Count breakfast recipes: `rcps.description.str.contains('[Bb]reakfast').sum()`\n",
    "    - Count recipes including: `rcps.ingredients.str.contains('[Cc]innamon').sum()`\n",
    "    - `spice_df = pd.DataFrame({spice: rcps.ingredients.str.contains(spice, re.IGNORECASE) for spice in spice_list})`\n",
    "    - `selection = spice_df.query('parsley & paprika & tarragon')`"
   ]
  },
  {
   "cell_type": "code",
   "execution_count": null,
   "id": "4fa942b5-f363-4e2f-8eec-732502603269",
   "metadata": {},
   "outputs": [],
   "source": []
  }
 ],
 "metadata": {
  "kernelspec": {
   "display_name": "Python 3 (ipykernel)",
   "language": "python",
   "name": "python3"
  },
  "language_info": {
   "codemirror_mode": {
    "name": "ipython",
    "version": 3
   },
   "file_extension": ".py",
   "mimetype": "text/x-python",
   "name": "python",
   "nbconvert_exporter": "python",
   "pygments_lexer": "ipython3",
   "version": "3.11.0"
  }
 },
 "nbformat": 4,
 "nbformat_minor": 5
}

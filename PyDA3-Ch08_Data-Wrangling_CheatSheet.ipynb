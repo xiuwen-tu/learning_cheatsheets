{
 "cells": [
  {
   "cell_type": "markdown",
   "id": "84f3a39e-7822-4a36-b543-f51385ea08ee",
   "metadata": {
    "tags": []
   },
   "source": [
    "- 8.1 Hierarchical Indexing: i) felxible data selection; ii) work with higher-D data.\n",
    "    - Partial indexing - Concisely select subsets of data: `s.loc[:, 2]` or `df['Ohio']`;\n",
    "        - TODO: Find out more about partial indexing with DFs;\n",
    "    - Convert `s` with MultiIndex to a DF with `s.unstack()`, and back with `s.unstack().stack()`;\n",
    "        - This is Important in reshaping data.\n",
    "    - When `df.index.nlevels >= 2`, attr `df.index.names` supersedes attr `df.index.name`;\n",
    "        - TODO: Confirm this with `df.columns.names`;\n",
    "    - Reorder MultiIndex levels with `df.swaplevel('key1', 'key2')`;\n",
    "    - Specify level(s) to sort with `df.sort_index(level=)`, to summarize with `df.groupby(level=).agg()`;\n",
    "    - Use `df.set_index([col1, col2], drop=)` to index with cols, and back with `df.reset_index()`.\n",
    "- 8.2 Combining and Merging Datasets\n",
    "    - Database-style joins: Use `pd.merge(left_df, right_df, on=, how=)` if the key cols have the same name;\n",
    "        - Use `pd.merge(left_df, right_df, left_on=, right_on=, how=)` if the key cols have different names;\n",
    "        - Other options include `left_index=, suffixes=, sort=, validate=, indicator=`.\n",
    "    - Merging on index with `pd.merge(left_index=, right_index=)`;\n",
    "        - Use `left_df.join(right_df)` or `left_df.join([right_dfs])`to simlify merging by index (of right_df(s)),\n",
    "            - Options include `how=` (default left join), `on=` (col of left_df).\n",
    "    - Concatenate or stack with `pd.concat([ss|dfs])`, extending NumPy's `np.concatenate([arrs], axis=)`:\n",
    "        - For simplicity, let's use `pd.concat(axis=0)` only, and use `pd.merge(axis=1)` only;\n",
    "        - Identify the source df's in the result with `keys=`, which become the outer level of MultiIndex;\n",
    "        - _Best practice_: Discard the default int axis labels (i.e. no relevant data) with `ignore_index=True`;\n",
    "        - Check for duplicates in the resulting index with `verify_integrity=True` if cannot have duplicates.\n",
    "    - __Patch missing data__ with a 2nd source using `s1.combine_first(s2)` or `df1.combine_first(df2)`:\n",
    "- 8.3 Reshaping and Pivoting: Basic ops for rearranging tabular data.\n",
    "    - Reshaping with hierarchical index: A consistent way to rearrange data in a DF.\n",
    "        - i) Use `df.stack(dropna=)` to stack or 'rotate' the cols to the rows, resulting in MultiIndex;\n",
    "        - ii) Use `s.unstack(level=)` to rearrange the MultiIndex level back to cols of a DF;\n",
    "            - Unstacking might introduce NAs, and stacking filters out NAs by default to make it invertible. \n",
    "        - iii) `df.unstack(level=)` moves the row MultiIndex level to the lowest level in the col index.\n",
    "    - Pivot long to wide format.\n",
    "        - Long format: A common way to store multiple time series in DBs and CSV files, with each val in a row.\n",
    "        - `long_data = data.stack().reset_index().rename(columns={0: 'value'})`\n",
    "        - `pivoted_data = long_data.pivot(index=, columns=, values=)` is equivalent to the following:\n",
    "            - `unstacked_data = long_data.set_index(['date', 'item']).unstack(level='item')`\n",
    "    - Pivot wide to long format.\n",
    "        - `pd.melt(wide_df, id_vars=, value_vars=)`"
   ]
  },
  {
   "cell_type": "code",
   "execution_count": null,
   "id": "e9e8dbcf-bcff-41ca-9859-9d3ee9871805",
   "metadata": {},
   "outputs": [],
   "source": []
  }
 ],
 "metadata": {
  "kernelspec": {
   "display_name": "Python 3 (ipykernel)",
   "language": "python",
   "name": "python3"
  },
  "language_info": {
   "codemirror_mode": {
    "name": "ipython",
    "version": 3
   },
   "file_extension": ".py",
   "mimetype": "text/x-python",
   "name": "python",
   "nbconvert_exporter": "python",
   "pygments_lexer": "ipython3",
   "version": "3.11.0"
  }
 },
 "nbformat": 4,
 "nbformat_minor": 5
}

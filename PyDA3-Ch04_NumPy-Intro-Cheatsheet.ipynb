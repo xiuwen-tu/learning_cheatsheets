{
 "cells": [
  {
   "cell_type": "markdown",
   "id": "53193659-3a0a-4861-8b9c-6ada65d28ede",
   "metadata": {
    "tags": []
   },
   "source": [
    "- 4.1 NumPy `ndarray` objects:\n",
    "    - Create arrays:\n",
    "        - `np.array()` copies, `np.asarray()` does not copy if input already `ndarray`;\n",
    "        - `np.arange()` like Python range();\n",
    "        - `np.ones()`, `np.zeros()`, `np.empty()`, `np.full()`: Specify shape;\n",
    "            - Warning: Use `np.empty()` only when initializing afterwards before use for sure;\n",
    "        - `np.ones_like()`, `np.zeros_like()`, `np.empty_like()`, `np.full_like()`: Specify eg. for shape;\n",
    "        - `np.eye()`, `np.identity()`: Square NxN identity matrix.\n",
    "    - A slice of a NumPy array is a view (and can be made a copy with `.copy()`); \n",
    "        - whereas A slice of a Python list is a copy;\n",
    "    - NumPy 2D or higher-D arrays can be indexed using 1 `[]` with index vals separated by comma inside; \n",
    "        - whereas Python nested lists have to be indexed with multiple full brackets `[]`.\n",
    "    - Boolean indexing\n",
    "        - `new_val = data[mask]` creates a copy of data where mask is True, and labels the new copy new_val;\n",
    "        - `data[mask] = some_val` assigns some_val to elements of data where mask is True.\n",
    "    - Fancy Indexing with Integer Arrays\n",
    "        - `new_val = data[int_arr]` creates a copy of indexed data elements, and labels the new copy new_val;\n",
    "        - `data[int_arr] = some_val` assigns some_val to indexed data elements.\n",
    "    - Transpose an array with `arr.T`, swap axes with `arr.swapaxes(i, j)`.\n",
    "- 4.2 Pseudorandom Number Generator\n",
    "    - `rng = np.random.default_rng(seed=12345)`    # There are ~40 different distributions.\n",
    "    - `data = rng.standard_normal((3, 4))`\n",
    "- 4.3 Universal Functions or Ufuncs: Fast Element-Wise Array Funcs\n",
    "    - Unary vs binary ufuncs;\n",
    "    - Returning multiple arrays, e.g. `np.modf`;\n",
    "    - Optional argument `out=`.\n",
    "- 4.4 Array-Oriented Programming\n",
    "    - Array conditional logic with `np.where()`;\n",
    "    - Math and stat methods `.mean(), .std(), .min(), .cumsum(), np.median()`;\n",
    "    - Boolean-array methods `.sum(), .any(), .all()`;\n",
    "    - Sort in place with `.sort()`, similar to Python list function `.sort()`;\n",
    "    - Get a sorted copy with `np.sort()`, similar to Python function `sorted()`;\n",
    "    - Sort a table with 1 or more cols with pandas.\n",
    "- 4.5 Saving NumPy binary file formats (Prefer pandas, etc, for loading text :\n",
    "    - Workhorse funcs: `np.save()` and `np.load()`, file extension `.npy`;\n",
    "    - Save multiplce uncompressed arrays with `np.savez()`, file extension `.npz`;\n",
    "    - Save multiplce compressed arrays with `np.savez_compressed()`, file extension `.npz`.\n",
    "- 4.6 Common funcs in `np.linalg`:\n",
    "    - `diag, dot, trace, det, eig, inv, pinv, qr, svd, solve, lstsq`\n",
    "- 4.7 Simulating random walks with NumPy:\n",
    "    - Simulate multiple random walks:\n",
    "        - `draws = rng.integers(0, 2, size=(n_walks, n_steps))`    # 0 or 1; each row is a walk\n",
    "        - `steps = np.where(draws > 0, 1, -1)`    # keep the 1's and change the 0's to -1's\n",
    "        - `walks = steps.cumsum(axis=1)`    # Each row is a walk\n",
    "    - Extract stat metrics:\n",
    "        - `hits30 = (np.abs(walks) >= 30).any(axis=1)`\n",
    "        - `hits30.sum()`    # Count of walks hitting 30\n",
    "        - `crossing_times = (np.abs(walks[hits30]) >= 30).argmax(axis=1)`\n",
    "        - `crossing_times.mean()`"
   ]
  },
  {
   "cell_type": "markdown",
   "id": "1188dcc3-92de-4910-8fb4-c8508c3da262",
   "metadata": {},
   "source": []
  }
 ],
 "metadata": {
  "kernelspec": {
   "display_name": "Python 3 (ipykernel)",
   "language": "python",
   "name": "python3"
  },
  "language_info": {
   "codemirror_mode": {
    "name": "ipython",
    "version": 3
   },
   "file_extension": ".py",
   "mimetype": "text/x-python",
   "name": "python",
   "nbconvert_exporter": "python",
   "pygments_lexer": "ipython3",
   "version": "3.11.0"
  }
 },
 "nbformat": 4,
 "nbformat_minor": 5
}

{
 "cells": [
  {
   "cell_type": "markdown",
   "id": "7328cba9-513e-4555-ba82-e84856ee2227",
   "metadata": {},
   "source": [
    "- 17.1 A Multiply-Indexed Series\n",
    "    - Facilitates selecting rows at each index level, e.g. `s[level1, :]` or `s[:, level1]`;\n",
    "    - MultiIndex as Extra Dimension, e.g. `s.unstack()` returns a DF.\n",
    "- 17.2 Creating MultiIndex\n",
    "    - Creating in the background of `pd.Series()` or `pd.DataFrame()`;\n",
    "    - Constructors:\n",
    "        - `pd.MultiIndex.from_arrays()`\n",
    "        - `pd.MultiIndex.from_tuples()`\n",
    "        - `pd.MultiIndex.from_product()`: least typing\n",
    "        - `pd.MultiIndex(levels=, codes=)`\n",
    "    - Setting MultiIndex level names with `names=` keyward or `s.index.names` attr;\n",
    "    - MultiIndex for cols\n",
    "        - Filter an inner level of MultiIndex for cols with `df.loc[:, pd.IndexSlice[:, inner_level_label]]`\n",
    "- 17.3 Indexing and Slicing a MultiIndex\n",
    "    - Series: With _sorted_ MultiIndex, partial slicing or partial indexing of top or lower level can be done;\n",
    "    - DF: May need `pd.IndexSlice[]` for selecting/slicing, e.g. \n",
    "        - `idx = pd.IndexSlice; health_data.loc[idx[:, 1], idx[:, 'HR']]`\n",
    "- 17.4 Rearranging MultiIndex\n",
    "    - Warning: Many of the MultiIndex slicing ops will fail if it is not sorted.\n",
    "    - Index unstacking and stacking:\n",
    "        - `s.unstack(level=)` returns a DF;\n",
    "        - `df.unstack(level=)` moves the row index level to the inner level of col index;\n",
    "        - `s.unstack(level=).stack()` may restore the Series or swap index levels.\n",
    "    - Index setting and resetting: \n",
    "        - `s.reset_index(drop=False)` returns a DF with index levels added to cols;\n",
    "        - `df.reset_index(drop=False)` returns a new DF with index levels added to cols;\n",
    "        - `df.set_index([cols])` returns a new DF with MultiIndex by the specified cols."
   ]
  },
  {
   "cell_type": "code",
   "execution_count": null,
   "id": "7c12a881-7a02-4af2-a18e-139c1c29f155",
   "metadata": {},
   "outputs": [],
   "source": []
  }
 ],
 "metadata": {
  "kernelspec": {
   "display_name": "Python 3 (ipykernel)",
   "language": "python",
   "name": "python3"
  },
  "language_info": {
   "codemirror_mode": {
    "name": "ipython",
    "version": 3
   },
   "file_extension": ".py",
   "mimetype": "text/x-python",
   "name": "python",
   "nbconvert_exporter": "python",
   "pygments_lexer": "ipython3",
   "version": "3.11.0"
  }
 },
 "nbformat": 4,
 "nbformat_minor": 5
}
